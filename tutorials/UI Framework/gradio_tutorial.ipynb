{
 "cells": [
  {
   "cell_type": "markdown",
   "metadata": {},
   "source": [
    "# Gradio: From Interface to Chatbots\n",
    "\n",
    "Welcome to this tutorial on **Gradio**! Gradio is a powerful open-source Python library that makes it incredibly simple to build and share interactive web apps for your machine learning models, APIs, or arbitrary Python functions. \n",
    "\n",
    "In this notebook, we'll explore the core concepts of Gradio to get you up and running quickly. We will cover:\n",
    "\n",
    "- **Setup**: Installing Gradio and loading API keys from a `.env` file.\n",
    "- **`gr.Interface`**: The primary, high-level class for creating a UI from a function.\n",
    "- **Components**: The various input/output elements like text boxes, sliders, and image fields.\n",
    "- **`gr.Blocks`**: A low-level API for creating more complex and custom layouts.\n",
    "- **`gr.ChatInterface`**: A specialized, easy-to-use interface for building chatbots.\n",
    "- **Sharing**: How to generate a public link for your app with a single command."
   ]
  },
  {
   "cell_type": "markdown",
   "metadata": {},
   "source": [
    "## 1. Setup\n",
    "\n",
    "First, let's install `gradio` and `python-dotenv`, which we'll use to manage API keys securely."
   ]
  },
  {
   "cell_type": "code",
   "execution_count": 15,
   "metadata": {},
   "outputs": [],
   "source": [
    "# Uncomment the following line to install necessary packages\n",
    "!pip install -q gradio python-dotenv -q"
   ]
  },
  {
   "cell_type": "code",
   "execution_count": 2,
   "metadata": {},
   "outputs": [
    {
     "name": "stdout",
     "output_type": "stream",
     "text": [
      "API keys loaded!\n"
     ]
    }
   ],
   "source": [
    "import gradio as gr\n",
    "import os\n",
    "from dotenv import load_dotenv\n",
    "\n",
    "# Load environment variables from .env file\n",
    "load_dotenv()\n",
    "\n",
    "openai_api_key = os.getenv(\"OPENAI_API_KEY\")\n",
    "\n",
    "print(\"API keys loaded!\")"
   ]
  },
  {
   "cell_type": "markdown",
   "metadata": {},
   "source": [
    "## 2. The `gr.Interface` Class: The Core of Gradio\n",
    "\n",
    "The easiest way to create a UI is with the `gr.Interface` class. It's designed to wrap any Python function with an interactive interface. It requires three core arguments:\n",
    "\n",
    "- `fn`: The function to wrap.\n",
    "- `inputs`: The input component(s) for the user (e.g., `\"text\"`, `\"image\"`, `\"slider\"`).\n",
    "- `outputs`: The output component(s) to display the result.\n",
    "\n",
    "Let's start with a simple \"Hello World\"."
   ]
  },
  {
   "cell_type": "code",
   "execution_count": 4,
   "metadata": {},
   "outputs": [
    {
     "name": "stdout",
     "output_type": "stream",
     "text": [
      "* Running on local URL:  http://127.0.0.1:7861\n",
      "* To create a public link, set `share=True` in `launch()`.\n"
     ]
    },
    {
     "data": {
      "text/html": [
       "<div><iframe src=\"http://127.0.0.1:7861/\" width=\"100%\" height=\"500\" allow=\"autoplay; camera; microphone; clipboard-read; clipboard-write;\" frameborder=\"0\" allowfullscreen></iframe></div>"
      ],
      "text/plain": [
       "<IPython.core.display.HTML object>"
      ]
     },
     "metadata": {},
     "output_type": "display_data"
    },
    {
     "data": {
      "text/plain": []
     },
     "execution_count": 4,
     "metadata": {},
     "output_type": "execute_result"
    },
    {
     "name": "stdout",
     "output_type": "stream",
     "text": [
      "Created dataset file at: .gradio/flagged/dataset1.csv\n"
     ]
    }
   ],
   "source": [
    "def greet(name):\n",
    "    return f\"Hello, {name}!\"\n",
    "\n",
    "demo = gr.Interface(\n",
    "    fn=greet, \n",
    "    inputs=gr.Textbox(label=\"Name\", placeholder=\"Enter your name here...\"), \n",
    "    outputs=\"text\"\n",
    ")\n",
    "\n",
    "demo.launch()"
   ]
  },
  {
   "cell_type": "markdown",
   "metadata": {},
   "source": [
    "![Gradio UI](/gradio.png)"
   ]
  },
  {
   "cell_type": "markdown",
   "metadata": {},
   "source": [
    "### Handling Multiple Inputs and Outputs\n",
    "\n",
    "Gradio can handle functions with multiple inputs and outputs. Simply provide a list of components to the `inputs` and `outputs` arguments. The order matters!"
   ]
  },
  {
   "cell_type": "code",
   "execution_count": 5,
   "metadata": {},
   "outputs": [
    {
     "name": "stdout",
     "output_type": "stream",
     "text": [
      "* Running on local URL:  http://127.0.0.1:7862\n",
      "* To create a public link, set `share=True` in `launch()`.\n"
     ]
    },
    {
     "data": {
      "text/html": [
       "<div><iframe src=\"http://127.0.0.1:7862/\" width=\"100%\" height=\"500\" allow=\"autoplay; camera; microphone; clipboard-read; clipboard-write;\" frameborder=\"0\" allowfullscreen></iframe></div>"
      ],
      "text/plain": [
       "<IPython.core.display.HTML object>"
      ]
     },
     "metadata": {},
     "output_type": "display_data"
    },
    {
     "data": {
      "text/plain": []
     },
     "execution_count": 5,
     "metadata": {},
     "output_type": "execute_result"
    }
   ],
   "source": [
    "def calculate(num1, num2, operation):\n",
    "    if operation == \"add\":\n",
    "        result = num1 + num2\n",
    "    elif operation == \"subtract\":\n",
    "        result = num1 - num2\n",
    "    elif operation == \"multiply\":\n",
    "        result = num1 * num2\n",
    "    elif operation == \"divide\":\n",
    "        if num2 == 0:\n",
    "            return \"Error\", \"Cannot divide by zero\"\n",
    "        result = num1 / num2\n",
    "    return result, f\"Performed {operation}.\"\n",
    "\n",
    "demo = gr.Interface(\n",
    "    fn=calculate,\n",
    "    inputs=[\n",
    "        gr.Number(label=\"Number 1\"),\n",
    "        gr.Number(label=\"Number 2\"),\n",
    "        gr.Dropdown([\"add\", \"subtract\", \"multiply\", \"divide\"], label=\"Operation\")\n",
    "    ],\n",
    "    outputs=[\n",
    "        gr.Textbox(label=\"Result\"),\n",
    "        gr.Textbox(label=\"Status\")\n",
    "    ],\n",
    "    title=\"Simple Calculator\",\n",
    "    description=\"A simple calculator to demonstrate multiple inputs and outputs.\",\n",
    "    examples=[[5, 3, \"add\"], [10, 2, \"divide\"]]\n",
    ")\n",
    "\n",
    "demo.launch()"
   ]
  },
  {
   "cell_type": "markdown",
   "metadata": {},
   "source": [
    "## 3. `gr.Blocks`: For Custom Layouts\n",
    "\n",
    "When you need more control over the UI layout, `gr.Blocks` is the tool to use. It allows you to arrange components with rows, columns, and tabs, and define more complex event-driven interactions.\n",
    "\n",
    "Here, we'll create a simple app with two tabs. Notice how the button's `.click()` method wires up the components."
   ]
  },
  {
   "cell_type": "code",
   "execution_count": 6,
   "metadata": {},
   "outputs": [
    {
     "name": "stdout",
     "output_type": "stream",
     "text": [
      "* Running on local URL:  http://127.0.0.1:7863\n",
      "* To create a public link, set `share=True` in `launch()`.\n"
     ]
    },
    {
     "data": {
      "text/html": [
       "<div><iframe src=\"http://127.0.0.1:7863/\" width=\"100%\" height=\"500\" allow=\"autoplay; camera; microphone; clipboard-read; clipboard-write;\" frameborder=\"0\" allowfullscreen></iframe></div>"
      ],
      "text/plain": [
       "<IPython.core.display.HTML object>"
      ]
     },
     "metadata": {},
     "output_type": "display_data"
    },
    {
     "data": {
      "text/plain": []
     },
     "execution_count": 6,
     "metadata": {},
     "output_type": "execute_result"
    }
   ],
   "source": [
    "import numpy as np\n",
    "\n",
    "def flip_image(img):\n",
    "    return np.fliplr(img)\n",
    "\n",
    "def greet_user(name):\n",
    "    return f\"How are you, {name}?\"\n",
    "\n",
    "with gr.Blocks(theme=gr.themes.Soft()) as demo:\n",
    "    gr.Markdown(\"# Custom UI with Blocks\")\n",
    "    with gr.Tabs():\n",
    "        with gr.TabItem(\"Image Flipper\"):\n",
    "            with gr.Row():\n",
    "                image_input = gr.Image()\n",
    "                image_output = gr.Image()\n",
    "            image_button = gr.Button(\"Flip Image\")\n",
    "            \n",
    "        with gr.TabItem(\"Greeter\"):\n",
    "            name_input = gr.Textbox(label=\"Name\")\n",
    "            greeting_output = gr.Textbox(label=\"Greeting\")\n",
    "            greet_button = gr.Button(\"Greet\")\n",
    "\n",
    "    # Define interactions\n",
    "    image_button.click(fn=flip_image, inputs=image_input, outputs=image_output)\n",
    "    greet_button.click(fn=greet_user, inputs=name_input, outputs=greeting_output)\n",
    "\n",
    "demo.launch()"
   ]
  },
  {
   "cell_type": "markdown",
   "metadata": {},
   "source": [
    "## 4. Building a Chatbot with `gr.ChatInterface`\n",
    "\n",
    "Gradio excels at creating chatbots. The `gr.ChatInterface` is a high-level abstraction that creates a complete chatbot UI from a single function.\n",
    "\n",
    "Your function must accept two arguments: `message` and `history`. `history` maintains the conversation state.\n",
    "\n",
    "Let's create a simple echo bot."
   ]
  },
  {
   "cell_type": "code",
   "execution_count": null,
   "metadata": {},
   "outputs": [
    {
     "name": "stderr",
     "output_type": "stream",
     "text": [
      "/Users/devon/.pyenv/versions/3.10.14/lib/python3.10/site-packages/gradio/chat_interface.py:345: UserWarning: The 'tuples' format for chatbot messages is deprecated and will be removed in a future version of Gradio. Please set type='messages' instead, which uses openai-style 'role' and 'content' keys.\n",
      "  self.chatbot = Chatbot(\n"
     ]
    },
    {
     "name": "stdout",
     "output_type": "stream",
     "text": [
      "* Running on local URL:  http://127.0.0.1:7869\n",
      "* To create a public link, set `share=True` in `launch()`.\n"
     ]
    },
    {
     "data": {
      "text/html": [
       "<div><iframe src=\"http://127.0.0.1:7869/\" width=\"100%\" height=\"500\" allow=\"autoplay; camera; microphone; clipboard-read; clipboard-write;\" frameborder=\"0\" allowfullscreen></iframe></div>"
      ],
      "text/plain": [
       "<IPython.core.display.HTML object>"
      ]
     },
     "metadata": {},
     "output_type": "display_data"
    },
    {
     "data": {
      "text/plain": []
     },
     "metadata": {},
     "output_type": "display_data"
    }
   ],
   "source": [
    "import openai\n",
    "\n",
    "def openai_chatbot(message, history):\n",
    "    messages = []\n",
    "    # Convert history to OpenAI chat format\n",
    "    for user, assistant in history:\n",
    "        messages.append({\"role\": \"user\", \"content\": user})\n",
    "        messages.append({\"role\": \"assistant\", \"content\": assistant})\n",
    "    messages.append({\"role\": \"user\", \"content\": message})\n",
    "    try:\n",
    "        client = openai.OpenAI(api_key=openai_api_key)\n",
    "        response = client.chat.completions.create(\n",
    "            model=\"gpt-4o-mini\",\n",
    "            messages=messages,\n",
    "            stream=True\n",
    "        )\n",
    "        partial = \"\"\n",
    "        for chunk in response:\n",
    "            delta = chunk.choices[0].delta.content or \"\"\n",
    "            partial += delta\n",
    "            yield partial\n",
    "    except Exception as e:\n",
    "        yield f\"[Error] {str(e)}\"\n",
    "\n",
    "demo = gr.ChatInterface(\n",
    "    fn=openai_chatbot,\n",
    "    title=\"OpenAI GPT-4o-mini Chatbot\",\n",
    "    description=\"A chatbot powered by OpenAI's GPT-4o-mini model.\",\n",
    "    examples=[\"Hello!\", \"What is Gradio?\", \"Tell me a joke.\"]\n",
    ")\n",
    "\n",
    "demo.launch()"
   ]
  },
  {
   "cell_type": "markdown",
   "metadata": {},
   "source": [
    "![Gradio Chatbot](/gradio2.png)"
   ]
  },
  {
   "cell_type": "markdown",
   "metadata": {},
   "source": [
    "## 5. Sharing Your App\n",
    "\n",
    "One of Gradio's most powerful features is its ability to create a public, shareable link for your app. This allows anyone to try your demo from their browser, while the code runs on your machine (or wherever you are running the script).\n",
    "\n",
    "To enable this, just add `share=True` to the `launch()` method. \n",
    "\n",
    "**Note**: The link is temporary (usually lasts for 72 hours) and provides a direct tunnel to your local server. Only share it with people you trust."
   ]
  },
  {
   "cell_type": "code",
   "execution_count": null,
   "metadata": {},
   "outputs": [],
   "source": [
    "# This is a non-blocking cell to show the syntax.\n",
    "# To run it, you would call demo.launch(share=True)\n",
    "# For example:\n",
    "# \n",
    "# def hello(name):\n",
    "#    return f\"Hi {name}!\"\n",
    "# \n",
    "# demo = gr.Interface(fn=hello, inputs=\"text\", outputs=\"text\")\n",
    "# demo.launch(share=True) # This will generate a public URL like https://....gradio.live"
   ]
  },
  {
   "cell_type": "markdown",
   "metadata": {},
   "source": [
    "# Notebook Summary\n",
    "\n",
    "This notebook is a hands-on tutorial for building interactive web apps with Gradio, a Python library for rapid prototyping of machine learning demos and chatbots. It covers:\n",
    "\n",
    "- **Setup:** Installing Gradio and loading API keys securely.\n",
    "- **gr.Interface:** Creating simple UIs for Python functions.\n",
    "- **Multiple Inputs/Outputs:** Handling functions with several arguments and return values.\n",
    "- **gr.Blocks:** Building custom layouts and multi-tab apps.\n",
    "- **gr.ChatInterface:** Building a chatbot UI, including integration with OpenAI's GPT-4o-mini model.\n",
    "- **Web & Public Sharing:** How to access your app in the browser and share it with others.\n",
    "\n",
    "By the end, you'll know how to:\n",
    "- Build and launch Gradio apps from a notebook or as a web app\n",
    "- Connect to real LLMs (OpenAI, Hugging Face, etc.)\n",
    "- Share your interactive demos with others easily"
   ]
  }
 ],
 "metadata": {
  "kernelspec": {
   "display_name": "3.10.14",
   "language": "python",
   "name": "python3"
  },
  "language_info": {
   "codemirror_mode": {
    "name": "ipython",
    "version": 3
   },
   "file_extension": ".py",
   "mimetype": "text/x-python",
   "name": "python",
   "nbconvert_exporter": "python",
   "pygments_lexer": "ipython3",
   "version": "3.10.14"
  }
 },
 "nbformat": 4,
 "nbformat_minor": 2
}
