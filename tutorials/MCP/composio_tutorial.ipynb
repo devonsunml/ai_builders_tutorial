{
 "cells": [
  {
   "cell_type": "markdown",
   "metadata": {},
   "source": [
    "### Composio: Quick Start Tutorial\n",
    "\n",
    "This notebook provides an up-to-date, step-by-step guide to interacting with **GitHub** using the **Composio** library. We'll follow the latest official documentation to build a simple AI agent that can perform actions on GitHub.\n",
    "\n",
    "We will cover:\n",
    "1.  **Setup**: Installing libraries and configuring API keys.\n",
    "2.  **Authentication**: Securely connecting a user's GitHub account.\n",
    "3.  **Fetching Tools**: Getting a list of available GitHub actions for our agent.\n",
    "4.  **Executing Actions**: Using an LLM (like OpenAI's GPT) to understand a prompt and execute a GitHub action."
   ]
  },
  {
   "cell_type": "markdown",
   "metadata": {},
   "source": [
    "---\n",
    "### 1. Setup\n",
    "\n",
    "First, let's install the necessary libraries. We need `composio` for the tools and `openai` to act as the brain for our agent."
   ]
  },
  {
   "cell_type": "code",
   "execution_count": 25,
   "metadata": {},
   "outputs": [],
   "source": [
    "# Uncomment to install the packages\n",
    "# !pip install composio==0.8.0 python-dotenv -q "
   ]
  },
  {
   "cell_type": "markdown",
   "metadata": {},
   "source": [
    "---\n",
    "### 2. Authentication: Connecting to GitHub\n",
    "\n",
    "Composio uses an `entity_id` to manage connections for each of your users. Here, we'll define a unique ID for our user and initiate the connection to GitHub. Composio handles the entire OAuth2 flow."
   ]
  },
  {
   "cell_type": "code",
   "execution_count": 2,
   "metadata": {},
   "outputs": [
    {
     "name": "stdout",
     "output_type": "stream",
     "text": [
      "🔗 Visit this URL to authorize GitHub:\n",
      "👉 https://backend.composio.dev/api/v3/s/41iKBF5A\n",
      "✅ GitHub has been successfully connected!\n"
     ]
    }
   ],
   "source": [
    "from dotenv import load_dotenv\n",
    "from composio import Composio\n",
    "import os\n",
    "\n",
    "# Load environment variables from the .env file\n",
    "load_dotenv()\n",
    "\n",
    "# Initialize the Composio client\n",
    "composio = Composio()\n",
    "\n",
    "# Define a unique identifier for your user\n",
    "user_id = os.environ[\"COMPOSIO_USER_ID\"] \n",
    "# This can be a user ID from your database, an email, etc.\n",
    "\n",
    "# Initiate a connection request for the user to authorize the 'github' toolkit\n",
    "connection_request = composio.toolkits.authorize(user_id=user_id, toolkit=\"github\")\n",
    "\n",
    "print(f\"🔗 Visit this URL to authorize GitHub:\\n👉 {connection_request.redirect_url}\")\n",
    "\n",
    "# This will wait for the user to complete the authorization in their browser.\n",
    "connection_request.wait_for_connection()\n",
    "print(\"✅ GitHub has been successfully connected!\")"
   ]
  },
  {
   "cell_type": "markdown",
   "metadata": {},
   "source": [
    "---\n",
    "### 3. Fetching Available GitHub Tools\n",
    "\n",
    "Now that the user is authenticated, we can fetch all the tools (actions) that Composio provides for the GitHub toolkit. These tools are formatted to be easily understood and used by an LLM."
   ]
  },
  {
   "cell_type": "code",
   "execution_count": 6,
   "metadata": {},
   "outputs": [
    {
     "name": "stdout",
     "output_type": "stream",
     "text": [
      "Found 20 tools for GitHub. Here are a few examples:\n",
      "- GITHUB_ADD_ASSIGNEES_TO_AN_ISSUE\n",
      "- GITHUB_ADD_A_REPOSITORY_COLLABORATOR\n",
      "- GITHUB_ADD_A_SECURITY_MANAGER_TEAM\n",
      "- GITHUB_ADD_EMAIL_FOR_AUTH_USER\n",
      "- GITHUB_ADD_LABELS_TO_AN_ISSUE\n",
      "- GITHUB_APPROVE_A_WORKFLOW_RUN_FOR_A_FORK_PULL_REQUEST\n",
      "- GITHUB_COMPARE_TWO_COMMITS\n",
      "- GITHUB_CREATE_AN_ISSUE\n",
      "- GITHUB_CREATE_AN_ISSUE_COMMENT\n",
      "- GITHUB_CREATE_AN_ORGANIZATION_INVITATION\n",
      "- GITHUB_CREATE_AN_ORGANIZATION_REPOSITORY\n",
      "- GITHUB_CREATE_A_BLOB\n",
      "- GITHUB_CREATE_A_COMMIT\n",
      "- GITHUB_CREATE_A_PULL_REQUEST\n",
      "- GITHUB_CREATE_A_REFERENCE\n",
      "- GITHUB_CREATE_A_RELEASE\n",
      "- GITHUB_CREATE_A_TREE\n",
      "- GITHUB_CREATE_OR_UPDATE_FILE_CONTENTS\n",
      "- GITHUB_DELETE_A_REPOSITORY\n",
      "- GITHUB_GET_A_PULL_REQUEST\n"
     ]
    }
   ],
   "source": [
    "# Fetch a list of all available tools for the GitHub toolkit for our user\n",
    "github_tools = composio.tools.get(user_id=user_id, toolkits=[\"github\"])\n",
    "\n",
    "print(f\"Found {len(github_tools)} tools for GitHub. Here are a few examples:\")\n",
    "\n",
    "# Print the name of the first 5 available tools\n",
    "for tool in github_tools:\n",
    "    print(f\"- {tool['function']['name']}\")"
   ]
  },
  {
   "cell_type": "markdown",
   "metadata": {},
   "source": [
    "---\n",
    "### 4. Executing a GitHub Action with an LLM Agent\n",
    "\n",
    "This is where the magic happens. We'll give a natural language prompt to an OpenAI model. We'll also provide it with the GitHub tools we just fetched. The model will understand the prompt, select the correct tool, and generate the necessary arguments.\n",
    "\n",
    "Finally, `composio.provider.handle_tool_calls` will execute the action chosen by the LLM."
   ]
  },
  {
   "cell_type": "code",
   "execution_count": 7,
   "metadata": {},
   "outputs": [
    {
     "name": "stdout",
     "output_type": "stream",
     "text": [
      "🤖 Asking the LLM to choose a tool for the task...\n",
      "⚡️ Executing the chosen tool...\n",
      "\n",
      "✅ Task Completed!\n",
      "Final Response: [{'data': {'active_lock_reason': None, 'assignee': None, 'assignees': [], 'author_association': 'OWNER', 'body': 'The documentation for the project could be improved by adding more examples and clarifying the setup instructions.', 'closed_at': None, 'closed_by': None, 'comments': 0, 'comments_url': 'https://api.github.com/repos/devonsunml/ai_builders_tutorial/issues/1/comments', 'created_at': '2025-08-05T16:58:31Z', 'events_url': 'https://api.github.com/repos/devonsunml/ai_builders_tutorial/issues/1/events', 'html_url': 'https://github.com/devonsunml/ai_builders_tutorial/issues/1', 'id': 3293794334, 'labels': [], 'labels_url': 'https://api.github.com/repos/devonsunml/ai_builders_tutorial/issues/1/labels{/name}', 'locked': False, 'milestone': None, 'node_id': 'I_kwDOPUmLMs7EU1Ae', 'number': 1, 'performed_via_github_app': None, 'reactions': {'+1': 0, '-1': 0, 'confused': 0, 'eyes': 0, 'heart': 0, 'hooray': 0, 'laugh': 0, 'rocket': 0, 'total_count': 0, 'url': 'https://api.github.com/repos/devonsunml/ai_builders_tutorial/issues/1/reactions'}, 'repository_url': 'https://api.github.com/repos/devonsunml/ai_builders_tutorial', 'state': 'open', 'state_reason': None, 'sub_issues_summary': {'completed': 0, 'percent_completed': 0, 'total': 0}, 'timeline_url': 'https://api.github.com/repos/devonsunml/ai_builders_tutorial/issues/1/timeline', 'title': 'Improve documentation', 'updated_at': '2025-08-05T16:58:31Z', 'url': 'https://api.github.com/repos/devonsunml/ai_builders_tutorial/issues/1', 'user': {'avatar_url': 'https://avatars.githubusercontent.com/u/12462825?v=4', 'events_url': 'https://api.github.com/users/devonsunml/events{/privacy}', 'followers_url': 'https://api.github.com/users/devonsunml/followers', 'following_url': 'https://api.github.com/users/devonsunml/following{/other_user}', 'gists_url': 'https://api.github.com/users/devonsunml/gists{/gist_id}', 'gravatar_id': '', 'html_url': 'https://github.com/devonsunml', 'id': 12462825, 'login': 'devonsunml', 'node_id': 'MDQ6VXNlcjEyNDYyODI1', 'organizations_url': 'https://api.github.com/users/devonsunml/orgs', 'received_events_url': 'https://api.github.com/users/devonsunml/received_events', 'repos_url': 'https://api.github.com/users/devonsunml/repos', 'site_admin': False, 'starred_url': 'https://api.github.com/users/devonsunml/starred{/owner}{/repo}', 'subscriptions_url': 'https://api.github.com/users/devonsunml/subscriptions', 'type': 'User', 'url': 'https://api.github.com/users/devonsunml', 'user_view_type': 'public'}}, 'error': None, 'successful': True}]\n"
     ]
    }
   ],
   "source": [
    "from openai import OpenAI\n",
    "\n",
    "os.environ[\"OPENAI_API_KEY\"] = os.environ[\"OPENAI_API_KEY\"]\n",
    "\n",
    "# Initialize the OpenAI client\n",
    "client = OpenAI()\n",
    "\n",
    "task_prompt = \"Create a new issue in the repository devonsunml/ai_builders_tutorial with the title 'Improve documentation' and the body 'The documentation for the project could be improved by adding more examples and clarifying the setup instructions.'\"\n",
    "\n",
    "# Let the LLM choose the right tool for the task\n",
    "print(\"🤖 Asking the LLM to choose a tool for the task...\")\n",
    "completion = client.chat.completions.create(\n",
    "    model=\"gpt-4o\",\n",
    "    messages=[\n",
    "        {\"role\": \"system\", \"content\": \"You are a helpful assistant.\"},\n",
    "        {\"role\": \"user\", \"content\": task_prompt},\n",
    "    ],\n",
    "    tools=github_tools, # Provide the fetched tools to the model\n",
    "    tool_choice=\"auto\"\n",
    ")\n",
    "\n",
    "# Execute the tool call chosen by the LLM\n",
    "print(\"⚡️ Executing the chosen tool...\")\n",
    "result = composio.provider.handle_tool_calls(user_id=user_id, response=completion)\n",
    "\n",
    "print(\"\\n✅ Task Completed!\")\n",
    "print(\"Final Response:\", result)"
   ]
  },
  {
   "cell_type": "markdown",
   "metadata": {},
   "source": [
    "![Composio Github Demo](/composio.png)"
   ]
  },
  {
   "cell_type": "markdown",
   "metadata": {},
   "source": [
    "### Summary\n",
    "This notebook demonstrated how to use the Composio Python SDK to build an agent that can interact with GitHub. The workflow included:\n",
    "\n",
    "- Authenticating a user and connecting their GitHub account via OAuth2.\n",
    "- Fetching all available GitHub actions (tools) for the authenticated user.\n",
    "- Using an LLM (OpenAI GPT) to select and execute a GitHub action based on a natural language prompt.\n",
    "- Handling the tool call and displaying the result.\n",
    "\n",
    "With this approach, you can easily extend your agent to support other tools and automate complex workflows using natural language and Composio's unified API."
   ]
  }
 ],
 "metadata": {
  "kernelspec": {
   "display_name": "Python 3",
   "language": "python",
   "name": "python3"
  },
  "language_info": {
   "codemirror_mode": {
    "name": "ipython",
    "version": 3
   },
   "file_extension": ".py",
   "mimetype": "text/x-python",
   "name": "python",
   "nbconvert_exporter": "python",
   "pygments_lexer": "ipython3",
   "version": "3.10.9"
  }
 },
 "nbformat": 4,
 "nbformat_minor": 4
}
