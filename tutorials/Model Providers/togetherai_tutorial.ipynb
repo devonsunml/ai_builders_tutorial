{
 "cells": [
  {
   "cell_type": "markdown",
   "metadata": {},
   "source": [
    "# Together AI Tutorial: From Basics to Advanced RAG\n",
    "\n",
    "Welcome to this intermediate tutorial on **Together AI**! 🚀\n",
    "\n",
    "Together AI is a cloud platform providing access to a vast array of open-source generative AI models. It's known for its high-performance inference, fine-tuning capabilities, and developer-friendly tools. This notebook will expand on the basics and guide you through building a more robust Retrieval-Augmented Generation (RAG) system, showcasing key features like high-quality embeddings and reranking."
   ]
  },
  {
   "cell_type": "markdown",
   "metadata": {},
   "source": [
    "## 1. Setup\n",
    "\n",
    "First, let's install the necessary libraries. We'll be using `numpy` for numerical operations and `python-dotenv` to manage our API keys securely."
   ]
  },
  {
   "cell_type": "code",
   "execution_count": 12,
   "metadata": {},
   "outputs": [],
   "source": [
    "# Uncomment the following line to install the required packages\n",
    "# %pip install together python-dotenv numpy"
   ]
  },
  {
   "cell_type": "markdown",
   "metadata": {},
   "source": [
    "Next, create a file named `.env` in the same directory as this notebook and add your Together AI API key:\n",
    "\n",
    "```\n",
    "TOGETHER_API_KEY=\"your_api_key_here\"\n",
    "```\n",
    "\n",
    "Now, let's load the API key and initialize the client."
   ]
  },
  {
   "cell_type": "code",
   "execution_count": 1,
   "metadata": {},
   "outputs": [],
   "source": [
    "import os\n",
    "from dotenv import load_dotenv\n",
    "import together\n",
    "\n",
    "load_dotenv()\n",
    "\n",
    "client = together.Together(api_key=os.environ.get(\"TOGETHER_API_KEY\"))"
   ]
  },
  {
   "cell_type": "markdown",
   "metadata": {},
   "source": [
    "## 2. A Quick Look at Together AI's Features\n",
    "\n",
    "Before diving into RAG, it's worth noting some of Together AI's standout features:\n",
    "\n",
    "- **Vast Model Library**: Access to over 100 open-source models for various tasks (chat, code, image, embeddings).\n",
    "- **High Performance**: Optimized inference stack for fast response times.\n",
    "- **OpenAI Compatibility**: The Python client is designed to be a drop-in replacement for the OpenAI client, making migration easy.\n",
    "- **Serverless Endpoints**: Pay-as-you-go access to models without managing infrastructure.\n",
    "- **Fine-tuning & Reranking**: Tools to customize models and improve information retrieval."
   ]
  },
  {
   "cell_type": "markdown",
   "metadata": {},
   "source": [
    "## 3. Building an Advanced RAG System\n",
    "\n",
    "Retrieval-Augmented Generation (RAG) enhances a large language model's responses by providing it with relevant information from an external knowledge base. This reduces hallucinations and allows the model to answer questions about specific, up-to-date, or private data.\n",
    "\n",
    "Our RAG pipeline will involve:\n",
    "1.  **Preparing a Knowledge Base**: We'll create and process a text file.\n",
    "2.  **Indexing**: We'll use a high-quality embedding model to create vector representations of our data.\n",
    "3.  **Retrieval**: We'll find the most relevant documents for a given query.\n",
    "4.  **Reranking**: We'll use a reranker model to refine the search results.\n",
    "5.  **Generation**: We'll generate a final answer based on the retrieved and reranked information."
   ]
  },
  {
   "cell_type": "markdown",
   "metadata": {},
   "source": [
    "### Step 1: Prepare the Knowledge Base\n",
    "\n",
    "Let's create a small knowledge base about Together AI and save it to a file."
   ]
  },
  {
   "cell_type": "code",
   "execution_count": 2,
   "metadata": {},
   "outputs": [],
   "source": [
    "knowledge_base_content = \"\"\"\n",
    "Together AI offers a cloud platform for building and running generative AI. It provides access to over 100 open-source models.\n",
    "The platform is designed for high-performance inference, leveraging techniques like speculative decoding.\n",
    "For Retrieval-Augmented Generation, Together AI offers both embedding models and reranker models.\n",
    "The BAAI/bge-large-en-v1.5 is a popular and powerful model for generating text embeddings.\n",
    "Reranking is a crucial step in a RAG pipeline to improve the quality of retrieved documents before sending them to the language model.\n",
    "The Together AI Python client is compatible with the OpenAI API, making it easy for developers to switch.\n",
    "Users can fine-tune models on their own data to create specialized, expert models.\n",
    "Together AI offers both serverless, pay-as-you-go endpoints and dedicated instances for large-scale applications.\n",
    "\"\"\"\n",
    "\n",
    "with open(\"knowledge_base.txt\", \"w\") as f:\n",
    "    f.write(knowledge_base_content)\n",
    "\n",
    "# Now, we'll load the text and split it into chunks (in this case, by line).\n",
    "with open(\"knowledge_base.txt\", \"r\") as f:\n",
    "    knowledge_base = [line.strip() for line in f.readlines() if line.strip()]"
   ]
  },
  {
   "cell_type": "markdown",
   "metadata": {},
   "source": [
    "### Step 2: Indexing with a High-Quality Embedding Model\n",
    "\n",
    "We'll use `BAAI/bge-large-en-v1.5`, a top-performing embedding model available on Together AI, to convert our text chunks into vectors."
   ]
  },
  {
   "cell_type": "code",
   "execution_count": 3,
   "metadata": {},
   "outputs": [],
   "source": [
    "embedding_model = \"BAAI/bge-large-en-v1.5\"\n",
    "\n",
    "embeddings_response = client.embeddings.create(\n",
    "    model=embedding_model,\n",
    "    input=knowledge_base,\n",
    ")\n",
    "\n",
    "document_embeddings = [embedding.embedding for embedding in embeddings_response.data]"
   ]
  },
  {
   "cell_type": "markdown",
   "metadata": {},
   "source": [
    "### Step 3: Retrieval\n",
    "\n",
    "Next, we'll embed the user's query and use cosine similarity to find the most relevant chunks from our knowledge base."
   ]
  },
  {
   "cell_type": "code",
   "execution_count": 16,
   "metadata": {},
   "outputs": [
    {
     "name": "stdout",
     "output_type": "stream",
     "text": [
      "Retrieved documents (before reranking):\n",
      "- Reranking is a crucial step in a RAG pipeline to improve the quality of retrieved documents before sending them to the language model.\n",
      "- Users can fine-tune models on their own data to create specialized, expert models.\n",
      "- The BAAI/bge-large-en-v1.5 is a popular and powerful model for generating text embeddings.\n"
     ]
    }
   ],
   "source": [
    "import numpy as np\n",
    "from numpy.linalg import norm\n",
    "\n",
    "def cosine_similarity(a, b):\n",
    "    return np.dot(a, b) / (norm(a) * norm(b))\n",
    "\n",
    "user_query = \"How can I improve my RAG system?\"\n",
    "top_k = 3\n",
    "\n",
    "query_embedding_response = client.embeddings.create(\n",
    "    model=embedding_model,\n",
    "    input=[user_query],\n",
    ")\n",
    "query_embedding = query_embedding_response.data[0].embedding\n",
    "\n",
    "similarities = [cosine_similarity(query_embedding, doc_embedding) for doc_embedding in document_embeddings]\n",
    "\n",
    "top_indices = np.argsort(similarities)[-top_k:][::-1]\n",
    "retrieved_documents = [knowledge_base[i] for i in top_indices]\n",
    "\n",
    "print(\"Retrieved documents (before reranking):\")\n",
    "for doc in retrieved_documents:\n",
    "    print(f\"- {doc}\")"
   ]
  },
  {
   "cell_type": "markdown",
   "metadata": {},
   "source": [
    "### Step 4: Reranking for Quality\n",
    "\n",
    "While cosine similarity is good, it's not perfect. A reranker model can take the retrieved documents and re-order them based on a more nuanced understanding of relevance to the query. This is a key feature for building production-quality RAG systems."
   ]
  },
  {
   "cell_type": "code",
   "execution_count": 18,
   "metadata": {},
   "outputs": [
    {
     "name": "stdout",
     "output_type": "stream",
     "text": [
      "\n",
      "Reranked documents:\n",
      "- The BAAI/bge-large-en-v1.5 is a popular and powerful model for generating text embeddings.\n",
      "- Users can fine-tune models on their own data to create specialized, expert models.\n",
      "- Reranking is a crucial step in a RAG pipeline to improve the quality of retrieved documents before sending them to the language model.\n"
     ]
    }
   ],
   "source": [
    "rerank_model = \"mixedbread-ai/Mxbai-Rerank-Large-V2\"\n",
    "\n",
    "rerank_response = client.rerank.create(\n",
    "    model=rerank_model,\n",
    "    query=user_query,\n",
    "    documents=retrieved_documents,\n",
    ")\n",
    "\n",
    "reranked_indices = [result.index for result in rerank_response.results]\n",
    "reranked_documents = [retrieved_documents[i] for i in reranked_indices]\n",
    "\n",
    "print(\"\\nReranked documents:\")\n",
    "for doc in reranked_documents:\n",
    "    print(f\"- {doc}\")"
   ]
  },
  {
   "cell_type": "markdown",
   "metadata": {},
   "source": [
    "### Step 5: Generation\n",
    "\n",
    "Finally, we'll combine the query and the top reranked document into a prompt and send it to a powerful chat model to generate a comprehensive answer."
   ]
  },
  {
   "cell_type": "code",
   "execution_count": 19,
   "metadata": {},
   "outputs": [
    {
     "name": "stdout",
     "output_type": "stream",
     "text": [
      "\n",
      "Final Answer:\n",
      "To improve your RAG (Reactor Alignment Generator) system, consider fine-tuning the BAAI/bge-large-en-v1.5 model on your specific task and dataset to adapt its text embeddings to your use case. This can be done using a technique like masked language modeling or sentence similarity tasks to adjust the model's output to better suit your requirements.\n"
     ]
    }
   ],
   "source": [
    "context = reranked_documents[0] # Use the top reranked document\n",
    "\n",
    "prompt = f\"\"\"\n",
    "Context: {context}\n",
    "Question: {user_query}\n",
    "Based on the provided context, give a concise answer.\n",
    "Answer:\n",
    "\"\"\"\n",
    "\n",
    "response = client.chat.completions.create(\n",
    "    model=\"meta-llama/Llama-3-8b-chat-hf\",\n",
    "    messages=[{\"role\": \"user\", \"content\": prompt}],\n",
    "    temperature=0.7,\n",
    ")\n",
    "\n",
    "print(f\"\\nFinal Answer:\\n{response.choices[0].message.content}\")"
   ]
  },
  {
   "cell_type": "markdown",
   "metadata": {},
   "source": [
    "## 4. Conclusion\n",
    "\n",
    "This tutorial has demonstrated how to build a more sophisticated RAG system using Together AI. We've leveraged key features like high-quality embedding models and rerankers to improve the accuracy of our information retrieval. This approach significantly enhances the capabilities of large language models by grounding them in factual, external knowledge.\n",
    "\n",
    "From here, you can explore more advanced topics such as:\n",
    "- **Fine-tuning**: Train a model on your own data for specialized tasks.\n",
    "- **Larger Knowledge Bases**: Integrate with vector databases like Pinecone or MongoDB for scalable RAG.\n",
    "- **Different Models**: Experiment with the wide variety of models available on the Together AI platform."
   ]
  }
 ],
 "metadata": {
  "kernelspec": {
   "display_name": "3.10.14",
   "language": "python",
   "name": "python3"
  },
  "language_info": {
   "codemirror_mode": {
    "name": "ipython",
    "version": 3
   },
   "file_extension": ".py",
   "mimetype": "text/x-python",
   "name": "python",
   "nbconvert_exporter": "python",
   "pygments_lexer": "ipython3",
   "version": "3.10.14"
  }
 },
 "nbformat": 4,
 "nbformat_minor": 4
}
