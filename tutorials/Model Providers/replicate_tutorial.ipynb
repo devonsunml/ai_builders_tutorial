{
 "cells": [
  {
   "cell_type": "markdown",
   "metadata": {},
   "source": [
    "# Replicate Tutorial: Run AI Models and Create Images\n",
    "\n",
    "Welcome to this tutorial on **Replicate**! 🚀\n",
    "\n",
    "Replicate is a platform that allows you to run AI models in the cloud with a simple API. **It's especially powerful for hosting and running image and video models**, making it the go-to platform for creators who want to generate stunning visual content without dealing with the technical complexity of GPU management and model deployment.\n",
    "\n",
    "In this notebook, we'll cover the essential concepts of Replicate and walk you through running your first image generation model. You'll see how easy it is to create professional-quality images from text descriptions using state-of-the-art AI models.\n",
    "\n",
    "## How Does Replicate Work?\n",
    "\n",
    "Replicate works on a simple principle: you send an API request to run a specific model with your inputs, and Replicate takes care of the rest. Here's a high-level overview of the process:\n",
    "\n",
    "1.  **Choose a Model**: Replicate hosts a vast library of public models created by the community. You can browse and select models for image generation, video creation, style transfer, image enhancement, and much more.\n",
    "\n",
    "2.  **API Request**: You use a client library (like the Python client we'll use here) to send a request to the Replicate API. This request includes the model you want to run and the inputs it requires.\n",
    "\n",
    "3.  **Prediction**: Replicate runs the model with your inputs and creates a \"prediction.\" For long-running models (common in image and video generation), you can poll the API to check the status of your prediction.\n",
    "\n",
    "4.  **Get the Output**: Once the prediction is complete, you can retrieve the output, which could be an image, video, text, or any other file. **Replicate excels at handling large media files and providing reliable URLs for your generated content.**"
   ]
  },
  {
   "cell_type": "markdown",
   "metadata": {},
   "source": [
    "## Setup\n",
    "\n",
    "First, let's install the necessary Python libraries. We'll use `replicate` to interact with the Replicate API and `python-dotenv` to manage our API key."
   ]
  },
  {
   "cell_type": "code",
   "execution_count": 2,
   "metadata": {},
   "outputs": [],
   "source": [
    "# %pip install replicate python-dotenv -q"
   ]
  },
  {
   "cell_type": "markdown",
   "metadata": {},
   "source": [
    "### API Key\n",
    "\n",
    "To use the Replicate API, you need an API key. You can get one from your [Replicate account settings](https://replicate.com/account/api-tokens).\n",
    "\n",
    "For security, it's a best practice to store your API key in a `.env` file. Create a file named `.env` in the same directory as this notebook and add the following line:"
   ]
  },
  {
   "cell_type": "markdown",
   "metadata": {},
   "source": [
    "```\n",
    "REPLICATE_API_TOKEN=\"your_api_key_here\"\n",
    "```"
   ]
  },
  {
   "cell_type": "markdown",
   "metadata": {},
   "source": [
    "Now, we can load the API key from the `.env` file and set it as an environment variable."
   ]
  },
  {
   "cell_type": "code",
   "execution_count": 3,
   "metadata": {},
   "outputs": [
    {
     "data": {
      "text/plain": [
       "True"
      ]
     },
     "execution_count": 3,
     "metadata": {},
     "output_type": "execute_result"
    }
   ],
   "source": [
    "import os\n",
    "from dotenv import load_dotenv\n",
    "\n",
    "load_dotenv()\n",
    "\n",
    "# The replicate library automatically looks for the REPLICATE_API_TOKEN environment variable.\n",
    "# So, you don't need to explicitly pass it to the client.\n"
   ]
  },
  {
   "cell_type": "markdown",
   "metadata": {},
   "source": [
    "## Running a Model\n",
    "\n",
    "Now that we're set up, let's run a model! We'll use the **Stable Diffusion** model to generate an image from a text prompt."
   ]
  },
  {
   "cell_type": "code",
   "execution_count": null,
   "metadata": {},
   "outputs": [],
   "source": [
    "import replicate\n",
    "\n",
    "# Run the Stable Diffusion model to generate an image\n",
    "print(\"Generating image with Stable Diffusion...\")\n",
    "output = replicate.run(\n",
    "    \"stability-ai/stable-diffusion:db21e45d3f7023abc2a46ee38a23973f6dce16bb082a930b0c49861f96d1e5bf\",\n",
    "    input={\"prompt\": \"a photograph of an astronaut riding a horse\"}\n",
    ")"
   ]
  },
  {
   "cell_type": "code",
   "execution_count": 10,
   "metadata": {},
   "outputs": [
    {
     "name": "stdout",
     "output_type": "stream",
     "text": [
      "Generated image URL: https://replicate.delivery/yhqm/w7g9AEduCgZZI1kWKic6GvcF0Upd0eZz2vTI4Dzh0HWuLjkKA/out-0.png\n"
     ]
    }
   ],
   "source": [
    "# Convert the output to a list and extract the URL string\n",
    "output_list = list(output)\n",
    "if output_list and len(output_list) > 0:\n",
    "    # Convert FileOutput to string URL\n",
    "    image_url = str(output_list[0])\n",
    "    print(f\"Generated image URL: {image_url}\")\n",
    "else:\n",
    "    print(\"No image was generated.\")\n",
    "    image_url = None"
   ]
  },
  {
   "cell_type": "markdown",
   "metadata": {},
   "source": [
    "The `replicate.run()` function returns the output of the model. In this case, it's a URL to the generated image. Let's display the image."
   ]
  },
  {
   "cell_type": "code",
   "execution_count": 15,
   "metadata": {},
   "outputs": [
    {
     "name": "stdout",
     "output_type": "stream",
     "text": [
      "Displaying generated image with custom size:\n"
     ]
    },
    {
     "data": {
      "text/html": [
       "<img src=\"https://replicate.delivery/yhqm/w7g9AEduCgZZI1kWKic6GvcF0Upd0eZz2vTI4Dzh0HWuLjkKA/out-0.png\" width=\"400\" height=\"300\"/>"
      ],
      "text/plain": [
       "<IPython.core.display.Image object>"
      ]
     },
     "metadata": {},
     "output_type": "display_data"
    }
   ],
   "source": [
    "# Display image with custom size\n",
    "from IPython.display import Image, display\n",
    "\n",
    "if image_url:\n",
    "    print(\"Displaying generated image with custom size:\")\n",
    "    display(Image(url=image_url, width=400, height=300))\n",
    "else:\n",
    "    print(\"No image available to display. Please run the previous cell first.\")"
   ]
  },
  {
   "cell_type": "markdown",
   "metadata": {},
   "source": [
    "## Getting Predictions for Long-Running Models\n",
    "\n",
    "Some models can take a while to run. For these, you can use `replicate.predictions.create()` and `prediction.wait()` to run a model and wait for the result."
   ]
  },
  {
   "cell_type": "code",
   "execution_count": 13,
   "metadata": {},
   "outputs": [
    {
     "name": "stdout",
     "output_type": "stream",
     "text": [
      "['https://replicate.delivery/yhqm/MfxCBc67zJXtIyHjfb3DGaguYNrpbpH3PYMGumhAxRXjcGJVA/out-0.png']\n"
     ]
    }
   ],
   "source": [
    "prediction = replicate.predictions.create(\n",
    "    version=\"db21e45d3f7023abc2a46ee38a23973f6dce16bb082a930b0c49861f96d1e5bf\",\n",
    "    input={\"prompt\": \"a 19th-century portrait of a robot in a suit\"}\n",
    ")\n",
    "\n",
    "# Wait for the prediction to complete\n",
    "prediction.wait()\n",
    "\n",
    "# Print the output\n",
    "print(prediction.output)"
   ]
  },
  {
   "cell_type": "code",
   "execution_count": 16,
   "metadata": {},
   "outputs": [
    {
     "name": "stdout",
     "output_type": "stream",
     "text": [
      "Prediction image URL: https://replicate.delivery/yhqm/MfxCBc67zJXtIyHjfb3DGaguYNrpbpH3PYMGumhAxRXjcGJVA/out-0.png\n"
     ]
    },
    {
     "data": {
      "text/html": [
       "<img src=\"https://replicate.delivery/yhqm/MfxCBc67zJXtIyHjfb3DGaguYNrpbpH3PYMGumhAxRXjcGJVA/out-0.png\" width=\"400\" height=\"300\"/>"
      ],
      "text/plain": [
       "<IPython.core.display.Image object>"
      ]
     },
     "metadata": {},
     "output_type": "display_data"
    }
   ],
   "source": [
    "from IPython.display import Image\n",
    "\n",
    "# Display the prediction result\n",
    "if prediction.output and len(prediction.output) > 0:\n",
    "    # Convert FileOutput to string URL\n",
    "    prediction_image_url = str(prediction.output[0])\n",
    "    print(f\"Prediction image URL: {prediction_image_url}\")\n",
    "    display(Image(url=prediction_image_url, width=400, height=300))\n",
    "else:\n",
    "    print(\"No prediction output available.\")"
   ]
  },
  {
   "cell_type": "markdown",
   "metadata": {},
   "source": [
    "## Conclusion\n",
    "\n",
    "Congratulations! You've learned the basics of using Replicate to run AI models. You now know how to:\n",
    "\n",
    "* Set up your environment and manage your API key securely.\n",
    "* Run a model and get the output.\n",
    "* Handle long-running predictions.\n",
    "\n",
    "From here, you can explore the vast library of models on the [Replicate website](https://replicate.com/explore) and integrate them into your own projects."
   ]
  }
 ],
 "metadata": {
  "kernelspec": {
   "display_name": "3.10.14",
   "language": "python",
   "name": "python3"
  },
  "language_info": {
   "codemirror_mode": {
    "name": "ipython",
    "version": 3
   },
   "file_extension": ".py",
   "mimetype": "text/x-python",
   "name": "python",
   "nbconvert_exporter": "python",
   "pygments_lexer": "ipython3",
   "version": "3.10.14"
  }
 },
 "nbformat": 4,
 "nbformat_minor": 4
}
