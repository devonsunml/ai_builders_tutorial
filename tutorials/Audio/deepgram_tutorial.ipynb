{
 "cells": [
  {
   "cell_type": "markdown",
   "metadata": {},
   "source": [
    "# Deepgram Python SDK Tutorial\n",
    "\n",
    "Welcome to this tutorial on using the Deepgram Python SDK! 🚀\n",
    "\n",
    "In this notebook, we'll explore the core functionalities of Deepgram for speech-to-text transcription. We will cover everything from setting up your environment to transcribing audio from files, URLs. We'll also touch on some of Deepgram's advanced features like diarization and summarization.\n",
    "\n",
    "Let's get started!"
   ]
  },
  {
   "cell_type": "markdown",
   "metadata": {},
   "source": [
    "## 1. Setup\n",
    "\n",
    "First, we need to install the necessary libraries and configure our environment."
   ]
  },
  {
   "cell_type": "markdown",
   "metadata": {},
   "source": [
    "### 1.1. Install Libraries\n",
    "\n",
    "Uncomment and run the following cell to install the required Python packages: `deepgram-sdk`, `python-dotenv` for managing environment variables.\n",
    "\n",
    "**Note for macOS users:** If you need microphone support, you must install `portaudio` and then `pyaudio` manually. Run the following in your terminal:\n",
    "\n",
    "\n",
    "\n",
    "```bash\n",
    "\n",
    "brew install portaudio\n",
    "\n",
    "pip install pyaudio\n",
    "\n",
    "```\n",
    "\n",
    "If you don't need microphone support, you can skip installing `pyaudio`."
   ]
  },
  {
   "cell_type": "code",
   "execution_count": 1,
   "metadata": {},
   "outputs": [],
   "source": [
    "# Install Deepgram SDK and python-dotenv. If you need microphone support, see the note below.\n",
    "# !pip install deepgram-sdk python-dotenv -q"
   ]
  },
  {
   "cell_type": "markdown",
   "metadata": {},
   "source": [
    "### 1.2. API Key Configuration\n",
    "\n",
    "To use Deepgram's services, you'll need an API key. You can get a free API key with $200 in credits by signing up on the [Deepgram website](https://deepgram.com/).\n",
    "\n",
    "Once you have your key, create a file named `.env` in the same directory as this notebook and add your API key to it like this:\n",
    "\n",
    "```\n",
    "DEEPGRAM_API_KEY=\"YOUR_DEEPGRAM_API_KEY\"\n",
    "```\n",
    "\n",
    "Now, let's load the API key from the `.env` file."
   ]
  },
  {
   "cell_type": "code",
   "execution_count": 2,
   "metadata": {},
   "outputs": [],
   "source": [
    "import os\n",
    "from dotenv import load_dotenv\n",
    "\n",
    "load_dotenv() \n",
    "\n",
    "DEEPGRAM_API_KEY = os.getenv(\"DEEPGRAM_API_KEY\")"
   ]
  },
  {
   "cell_type": "markdown",
   "metadata": {},
   "source": [
    "## 2. Transcribing Audio from a File\n",
    "\n",
    "Let's start by transcribing a local audio file. For this example, you can download a sample audio file. We'll use a sample from the internet for this demonstration."
   ]
  },
  {
   "cell_type": "code",
   "execution_count": 11,
   "metadata": {},
   "outputs": [
    {
     "name": "stdout",
     "output_type": "stream",
     "text": [
      "The stale smell of old beer lingers. It takes heat to bring out the odor. A cold dip restores health and zest. A salt pickle tastes fine with ham. Tacos al pastor are my favorite. A zestful food is the hot cross bun.\n"
     ]
    }
   ],
   "source": [
    "from deepgram import PrerecordedOptions, FileSource, DeepgramClient\n",
    "\n",
    "def transcribe_audio_from_local_file(file_path):\n",
    "    # Create a Deepgram client\n",
    "    deepgram = DeepgramClient(DEEPGRAM_API_KEY)\n",
    "\n",
    "    # Configure Deepgram options\n",
    "    options = PrerecordedOptions(\n",
    "        model=\"nova-2\",\n",
    "        smart_format=True,\n",
    "    )\n",
    "    with open(file_path, \"rb\") as file:\n",
    "        buffer_data = file.read()\n",
    "\n",
    "    payload: FileSource = {\n",
    "        \"buffer\": buffer_data,\n",
    "    }\n",
    "\n",
    "    # Call the transcribe_file method using REST API\n",
    "    response = deepgram.listen.rest.v(\"1\").transcribe_file(payload, options)\n",
    "    # Print only the transcript\n",
    "    for channel in response.results.channels:\n",
    "        for alternative in channel.alternatives:\n",
    "            print(alternative.transcript)\n",
    "\n",
    "transcribe_audio_from_local_file('harvard.wav')  # Replace with your local audio file path"
   ]
  },
  {
   "cell_type": "markdown",
   "metadata": {},
   "source": [
    "## 3. Transcribing Audio from a URL\n",
    "\n",
    "Deepgram can also directly transcribe audio from a URL. This is very convenient for processing audio files hosted online."
   ]
  },
  {
   "cell_type": "code",
   "execution_count": 12,
   "metadata": {},
   "outputs": [
    {
     "name": "stdout",
     "output_type": "stream",
     "text": [
      "Another big problem in the speech analytics space, when customers first bring the software on is that they they are blown away by the fact that an engine can monitor hundreds of KPIs. Right? Everything from minute compliance issues to, you know, human, human interaction, empathy measurements, to upsell, aptitudes, to closing aptitudes. There are hundreds, literally, of KPIs that one can look at. And the speech analytics companies have typically gone to the customer and really bang that drum. Look at all of these things that we're gonna help you keep an eye on. The reality, however, is that a company even a contact center manager, they can't keep track in their brain, even if they have a report in front of them, of that many KPIs. Mhmm. And, frankly, it's overwhelming. So what successful companies do is they bite off no more than they can chew at any given time. The reality is is you can only train a call center agent on a maximum of three skills at any given day. Right? And by focusing on, focusing on problem areas for a week, for a month, depending on how bad things are, and then once you've mastered that skill, to take a baseline of of your performance and move on to the next worst skill, right, is the way that companies succeed using this product.\n"
     ]
    }
   ],
   "source": [
    "from deepgram import DeepgramClient, PrerecordedOptions, FileSource\n",
    "import json\n",
    "\n",
    "# Create a Deepgram client\n",
    "deepgram = DeepgramClient(DEEPGRAM_API_KEY)\n",
    "\n",
    "# URL of the audio file\n",
    "AUDIO_URL = \"https://static.deepgram.com/examples/interview_speech-analytics.wav\"\n",
    "\n",
    "def transcribe_audio_from_url(audio_url):\n",
    "    # Configure Deepgram options\n",
    "    options = PrerecordedOptions(\n",
    "        model=\"nova-2\",\n",
    "        smart_format=True,\n",
    "    )\n",
    "\n",
    "    # Call the transcribe_url method using REST API\n",
    "    source = {'url': audio_url}\n",
    "    response = deepgram.listen.rest.v(\"1\").transcribe_url(source, options)\n",
    "    # Print only the transcript\n",
    "    for channel in response.results.channels:\n",
    "        for alternative in channel.alternatives:\n",
    "            print(alternative.transcript)\n",
    "\n",
    "transcribe_audio_from_url(AUDIO_URL)"
   ]
  },
  {
   "cell_type": "markdown",
   "metadata": {},
   "source": [
    "## 4. Advanced Features: Diarization and Summarization\n",
    "\n",
    "Deepgram offers a range of powerful audio intelligence features. Let's look at two of the most popular ones: **diarization** (identifying who spoke and when) and **summarization**."
   ]
  },
  {
   "cell_type": "code",
   "execution_count": 20,
   "metadata": {},
   "outputs": [
    {
     "name": "stdout",
     "output_type": "stream",
     "text": [
      "\n",
      "Speaker-separated transcript:\n",
      "Speaker 0: I guess. I just thought Aristotle thought flames kept going up and up and up. He said the Earth revolved around the sun, but didn't he get in trouble for that? Didn't the church make him stop saying it? What aspect of gravitational science is the lecture mainly about?\n",
      "Speaker 1: No. Aristotle thought the flames would stop at some point at their natural place in the sky, but I can understand how you'd be confused. Aristotle's ideas seem odd to us today. Now, there was another early scientist whose ideas on gravity may seem more familiar. An ancient Indian thinker from the five hundreds, Brahmagupta, that was his name. He believed that the earth was basically a giant ball that was full of gravity and pulled things down to it. So around earth with its own gravitational pull, just like we believe today. Now, yes, Susie. Well, actually, Susie, the theory the world is round is a very old one. In fact, it was during Aristotle's life that some of his fellow Greek scientist realized the Earth had to be round. In many ways, this idea of a round earth was the first step toward our modern understanding of gravity. And, Brahmaguptha took that a step further realizing there was gravity within the sphere of the earth. Now, Aristotle was right too in a sense. Things can fall at different speeds, but, that's because of differences in air resistance. The atmosphere or counteracting gravity when it hits things that are not so compact, not not dense. Aristotle, Ramagupta, other ancient thinkers were missing an important theory, well, a fact. I'm talking about heliocentrism, the idea the earth isn't the center of the universe, that it revolves around the sun. That idea became popular much later in the fifteen hundreds. Does anyone know who Copernicus is? Roger? Well, he wasn't punished, but he did get a lot of grief from religious leaders at the time. The idea certainly wasn't traditional, but other scientists and the public, they embraced his ideas about planetary orbits. This new scientific attention to orbits set the stage for Newton to realize that gravity made things fall to the earth, but they also made the moon circle the earth. And then Newton figured out what we all know now. Larger objects have gravitational power over smaller ones.\n",
      "Speaker 2: Sorry. I I'm confused again. I thought nobody knew the Earth was round until people sailed all the way around the world in in, like, the fourteen or fifteen hundreds. How did Brahmagupta figure out the world was round?\n",
      "\n",
      "Summary:\n",
      "Speaker 0 is confused about the idea that the Earth is a giant ball and pulled things down to it. Speaker 1 explains that the theory of a round Earth was discussed by a Greek scientist named Braheler during the early stages of the Discovery process, but it became popular later in the hundreds. Other scientists and the public embraced the idea of a rotating body and the idea of a moon, but it was not traditional.\n"
     ]
    }
   ],
   "source": [
    "from deepgram import PrerecordedOptions, FileSource, DeepgramClient\n",
    "import json\n",
    "\n",
    "def transcribe_with_advanced_features_local(file_path):\n",
    "    deepgram = DeepgramClient(DEEPGRAM_API_KEY)\n",
    "    options = PrerecordedOptions(\n",
    "        model=\"nova-2\",\n",
    "        smart_format=True,\n",
    "        diarize=True,       # Enable speaker diarization\n",
    "        summarize=\"v2\",     # Enable summarization\n",
    "    )\n",
    "    with open(file_path, \"rb\") as file:\n",
    "        buffer_data = file.read()\n",
    "    payload: FileSource = {\n",
    "        \"buffer\": buffer_data,\n",
    "    }\n",
    "    response = deepgram.listen.rest.v(\"1\").transcribe_file(payload, options)\n",
    "\n",
    "    # Print transcript separated by speaker\n",
    "    print(\"\\nSpeaker-separated transcript:\")\n",
    "    diarized = response.results.channels[0].alternatives[0].words\n",
    "    speaker_transcripts = {}\n",
    "    for word in diarized:\n",
    "        speaker = getattr(word, 'speaker', 'Unknown')\n",
    "        if speaker not in speaker_transcripts:\n",
    "            speaker_transcripts[speaker] = []\n",
    "        speaker_transcripts[speaker].append(getattr(word, 'punctuated_word', getattr(word, 'word', '')))\n",
    "    for speaker, words in speaker_transcripts.items():\n",
    "        print(f\"Speaker {speaker}: {' '.join(words)}\")\n",
    "\n",
    "    # Extract and print summary from data['results']['summary']['short'] if available\n",
    "    data = response.to_dict()\n",
    "    summary_data = data.get('results', {}).get('summary', {})\n",
    "    summary_short = summary_data.get('short') if isinstance(summary_data, dict) else None\n",
    "    if summary_short:\n",
    "        print(\"\\nSummary:\")\n",
    "        print(summary_short)\n",
    "    else:\n",
    "        print(\"\\nNo summary available.\")\n",
    "\n",
    "transcribe_with_advanced_features_local(\"diarization.m4a\")"
   ]
  },
  {
   "cell_type": "markdown",
   "metadata": {},
   "source": [
    "## 6. Conclusion\n",
    "\n",
    "Congratulations! You've now learned the basics of using the Deepgram Python SDK.\n",
    "\n",
    "We've covered:\n",
    "✅ Setting up your environment and API key.\n",
    "✅ Transcribing audio from local files and URLs.\n",
    "✅ Performing real-time transcription from a microphone.\n",
    "✅ Using advanced features like diarization and summarization.\n",
    "\n",
    "This is just the beginning of what you can do with Deepgram. For more information, check out the Deepgram Documentation."
   ]
  }
 ],
 "metadata": {
  "kernelspec": {
   "display_name": "3.10.14",
   "language": "python",
   "name": "python3"
  },
  "language_info": {
   "codemirror_mode": {
    "name": "ipython",
    "version": 3
   },
   "file_extension": ".py",
   "mimetype": "text/x-python",
   "name": "python",
   "nbconvert_exporter": "python",
   "pygments_lexer": "ipython3",
   "version": "3.10.14"
  }
 },
 "nbformat": 4,
 "nbformat_minor": 4
}
