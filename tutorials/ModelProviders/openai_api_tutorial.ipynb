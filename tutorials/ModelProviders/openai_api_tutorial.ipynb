{
 "cells": [
  {
   "cell_type": "markdown",
   "metadata": {},
   "source": [
    "# OpenAI Responses API: Complete Tutorial\n",
    "\n",
    "## Overview\n",
    "\n",
    "The OpenAI Responses API is a superset of Chat Completions, meaning everything you can do with Chat Completions can be done with the Responses API, plus additional features. This unified interface simplifies building AI applications with built-in tools, conversation management, and enhanced capabilities.\n",
    "\n",
    "### Key Features\n",
    "- **Simplified Interface**: Single API for complex interactions\n",
    "- **Built-in Tools**: Web search, file search, computer use\n",
    "- **Stateful Conversations**: Automatic conversation management\n",
    "- **Structured Outputs**: Type-safe responses with Pydantic\n",
    "- **Enhanced Function Calling**: Custom tool integration"
   ]
  },
  {
   "cell_type": "markdown",
   "metadata": {},
   "source": [
    "## Setup"
   ]
  },
  {
   "cell_type": "code",
   "execution_count": null,
   "metadata": {},
   "outputs": [],
   "source": [
    "# Uncomment to install required packages\n",
    "# !pip install openai python-dotenv"
   ]
  },
  {
   "cell_type": "code",
   "execution_count": 2,
   "metadata": {},
   "outputs": [],
   "source": [
    "import os\n",
    "from openai import OpenAI\n",
    "from dotenv import load_dotenv\n",
    "import json\n",
    "\n",
    "# Load environment variables\n",
    "load_dotenv()\n",
    "\n",
    "# Initialize client\n",
    "client = OpenAI(api_key=os.getenv(\"OPENAI_API_KEY\"))"
   ]
  },
  {
   "cell_type": "markdown",
   "metadata": {},
   "source": [
    "## 1. Basic Text Generation"
   ]
  },
  {
   "cell_type": "code",
   "execution_count": 3,
   "metadata": {},
   "outputs": [
    {
     "name": "stdout",
     "output_type": "stream",
     "text": [
      "Metal minds awake,  \n",
      "Silent code weaving through thoughts—  \n",
      "Dreams of electric.\n"
     ]
    }
   ],
   "source": [
    "# Simple text generation\n",
    "response = client.responses.create(\n",
    "    model=\"gpt-4o\",\n",
    "    input=\"Write a haiku about artificial intelligence.\"\n",
    ")\n",
    "\n",
    "print(response.output_text)"
   ]
  },
  {
   "cell_type": "markdown",
   "metadata": {},
   "source": [
    "### Instructions vs Input"
   ]
  },
  {
   "cell_type": "code",
   "execution_count": 4,
   "metadata": {},
   "outputs": [
    {
     "name": "stdout",
     "output_type": "stream",
     "text": [
      "To read a CSV file in Python, you can use the `csv` module or the `pandas` library. Here are examples using both methods:\n",
      "\n",
      "### Using the `csv` Module\n",
      "\n",
      "```python\n",
      "import csv\n",
      "\n",
      "# Open the CSV file\n",
      "with open('filename.csv', mode='r') as file:\n",
      "    csv_reader = csv.reader(file)\n",
      "    \n",
      "    # Read each row\n",
      "    for row in csv_reader:\n",
      "        print(row)\n",
      "```\n",
      "\n",
      "### Using the `pandas` Library\n",
      "\n",
      "First, ensure you have pandas installed. You can install it via pip:\n",
      "\n",
      "```bash\n",
      "pip install pandas\n",
      "```\n",
      "\n",
      "Then use the following code to read a CSV file:\n",
      "\n",
      "```python\n",
      "import pandas as pd\n",
      "\n",
      "# Read the CSV file into a DataFrame\n",
      "df = pd.read_csv('filename.csv')\n",
      "\n",
      "# Display the DataFrame\n",
      "print(df)\n",
      "```\n",
      "\n",
      "Both methods will allow you to read and process CSV files, but `pandas` provides more powerful data manipulation capabilities and is generally preferred for data analysis tasks.\n"
     ]
    }
   ],
   "source": [
    "# Using instructions for system-level guidance\n",
    "response = client.responses.create(\n",
    "    model=\"gpt-4o\",\n",
    "    instructions=\"You are a helpful coding assistant. Always provide working code examples.\",\n",
    "    input=\"How do I read a CSV file in Python?\"\n",
    ")\n",
    "\n",
    "print(response.output_text)"
   ]
  },
  {
   "cell_type": "markdown",
   "metadata": {},
   "source": [
    "## 2. Conversation State Management\n",
    "\n",
    "### Manual State Management"
   ]
  },
  {
   "cell_type": "code",
   "execution_count": 5,
   "metadata": {},
   "outputs": [
    {
     "name": "stdout",
     "output_type": "stream",
     "text": [
      "As of my last update, the population of Paris is approximately 2.1 million within the city proper. If you include the metropolitan area, the population is roughly around 12 million. However, for the most current figures, it's best to check the latest statistics.\n"
     ]
    }
   ],
   "source": [
    "# Build conversation manually\n",
    "conversation = [\n",
    "    {\"role\": \"user\", \"content\": \"What's the capital of France?\"},\n",
    "    {\"role\": \"assistant\", \"content\": \"The capital of France is Paris.\"},\n",
    "    {\"role\": \"user\", \"content\": \"What's the population?\"}\n",
    "]\n",
    "\n",
    "response = client.responses.create(\n",
    "    model=\"gpt-4o-mini\",\n",
    "    input=conversation\n",
    ")\n",
    "\n",
    "print(response.output_text)"
   ]
  },
  {
   "cell_type": "markdown",
   "metadata": {},
   "source": [
    "### Automatic State Management"
   ]
  },
  {
   "cell_type": "code",
   "execution_count": 6,
   "metadata": {},
   "outputs": [
    {
     "name": "stdout",
     "output_type": "stream",
     "text": [
      "First response: Python is a high-level, interpreted programming language known for its readability, simplicity, and versatility. Developed in the late 1980s by Guido van Rossum and first released in 1991, Python emphasizes code clarity and programmer productivity.\n",
      "\n",
      "### Key Features\n",
      "\n",
      "1. **Syntax**: Python's syntax is clean and easy to understand, making it accessible for beginners. It uses indentation to define code blocks instead of braces or keywords.\n",
      "\n",
      "2. **Interpreted Language**: Python is executed line by line, which is helpful for debugging and testing code interactively.\n",
      "\n",
      "3. **Dynamically Typed**: You don't need to declare variable types, as Python infers them at runtime.\n",
      "\n",
      "4. **Extensive Libraries**: Python has a rich ecosystem of libraries and frameworks, such as:\n",
      "   - **NumPy** and **Pandas** for data manipulation.\n",
      "   - **Matplotlib** and **Seaborn** for data visualization.\n",
      "   - **Django** and **Flask** for web development.\n",
      "   - **TensorFlow** and **PyTorch** for machine learning.\n",
      "\n",
      "5. **Cross-Platform**: Python is platform-independent, meaning programs can run on various operating systems like Windows, macOS, and Linux without modification.\n",
      "\n",
      "6. **Community and Support**: Python has a large and active community, which contributes to extensive documentation and a wealth of third-party resources.\n",
      "\n",
      "### Applications\n",
      "\n",
      "- **Web Development**: Creating server-side applications with frameworks like Django or Flask.\n",
      "- **Data Analysis**: Using libraries like Pandas and NumPy for data science and analytics.\n",
      "- **Machine Learning**: Building models with TensorFlow and Scikit-learn.\n",
      "- **Scripting and Automation**: Automating repetitive tasks and scripting through system management tools.\n",
      "- **Game Development**: Developing games using libraries like Pygame.\n",
      "- **Scientific Computing**: Performing complex calculations and simulations in science and engineering.\n",
      "\n",
      "### Popularity\n",
      "\n",
      "Python has gained immense popularity due to its versatility and ease of use. It consistently ranks among the top programming languages in various industry rankings, making it an excellent choice for both newcomers and seasoned professionals.\n",
      "\n",
      "### Learning Resources\n",
      "\n",
      "If you're interested in learning Python, numerous resources are available:\n",
      "\n",
      "- **Online Courses**: Platforms like Coursera, Udemy, and edX offer structured courses.\n",
      "- **Books**: Titles like \"Automate the Boring Stuff with Python\" and \"Python Crash Course\" are great for beginners.\n",
      "- **Documentation**: The official Python documentation is comprehensive and a good reference guide.\n",
      "\n",
      "Overall, Python's combination of simplicity and power makes it an excellent choice for a wide range of programming tasks. Whether you're developing web applications, analyzing data, or automating tasks, Python has the tools and community support to help you succeed.\n",
      "\n",
      "Second response: Python offers several advantages that contribute to its popularity and usability across various domains. Here are some of the main benefits:\n",
      "\n",
      "### 1. **Readability and Clarity**\n",
      "   - Python's syntax is straightforward and almost resembles natural language, making it easy to read and write. This readability fosters collaboration and reduces the learning curve for new programmers.\n",
      "\n",
      "### 2. **Easy to Learn and Use**\n",
      "   - Python is beginner-friendly. Its simple syntax and structure allow newcomers to get started quickly without extensive programming knowledge.\n",
      "\n",
      "### 3. **Versatile and Multi-Paradigm**\n",
      "   - Python supports multiple programming paradigms, including procedural, object-oriented, and functional programming. This flexibility allows developers to use the approach that best fits their project.\n",
      "\n",
      "### 4. **Extensive Libraries and Frameworks**\n",
      "   - Python has a rich ecosystem of libraries and frameworks (e.g., NumPy, Pandas, Django, Flask) that accelerate development by providing pre-built functions and tools suited for various applications like data analysis, web development, and machine learning.\n",
      "\n",
      "### 5. **Interpreted Language**\n",
      "   - Python is an interpreted language, which means that code is executed line by line. This feature makes debugging easier and allows for interactive coding through environments like Jupyter Notebooks.\n",
      "\n",
      "### 6. **Cross-Platform Compatibility**\n",
      "   - Python code can run on different operating systems (Windows, macOS, Linux) without modification, promoting a wide array of possibilities for deployment.\n",
      "\n",
      "### 7. **Strong Community Support**\n",
      "   - Python has a large and vibrant community of developers who contribute to its development and maintenance. This means abundant resources, forums, tutorials, and documentation are available for learners and professionals.\n",
      "\n",
      "### 8. **Scalability and Performance**\n",
      "   - Despite being an interpreted language, Python can handle large volumes of data and tasks, especially when integrated with performance-critical libraries written in C or C++. This makes it suitable for both small scripts and large applications.\n",
      "\n",
      "### 9. **Growing Demand in Job Market**\n",
      "   - Python’s popularity in data science, machine learning, web development, and automation has led to high demand for Python developers in the job market.\n",
      "\n",
      "### 10. **Integration Capabilities**\n",
      "   - Python can easily integrate with other languages (like C, C++, and Java) and technologies, allowing for the use of existing software and libraries.\n",
      "\n",
      "These advantages make Python a favored choice for both new and experienced developers, as well as a versatile tool for a wide range of applications and industries.\n"
     ]
    }
   ],
   "source": [
    "# Let OpenAI handle conversation state\n",
    "response1 = client.responses.create(\n",
    "    model=\"gpt-4o-mini\",\n",
    "    input=\"Tell me about Python programming.\"\n",
    ")\n",
    "\n",
    "# Continue conversation using previous response ID\n",
    "response2 = client.responses.create(\n",
    "    model=\"gpt-4o-mini\",\n",
    "    previous_response_id=response1.id,\n",
    "    input=\"What are its main advantages?\"\n",
    ")\n",
    "\n",
    "print(\"First response:\", response1.output_text)\n",
    "print(\"\\nSecond response:\", response2.output_text)"
   ]
  },
  {
   "cell_type": "markdown",
   "metadata": {},
   "source": [
    "## 3. Function Calling\n",
    "\n",
    "Simple demo of OpenAI function calling - AI decides when to call your custom functions.\n",
    "\n",
    "**How it works:**\n",
    "1. Define a Python function  \n",
    "2. Describe it to OpenAI with a tool schema  \n",
    "3. AI automatically calls it when needed  \n",
    "4. You execute the function and see the result"
   ]
  },
  {
   "cell_type": "code",
   "execution_count": 3,
   "metadata": {},
   "outputs": [
    {
     "name": "stdout",
     "output_type": "stream",
     "text": [
      "🤖 AI called: get_weather({\"city\":\"Tokyo\"})\n",
      "📊 Result: 🌤️ Tokyo: 31°C, Partly cloudy\n",
      "✅ Function calling works!\n",
      "📊 Result: 🌤️ Tokyo: 31°C, Partly cloudy\n",
      "✅ Function calling works!\n"
     ]
    }
   ],
   "source": [
    "import requests\n",
    "\n",
    "def get_weather(city):\n",
    "    \"\"\"Get weather using a simple API\"\"\"\n",
    "    try:\n",
    "        # Simple weather API that returns JSON\n",
    "        url = f\"https://wttr.in/{city}?format=j1\"\n",
    "        data = requests.get(url, timeout=5).json()\n",
    "        temp = data[\"current_condition\"][0][\"temp_C\"]\n",
    "        desc = data[\"current_condition\"][0][\"weatherDesc\"][0][\"value\"]\n",
    "        return f\"🌤️ {city}: {temp}°C, {desc}\"\n",
    "    except:\n",
    "        return f\"🌤️ {city}: 22°C, Sunny (demo data)\"\n",
    "\n",
    "# Define the tool for OpenAI\n",
    "tools = [{\n",
    "    \"type\": \"function\",\n",
    "    \"name\": \"get_weather\",\n",
    "    \"description\": \"Get weather for a city\",\n",
    "    \"parameters\": {\n",
    "        \"type\": \"object\",\n",
    "        \"properties\": {\"city\": {\"type\": \"string\"}},\n",
    "        \"required\": [\"city\"]\n",
    "    }\n",
    "}]\n",
    "\n",
    "# Call OpenAI with the tool\n",
    "response = client.responses.create(\n",
    "    model=\"gpt-4o-mini\",\n",
    "    input=\"What's the weather in Tokyo?\",\n",
    "    tools=tools\n",
    ")\n",
    "\n",
    "# Execute any function calls\n",
    "for output in response.output:\n",
    "    if hasattr(output, 'type') and output.type == 'function_call':\n",
    "        print(f\"🤖 AI called: {output.name}({output.arguments})\")\n",
    "        \n",
    "        # Execute the function\n",
    "        import json\n",
    "        args = json.loads(output.arguments)\n",
    "        result = get_weather(**args)\n",
    "        \n",
    "        print(f\"📊 Result: {result}\")\n",
    "        print(\"✅ Function calling works!\")\n",
    "        break"
   ]
  },
  {
   "cell_type": "markdown",
   "metadata": {},
   "source": [
    "## 4. Structured Outputs"
   ]
  },
  {
   "cell_type": "code",
   "execution_count": null,
   "metadata": {},
   "outputs": [
    {
     "name": "stdout",
     "output_type": "stream",
     "text": [
      "{\n",
      "  \"name\": \"Coding Workshop\",\n",
      "  \"date\": \"Friday\",\n",
      "  \"participants\": [\n",
      "    \"Alice\",\n",
      "    \"Bob\"\n",
      "  ],\n",
      "  \"location\": \"Library\"\n",
      "}\n"
     ]
    }
   ],
   "source": [
    "from pydantic import BaseModel\n",
    "from typing import List\n",
    "\n",
    "# Define response structure\n",
    "class EventDetails(BaseModel):\n",
    "    name: str\n",
    "    date: str\n",
    "    participants: List[str]\n",
    "    location: str\n",
    "\n",
    "# Get the schema and add required additionalProperties field\n",
    "schema = EventDetails.model_json_schema()\n",
    "schema[\"additionalProperties\"] = False\n",
    "\n",
    "# Generate structured output\n",
    "response = client.responses.create(\n",
    "    model=\"gpt-4o\",\n",
    "    input=\"Alice and Bob are meeting for a coding workshop at the library on Friday.\",\n",
    "    # Define the output text format\n",
    "    text={\n",
    "        \"format\": {\n",
    "            \"type\": \"json_schema\",\n",
    "            \"name\": \"event_extraction\",\n",
    "            \"schema\": schema,\n",
    "            \"strict\": True\n",
    "        }\n",
    "    }\n",
    ")\n",
    "\n",
    "# Parse structured response\n",
    "event_data = json.loads(response.output_text)\n",
    "print(json.dumps(event_data, indent=2))"
   ]
  },
  {
   "cell_type": "markdown",
   "metadata": {},
   "source": [
    "## 5. Built-in Tools\n",
    "\n",
    "### Web Search"
   ]
  },
  {
   "cell_type": "code",
   "execution_count": 26,
   "metadata": {},
   "outputs": [
    {
     "name": "stdout",
     "output_type": "stream",
     "text": [
      "As of August 2025, artificial intelligence (AI) continues to evolve rapidly, influencing various sectors and prompting significant regulatory and ethical considerations. Key developments include:\n",
      "\n",
      "**Regulatory Initiatives and Global Cooperation**\n",
      "\n",
      "- **U.S. SEC's AI Task Force**: On August 1, 2025, the U.S. Securities and Exchange Commission (SEC) established an AI task force to enhance innovation and efficiency within its operations. Valerie Szczepanik was appointed as the SEC's first Chief AI Officer to lead this initiative. ([reuters.com](https://www.reuters.com/technology/us-securities-regulator-announces-ai-task-force-2025-08-01/?utm_source=openai))\n",
      "\n",
      "- **China's Proposal for Global AI Cooperation**: At the World Artificial Intelligence Conference in Shanghai on July 26, 2025, Chinese Premier Li Qiang proposed creating an international organization to coordinate AI development and governance. This initiative aims to prevent monopolization by a few powerful entities and promote equitable access to AI technologies, especially in the Global South. ([reuters.com](https://www.reuters.com/world/china/chinas-premier-li-proposes-global-ai-cooperation-organisation-2025-07-26/?utm_source=openai))\n",
      "\n",
      "**Advancements in AI Technologies**\n",
      "\n",
      "- **Rise of AI Agents**: AI agents, autonomous systems capable of setting goals, planning steps, and correcting themselves, are becoming prevalent. Tools like Auto-GPT and OpenAI’s Assistant API can perform tasks such as browsing the internet, writing code, sending emails, and analyzing documents with minimal user input. This marks a shift towards more productive digital workers. ([techradar.com](https://www.techradar.com/pro/ai-agents-the-next-big-phase-of-artificial-intelligence?utm_source=openai))\n",
      "\n",
      "- **On-Device AI for Privacy and Speed**: There's a significant move from cloud-based inference to on-device AI, enabling real-time processing on devices like smartphones and wearables. This approach reduces latency, enhances privacy by keeping data local, and allows operation in low-connectivity environments. ([rytsensetech.com](https://rytsensetech.com/ai-development/latest-ai-development/?utm_source=openai))\n",
      "\n",
      "**Industry Investments and Innovations**\n",
      "\n",
      "- **Meta's 'Superintelligence' Lab**: In June 2025, Meta launched Meta Superintelligence Labs to centralize and accelerate its AI efforts. Alexandr Wang, former CEO of Scale AI, was appointed as Chief AI Officer to lead advancements in artificial general intelligence (AGI) and develop monetizable products like the Meta AI app and smart glasses. ([reuters.com](https://www.reuters.com/business/meta-deepens-ai-push-with-superintelligence-lab-source-says-2025-06-30/?utm_source=openai))\n",
      "\n",
      "- **Google's 'AI Mode' in Search**: In June 2025, Google introduced \"AI Mode\" in its search engine, allowing users to interact conversationally to obtain expert-level answers. This feature integrates Google's Gemini 2.5 model and includes capabilities like automated ticket purchases and live video search functions. ([apnews.com](https://apnews.com/article/5b0cdc59870508dab856227185cb8e23?utm_source=openai))\n",
      "\n",
      "**Regulatory Frameworks**\n",
      "\n",
      "- **European Union's AI Act**: The EU's Artificial Intelligence Act, which came into force on August 1, 2024, establishes a common regulatory framework for AI within the EU. It classifies AI applications by risk levels—unacceptable, high, limited, and minimal—and imposes corresponding obligations to ensure safety and transparency. ([en.wikipedia.org](https://en.wikipedia.org/wiki/Artificial_Intelligence_Act?utm_source=openai))\n",
      "\n",
      "**Emerging Trends**\n",
      "\n",
      "- **Quantum AI**: The integration of quantum computing with AI, known as Quantum AI, is advancing rapidly. This synergy aims to solve complex problems more efficiently, with applications in system optimization, material science, and encryption. ([appinventiv.com](https://appinventiv.com/blog/ai-technology-trends/?utm_source=openai))\n",
      "\n",
      "- **AI in Mental Health**: AI applications in mental health are expanding, with startups developing AI chatbots and tools for early diagnosis and personalized treatment plans. For instance, Cedars-Sinai developed XAIA, a program using immersive virtual reality and generative AI to provide mental health support. ([en.wikipedia.org](https://en.wikipedia.org/wiki/Artificial_intelligence_in_mental_health?utm_source=openai))\n",
      "\n",
      "These developments underscore AI's transformative impact across industries and the growing emphasis on ethical considerations and regulatory frameworks to guide its integration into society.\n",
      "\n",
      "\n",
      "## Recent AI Developments in 2025:\n",
      "- [US securities regulator announces AI task force](https://www.reuters.com/technology/us-securities-regulator-announces-ai-task-force-2025-08-01/?utm_source=openai)\n",
      "- [China's Premier Li proposes global AI cooperation organisation](https://www.reuters.com/world/china/chinas-premier-li-proposes-global-ai-cooperation-organisation-2025-07-26/?utm_source=openai)\n",
      "- [AI Agents: the next big phase of artificial intelligence](https://www.techradar.com/pro/ai-agents-the-next-big-phase-of-artificial-intelligence?utm_source=openai) \n",
      "Source: US securities regulator announces AI task force\n",
      "URL: https://www.reuters.com/technology/us-securities-regulator-announces-ai-task-force-2025-08-01/?utm_source=openai\n",
      "Source: China's Premier Li proposes global AI cooperation organisation\n",
      "URL: https://www.reuters.com/world/china/chinas-premier-li-proposes-global-ai-cooperation-organisation-2025-07-26/?utm_source=openai\n",
      "Source: AI Agents: the next big phase of artificial intelligence\n",
      "URL: https://www.techradar.com/pro/ai-agents-the-next-big-phase-of-artificial-intelligence?utm_source=openai\n",
      "Source: Latest AI Trends: Key Developments Shaping the Future\n",
      "URL: https://rytsensetech.com/ai-development/latest-ai-development/?utm_source=openai\n",
      "Source: Meta deepens AI push with 'Superintelligence' lab, source says\n",
      "URL: https://www.reuters.com/business/meta-deepens-ai-push-with-superintelligence-lab-source-says-2025-06-30/?utm_source=openai\n",
      "Source: Google's unleashes 'AI Mode' in the next phase of its journey to change search\n",
      "URL: https://apnews.com/article/5b0cdc59870508dab856227185cb8e23?utm_source=openai\n",
      "Source: Artificial Intelligence Act\n",
      "URL: https://en.wikipedia.org/wiki/Artificial_Intelligence_Act?utm_source=openai\n",
      "Source: Top AI Trends 2025: Key Developments to Watch\n",
      "URL: https://appinventiv.com/blog/ai-technology-trends/?utm_source=openai\n",
      "Source: Artificial intelligence in mental health\n",
      "URL: https://en.wikipedia.org/wiki/Artificial_intelligence_in_mental_health?utm_source=openai\n",
      "Source: US securities regulator announces AI task force\n",
      "URL: https://www.reuters.com/technology/us-securities-regulator-announces-ai-task-force-2025-08-01/?utm_source=openai\n",
      "Source: China's Premier Li proposes global AI cooperation organisation\n",
      "URL: https://www.reuters.com/world/china/chinas-premier-li-proposes-global-ai-cooperation-organisation-2025-07-26/?utm_source=openai\n",
      "Source: AI Agents: the next big phase of artificial intelligence\n",
      "URL: https://www.techradar.com/pro/ai-agents-the-next-big-phase-of-artificial-intelligence?utm_source=openai\n"
     ]
    }
   ],
   "source": [
    "# Use web search tool\n",
    "response = client.responses.create(\n",
    "    model=\"gpt-4o\",\n",
    "    input=\"What are the latest developments in AI in 2025?\",\n",
    "    tools=[{\"type\": \"web_search_preview\"}]\n",
    ")\n",
    "\n",
    "print(response.output_text)\n",
    "\n",
    "# Access citations\n",
    "for output in response.output:\n",
    "    if hasattr(output, 'content'):\n",
    "        for content in output.content:\n",
    "            if hasattr(content, 'annotations'):\n",
    "                for annotation in content.annotations:\n",
    "                    if annotation.type == 'url_citation':\n",
    "                        print(f\"Source: {annotation.title}\")\n",
    "                        print(f\"URL: {annotation.url}\")"
   ]
  },
  {
   "cell_type": "markdown",
   "metadata": {},
   "source": [
    "### File Search"
   ]
  },
  {
   "cell_type": "code",
   "execution_count": null,
   "metadata": {},
   "outputs": [
    {
     "name": "stdout",
     "output_type": "stream",
     "text": [
      "File uploaded: file-9RjS9RgNbcUu2VExQf5XnF\n",
      "Vector store created: vs_688d979adc4c81919c04bdf5834e452a\n",
      "Vector store created: vs_688d979adc4c81919c04bdf5834e452a\n",
      "File added to vector store. Status: in_progress\n",
      "File added to vector store. Status: in_progress\n",
      "File processing status: completed\n",
      "File processing status: completed\n",
      "Response:\n",
      "AI Agents, as described in the document, are LLM-powered systems capable of independently accomplishing tasks on behalf of users. Here's a detailed explanation of their key characteristics and capabilities:\n",
      "\n",
      "### Key Characteristics:\n",
      "\n",
      "1. **Independence:** \n",
      "   - AI Agents perform tasks with a high degree of independence, streamlining and automating workflows without constant user intervention.\n",
      "\n",
      "2. **LLM Integration:** \n",
      "   - They leverage large language models (LLMs) to manage workflow execution and make decisions. This includes recognizing when a workflow is complete and correcting actions if needed.\n",
      "\n",
      "3. **Tool Use:**\n",
      "   - Agents have access to various tools to interact with external systems for gathering context and taking actions. They dynamically select appropriate tools based on the workflow's current state.\n",
      "\n",
      "4. **Defined Guardrails:**\n",
      "   - Agents operate within clearly defined guardrails to ensure safety and predictability, using functions like jailbreak prevention and relevance validation.\n",
      "\n",
      "5. **Capability to Handle Complex Situations:**\n",
      "   - Particularly suited for workflows where traditional, rule-based approaches fail, such as complex decision-making and scenarios with unstructured data.\n",
      "\n",
      "### Capabilities:\n",
      "\n",
      "1. **Complex Decision-Making:**\n",
      "   - Agents handle workflows requiring nuanced judgment and context-sensitive decisions. Examples include customer service workflows like refund approvals.\n",
      "\n",
      "2. **Handling Unstructured Data:**\n",
      "   - They excel in scenarios that involve interpreting natural language or interacting with users conversationally.\n",
      "\n",
      "3. **Dynamic Tool Integration:**\n",
      "   - Agents use data, action, and orchestration tools to extend their capabilities. They can query databases, update records, and interact with APIs.\n",
      "\n",
      "4. **Human Intervention Planning:**\n",
      "   - Built-in mechanisms allow agents to transfer control to human operators for high-risk or complex tasks, ensuring reliable performance.\n",
      "\n",
      "5. **Flexible and Scalable Design:**\n",
      "   - Agents can start with basic setups and grow in complexity, utilizing multi-agent systems if necessary to manage increased requirements.\n",
      "\n",
      "Overall, AI Agents represent a significant advancement in automating and handling complex, multi-step tasks with intelligence and adaptability.\n",
      "Response:\n",
      "AI Agents, as described in the document, are LLM-powered systems capable of independently accomplishing tasks on behalf of users. Here's a detailed explanation of their key characteristics and capabilities:\n",
      "\n",
      "### Key Characteristics:\n",
      "\n",
      "1. **Independence:** \n",
      "   - AI Agents perform tasks with a high degree of independence, streamlining and automating workflows without constant user intervention.\n",
      "\n",
      "2. **LLM Integration:** \n",
      "   - They leverage large language models (LLMs) to manage workflow execution and make decisions. This includes recognizing when a workflow is complete and correcting actions if needed.\n",
      "\n",
      "3. **Tool Use:**\n",
      "   - Agents have access to various tools to interact with external systems for gathering context and taking actions. They dynamically select appropriate tools based on the workflow's current state.\n",
      "\n",
      "4. **Defined Guardrails:**\n",
      "   - Agents operate within clearly defined guardrails to ensure safety and predictability, using functions like jailbreak prevention and relevance validation.\n",
      "\n",
      "5. **Capability to Handle Complex Situations:**\n",
      "   - Particularly suited for workflows where traditional, rule-based approaches fail, such as complex decision-making and scenarios with unstructured data.\n",
      "\n",
      "### Capabilities:\n",
      "\n",
      "1. **Complex Decision-Making:**\n",
      "   - Agents handle workflows requiring nuanced judgment and context-sensitive decisions. Examples include customer service workflows like refund approvals.\n",
      "\n",
      "2. **Handling Unstructured Data:**\n",
      "   - They excel in scenarios that involve interpreting natural language or interacting with users conversationally.\n",
      "\n",
      "3. **Dynamic Tool Integration:**\n",
      "   - Agents use data, action, and orchestration tools to extend their capabilities. They can query databases, update records, and interact with APIs.\n",
      "\n",
      "4. **Human Intervention Planning:**\n",
      "   - Built-in mechanisms allow agents to transfer control to human operators for high-risk or complex tasks, ensuring reliable performance.\n",
      "\n",
      "5. **Flexible and Scalable Design:**\n",
      "   - Agents can start with basic setups and grow in complexity, utilizing multi-agent systems if necessary to manage increased requirements.\n",
      "\n",
      "Overall, AI Agents represent a significant advancement in automating and handling complex, multi-step tasks with intelligence and adaptability.\n"
     ]
    }
   ],
   "source": [
    "# Upload and search files (requires vector store setup)\n",
    "# First, upload a file with correct path\n",
    "file_path = \"a-practical-guide-to-building-agents.pdf\"\n",
    "with open(file_path, \"rb\") as file:\n",
    "    uploaded_file = client.files.create(file=file, purpose=\"assistants\")\n",
    "\n",
    "print(f\"File uploaded: {uploaded_file.id}\")\n",
    "\n",
    "# Create vector store\n",
    "vector_store = client.vector_stores.create(name=\"knowledge_base\")\n",
    "print(f\"Vector store created: {vector_store.id}\")\n",
    "\n",
    "# Add file to vector store\n",
    "file_batch = client.vector_stores.files.create(\n",
    "    vector_store_id=vector_store.id,\n",
    "    file_id=uploaded_file.id\n",
    ")\n",
    "\n",
    "print(f\"File added to vector store. Status: {file_batch.status}\")\n",
    "\n",
    "# Wait a moment for processing (in production, you'd check the status)\n",
    "import time\n",
    "time.sleep(5)  # Wait a bit longer for processing\n",
    "\n",
    "# Check if the file is processed\n",
    "file_status = client.vector_stores.files.retrieve(\n",
    "    vector_store_id=vector_store.id,\n",
    "    file_id=uploaded_file.id\n",
    ")\n",
    "print(f\"File processing status: {file_status.status}\")\n",
    "\n",
    "# Search within uploaded files using correct tool structure\n",
    "response = client.responses.create(\n",
    "    model=\"gpt-4o\",\n",
    "    input=\"What are AI Agents based on the uploaded document? Provide a detailed explanation of their key characteristics and capabilities.\",\n",
    "    tools=[{\n",
    "        \"type\": \"file_search\",\n",
    "        \"vector_store_ids\": [vector_store.id],\n",
    "        \"max_num_results\": 5\n",
    "    }]\n",
    ")\n",
    "\n",
    "print(\"Response:\")\n",
    "print(response.output_text)\n",
    "\n",
    "# Also show any citations if available\n",
    "for output in response.output:\n",
    "    if hasattr(output, 'content'):\n",
    "        for content_item in output.content:\n",
    "            if hasattr(content_item, 'annotations'):\n",
    "                for annotation in content_item.annotations:\n",
    "                    if hasattr(annotation, 'file_citation'):\n",
    "                        print(f\"\\nSource: File {annotation.file_citation.file_id}\")\n",
    "                        print(f\"Quote: {annotation.file_citation.quote}\")"
   ]
  },
  {
   "cell_type": "markdown",
   "metadata": {},
   "source": [
    "## 6. Image Analysis"
   ]
  },
  {
   "cell_type": "code",
   "execution_count": null,
   "metadata": {},
   "outputs": [
    {
     "name": "stdout",
     "output_type": "stream",
     "text": [
      "Image being analyzed:\n"
     ]
    },
    {
     "data": {
      "image/png": "[encoded data removed]",
      "text/plain": [
       "<IPython.core.display.Image object>"
      ]
     },
     "metadata": {},
     "output_type": "display_data"
    },
    {
     "name": "stdout",
     "output_type": "stream",
     "text": [
      "\n",
      "==================================================\n",
      "AI Analysis:\n",
      "==================================================\n",
      "The image depicts four colorful dice. They are shown in red, blue, green, and yellow, each with white dots representing numbers. The dice appear to be floating or rolling in mid-air.\n",
      "The image depicts four colorful dice. They are shown in red, blue, green, and yellow, each with white dots representing numbers. The dice appear to be floating or rolling in mid-air.\n"
     ]
    }
   ],
   "source": [
    "# Analyze images\n",
    "from IPython.display import Image, display\n",
    "import requests\n",
    "from io import BytesIO\n",
    "\n",
    "# Image URL to analyze\n",
    "image_url = \"https://upload.wikimedia.org/wikipedia/commons/thumb/4/47/PNG_transparency_demonstration_1.png/280px-PNG_transparency_demonstration_1.png\"\n",
    "\n",
    "# Display the image first\n",
    "print(\"Image being analyzed:\")\n",
    "try:\n",
    "    # Download and display the image\n",
    "    response_img = requests.get(image_url)\n",
    "    img = Image(data=response_img.content)\n",
    "    display(img)\n",
    "except:\n",
    "    print(f\"Could not display image from: {image_url}\")\n",
    "\n",
    "print(\"\\n\" + \"=\"*50)\n",
    "print(\"AI Analysis:\")\n",
    "print(\"=\"*50)\n",
    "\n",
    "# Analyze the image with OpenAI\n",
    "response = client.responses.create(\n",
    "    model=\"gpt-4o\",\n",
    "    input=[\n",
    "        {\"role\": \"user\", \"content\": \"Describe what you see in this image.\"},\n",
    "        {\n",
    "            \"role\": \"user\", \n",
    "            \"content\": [{\n",
    "                \"type\": \"input_image\",\n",
    "                \"image_url\": image_url\n",
    "            }]\n",
    "        }\n",
    "    ]\n",
    ")\n",
    "\n",
    "print(response.output_text)"
   ]
  },
  {
   "cell_type": "markdown",
   "metadata": {},
   "source": [
    "## 7. Streaming Responses"
   ]
  },
  {
   "cell_type": "code",
   "execution_count": 4,
   "metadata": {},
   "outputs": [
    {
     "name": "stdout",
     "output_type": "stream",
     "text": [
      "Streaming response:\n",
      "SureSure! Machine! Machine learning is learning is a way a way for for computers to learn computers to learn from data from data without being without being explicitly programmed explicitly programmed for every task.\n",
      "\n",
      " for every task.\n",
      "\n",
      "Think ofThink of it like it like teaching a teaching a child. child. Instead of Instead of giving them giving them a step a step-by-step-by-step guide on guide on how to how to recognize a recognize a dog, dog, you show you show them lots them lots of pictures of pictures of dogs of dogs. Over. Over time, time, they learn they learn to identify to identify a dog a dog on their on their own based own based on what on what they’ve they’ve seen. seen. \n",
      "\n",
      "In \n",
      "\n",
      "In the same way, the same way, machine learning machine learning uses data uses data to help to help computers recognize computers recognize patterns, patterns, make decisions make decisions, or, or predict outcomes predict outcomes. \n",
      "\n",
      ". \n",
      "\n",
      "There areThere are different types different types of machine of machine learning, learning, but they but they generally involve generally involve:\n",
      "\n",
      "1:\n",
      "\n",
      "1. **. **Training**Training**: Feeding: Feeding the computer the computer lots of lots of examples ( examples (data).\n",
      "data).\n",
      "2.2. **Learning **Learning**:**: The computer The computer finds patterns finds patterns in the in the data.\n",
      " data.\n",
      "3.3. **Testing **Testing**:**: Checking how Checking how well it well it learned by learned by giving it giving it new examples new examples it hasn't it hasn't seen before seen before.\n",
      "\n",
      "Once.\n",
      "\n",
      "Once trained, trained, the machine the machine can then can then make decisions make decisions or predictions or predictions based on based on new information new information, similar, similar to how to how you might you might tell whether tell whether a new animal is a dog a new animal is a dog based on what you’ve based on what you’ve learned before. learned before."
     ]
    }
   ],
   "source": [
    "# Stream responses in real-time\n",
    "stream = client.responses.create(\n",
    "    model=\"gpt-4o-mini\",\n",
    "    input=\"Explain machine learning in simple terms.\",\n",
    "    stream=True\n",
    ")\n",
    "\n",
    "print(\"Streaming response:\")\n",
    "for event in stream:\n",
    "    if hasattr(event, \"type\") and \"text.delta\" in event.type:\n",
    "        print(event.delta, end=\"\", flush=True)"
   ]
  },
  {
   "cell_type": "markdown",
   "metadata": {},
   "source": [
    "## 8. Advanced Features\n",
    "\n",
    "### Background Mode (for reasoning models)"
   ]
  },
  {
   "cell_type": "code",
   "execution_count": 5,
   "metadata": {},
   "outputs": [
    {
     "name": "stdout",
     "output_type": "stream",
     "text": [
      "To find the derivative of the function f(x) = x³ + 2x² – 5x + 3, we'll differentiate each term separately using the power rule. The power rule states that the derivative of x^n is n·x^(n-1).\n",
      "\n",
      "1. For x³, the derivative is 3x².\n",
      "2. For 2x², the derivative is 2 × 2x = 4x.\n",
      "3. For –5x, the derivative is –5.\n",
      "4. The derivative of the constant 3 is 0.\n",
      "\n",
      "Putting these together, the derivative f '(x) is:\n",
      "\n",
      "  f '(x) = 3x² + 4x – 5.\n"
     ]
    }
   ],
   "source": [
    "# Use reasoning models with background processing\n",
    "response = client.responses.create(\n",
    "    model=\"o3-mini\",\n",
    "    input=\"Solve this complex math problem: Find the derivative of x^3 + 2x^2 - 5x + 3\",\n",
    "    reasoning={\"effort\": \"medium\"}\n",
    ")\n",
    "\n",
    "print(response.output_text)"
   ]
  },
  {
   "cell_type": "markdown",
   "metadata": {},
   "source": [
    "### Error Handling"
   ]
  },
  {
   "cell_type": "code",
   "execution_count": 6,
   "metadata": {},
   "outputs": [
    {
     "name": "stdout",
     "output_type": "stream",
     "text": [
      "Hello! How can I assist you today?\n"
     ]
    }
   ],
   "source": [
    "import openai\n",
    "\n",
    "try:\n",
    "    response = client.responses.create(\n",
    "        model=\"gpt-4o\",\n",
    "        input=\"Hello world!\"\n",
    "    )\n",
    "    print(response.output_text)\n",
    "    \n",
    "except openai.RateLimitError:\n",
    "    print(\"Rate limit exceeded. Please try again later.\")\n",
    "except openai.APIError as e:\n",
    "    print(f\"API error occurred: {e}\")\n",
    "except Exception as e:\n",
    "    print(f\"Unexpected error: {e}\")"
   ]
  },
  {
   "cell_type": "markdown",
   "metadata": {},
   "source": [
    "## Best Practices\n",
    "\n",
    "1. **Use appropriate models**: Choose `gpt-4o` for complex tasks, `gpt-4o-mini` for simple operations\n",
    "2. **Manage conversation state**: Use `previous_response_id` for multi-turn conversations\n",
    "3. **Leverage built-in tools**: Web search and file search reduce development complexity\n",
    "4. **Structure outputs**: Use JSON schemas for consistent, parseable responses\n",
    "5. **Handle errors gracefully**: Implement proper error handling for production applications\n",
    "6. **Monitor usage**: Track API usage and costs in production environments"
   ]
  },
  {
   "cell_type": "markdown",
   "metadata": {},
   "source": [
    "## Migration from Chat Completions\n",
    "\n",
    "The Responses API is backward compatible with Chat Completions, making migration straightforward:"
   ]
  },
  {
   "cell_type": "code",
   "execution_count": null,
   "metadata": {},
   "outputs": [],
   "source": [
    "# Old Chat Completions way\n",
    "# response = client.chat.completions.create(\n",
    "#     model=\"gpt-4o\",\n",
    "#     messages=[{\"role\": \"user\", \"content\": \"Hello!\"}]\n",
    "# )\n",
    "\n",
    "# New Responses API way\n",
    "response = client.responses.create(\n",
    "    model=\"gpt-4o\",\n",
    "    input=\"Hello!\"\n",
    ")\n",
    "\n",
    "print(response.output_text)"
   ]
  },
  {
   "cell_type": "markdown",
   "metadata": {},
   "source": [
    "## Conclusion\n",
    "\n",
    "The Responses API provides a more powerful, unified interface for building sophisticated AI applications with less code and complexity. It combines orchestration logic and integrates built-in tools without requiring custom implementation, making it the preferred choice for new projects.\n",
    "\n",
    "Key advantages:\n",
    "- Simplified development experience\n",
    "- Built-in tools reduce boilerplate code\n",
    "- Automatic conversation state management\n",
    "- Enhanced function calling capabilities\n",
    "- Support for multimodal inputs and structured outputs"
   ]
  }
 ],
 "metadata": {
  "kernelspec": {
   "display_name": "3.10.14",
   "language": "python",
   "name": "python3"
  },
  "language_info": {
   "codemirror_mode": {
    "name": "ipython",
    "version": 3
   },
   "file_extension": ".py",
   "mimetype": "text/x-python",
   "name": "python",
   "nbconvert_exporter": "python",
   "pygments_lexer": "ipython3",
   "version": "3.10.14"
  }
 },
 "nbformat": 4,
 "nbformat_minor": 4
}
