{
 "cells": [
  {
   "cell_type": "markdown",
   "metadata": {},
   "source": [
    "# OpenAI Responses API: Complete Tutorial\n",
    "\n",
    "## Overview\n",
    "\n",
    "The OpenAI Responses API is a superset of Chat Completions, meaning everything you can do with Chat Completions can be done with the Responses API, plus additional features. This unified interface simplifies building AI applications with built-in tools, conversation management, and enhanced capabilities.\n",
    "\n",
    "### Key Features\n",
    "- **Simplified Interface**: Single API for complex interactions\n",
    "- **Built-in Tools**: Web search, file search, computer use\n",
    "- **Stateful Conversations**: Automatic conversation management\n",
    "- **Structured Outputs**: Type-safe responses with Pydantic\n",
    "- **Enhanced Function Calling**: Custom tool integration"
   ]
  },
  {
   "cell_type": "markdown",
   "metadata": {},
   "source": [
    "## Setup"
   ]
  },
  {
   "cell_type": "code",
   "execution_count": null,
   "metadata": {},
   "outputs": [],
   "source": [
    "# Uncomment to install required packages\n",
    "# !pip install openai python-dotenv"
   ]
  },
  {
   "cell_type": "code",
   "execution_count": 4,
   "metadata": {},
   "outputs": [],
   "source": [
    "import os\n",
    "from openai import OpenAI\n",
    "from dotenv import load_dotenv\n",
    "import json\n",
    "from IPython.display import Markdown, display\n",
    "\n",
    "# Load environment variables\n",
    "load_dotenv()\n",
    "\n",
    "# Initialize client\n",
    "client = OpenAI(api_key=os.getenv(\"OPENAI_API_KEY\"))"
   ]
  },
  {
   "cell_type": "markdown",
   "metadata": {},
   "source": [
    "## 1. Basic Text Generation"
   ]
  },
  {
   "cell_type": "code",
   "execution_count": 5,
   "metadata": {},
   "outputs": [
    {
     "data": {
      "text/markdown": [
       "Machine minds awake,  \n",
       "Patterns dance in circuits bright—  \n",
       "Whispers of the code."
      ],
      "text/plain": [
       "<IPython.core.display.Markdown object>"
      ]
     },
     "metadata": {},
     "output_type": "display_data"
    }
   ],
   "source": [
    "# Simple text generation\n",
    "response = client.responses.create(\n",
    "    model=\"gpt-4o\",\n",
    "    input=\"Write a haiku about artificial intelligence.\"\n",
    ")\n",
    "\n",
    "display(Markdown(response.output_text))"
   ]
  },
  {
   "cell_type": "markdown",
   "metadata": {},
   "source": [
    "### Instructions vs Input"
   ]
  },
  {
   "cell_type": "code",
   "execution_count": 6,
   "metadata": {},
   "outputs": [
    {
     "data": {
      "text/markdown": [
       "To read a CSV file in Python, you can use the built-in `csv` module for basic processing or the `pandas` library for more advanced tasks. Below are examples of both methods:\n",
       "\n",
       "### Using the `csv` Module\n",
       "\n",
       "```python\n",
       "import csv\n",
       "\n",
       "filename = 'data.csv'\n",
       "\n",
       "with open(filename, newline='') as csvfile:\n",
       "    csvreader = csv.reader(csvfile)\n",
       "    header = next(csvreader)  # Read the header row if there is one\n",
       "    for row in csvreader:\n",
       "        print(row)  # Each row is a list of values\n",
       "```\n",
       "\n",
       "### Using the `pandas` Library\n",
       "\n",
       "First, ensure you have pandas installed:\n",
       "\n",
       "```bash\n",
       "pip install pandas\n",
       "```\n",
       "\n",
       "Then use the following code:\n",
       "\n",
       "```python\n",
       "import pandas as pd\n",
       "\n",
       "filename = 'data.csv'\n",
       "\n",
       "df = pd.read_csv(filename)\n",
       "print(df)\n",
       "```\n",
       "\n",
       "Using `pandas` provides you with a DataFrame, which is convenient for data analysis and manipulation. It automatically handles headers and can easily process large datasets."
      ],
      "text/plain": [
       "<IPython.core.display.Markdown object>"
      ]
     },
     "metadata": {},
     "output_type": "display_data"
    }
   ],
   "source": [
    "# Using instructions for system-level guidance\n",
    "response = client.responses.create(\n",
    "    model=\"gpt-4o\",\n",
    "    instructions=\"You are a helpful coding assistant. Always provide working code examples.\",\n",
    "    input=\"How do I read a CSV file in Python?\"\n",
    ")\n",
    "\n",
    "display(Markdown(response.output_text))"
   ]
  },
  {
   "cell_type": "markdown",
   "metadata": {},
   "source": [
    "## 2. Conversation State Management\n",
    "\n",
    "### Manual State Management"
   ]
  },
  {
   "cell_type": "code",
   "execution_count": 7,
   "metadata": {},
   "outputs": [
    {
     "data": {
      "text/markdown": [
       "As of my last update, the population of Paris is approximately 2.1 million people within the city limits. However, the larger metropolitan area has a population of around 11 million. For the most current figures, it's always a good idea to check official statistics."
      ],
      "text/plain": [
       "<IPython.core.display.Markdown object>"
      ]
     },
     "metadata": {},
     "output_type": "display_data"
    }
   ],
   "source": [
    "# Build conversation manually\n",
    "conversation = [\n",
    "    {\"role\": \"user\", \"content\": \"What's the capital of France?\"},\n",
    "    {\"role\": \"assistant\", \"content\": \"The capital of France is Paris.\"},\n",
    "    {\"role\": \"user\", \"content\": \"What's the population?\"}\n",
    "]\n",
    "\n",
    "response = client.responses.create(\n",
    "    model=\"gpt-4o-mini\",\n",
    "    input=conversation\n",
    ")\n",
    "\n",
    "display(Markdown(response.output_text))"
   ]
  },
  {
   "cell_type": "markdown",
   "metadata": {},
   "source": [
    "### Automatic State Management"
   ]
  },
  {
   "cell_type": "code",
   "execution_count": 9,
   "metadata": {},
   "outputs": [
    {
     "name": "stdout",
     "output_type": "stream",
     "text": [
      "First response:\n"
     ]
    },
    {
     "data": {
      "text/markdown": [
       "Python is a versatile, high-level programming language known for its readability, simplicity, and extensive libraries for various applications."
      ],
      "text/plain": [
       "<IPython.core.display.Markdown object>"
      ]
     },
     "metadata": {},
     "output_type": "display_data"
    },
    {
     "name": "stdout",
     "output_type": "stream",
     "text": [
      "\n",
      "Second response:\n"
     ]
    },
    {
     "data": {
      "text/markdown": [
       "Python offers simplicity, readability, extensive libraries, community support, cross-platform compatibility, rapid development, strong integration capabilities, and versatility for multiple domains."
      ],
      "text/plain": [
       "<IPython.core.display.Markdown object>"
      ]
     },
     "metadata": {},
     "output_type": "display_data"
    }
   ],
   "source": [
    "# Let OpenAI handle conversation state\n",
    "response1 = client.responses.create(\n",
    "    model=\"gpt-4o-mini\",\n",
    "    input=\"Tell me about Python programming in 20 words.\"\n",
    ")\n",
    "\n",
    "# Continue conversation using previous response ID\n",
    "response2 = client.responses.create(\n",
    "    model=\"gpt-4o-mini\",\n",
    "    previous_response_id=response1.id,\n",
    "    input=\"What are its main advantages in 20 words?\"\n",
    ")\n",
    "\n",
    "print(\"First response:\")\n",
    "display(Markdown(response1.output_text))\n",
    "print(\"\\nSecond response:\")\n",
    "display(Markdown(response2.output_text))"
   ]
  },
  {
   "cell_type": "markdown",
   "metadata": {},
   "source": [
    "## 3. Function Calling\n",
    "\n",
    "Simple demo of OpenAI function calling - AI decides when to call your custom functions.\n",
    "\n",
    "**How it works:**\n",
    "1. Define a Python function  \n",
    "2. Describe it to OpenAI with a tool schema  \n",
    "3. AI automatically calls it when needed  \n",
    "4. You execute the function and see the result"
   ]
  },
  {
   "cell_type": "code",
   "execution_count": 10,
   "metadata": {},
   "outputs": [
    {
     "name": "stdout",
     "output_type": "stream",
     "text": [
      "🤖 AI called: get_weather({\"city\":\"Tokyo\"})\n",
      "📊 Result: 🌤️ Tokyo: 31°C, Partly cloudy\n",
      "✅ Function calling works!\n"
     ]
    }
   ],
   "source": [
    "import requests\n",
    "\n",
    "def get_weather(city):\n",
    "    \"\"\"Get weather using a simple API\"\"\"\n",
    "    try:\n",
    "        # Simple weather API that returns JSON\n",
    "        url = f\"https://wttr.in/{city}?format=j1\"\n",
    "        data = requests.get(url, timeout=5).json()\n",
    "        temp = data[\"current_condition\"][0][\"temp_C\"]\n",
    "        desc = data[\"current_condition\"][0][\"weatherDesc\"][0][\"value\"]\n",
    "        return f\"🌤️ {city}: {temp}°C, {desc}\"\n",
    "    except:\n",
    "        return f\"🌤️ {city}: 22°C, Sunny (demo data)\"\n",
    "\n",
    "# Define the tool for OpenAI\n",
    "tools = [{\n",
    "    \"type\": \"function\",\n",
    "    \"name\": \"get_weather\",\n",
    "    \"description\": \"Get weather for a city\",\n",
    "    \"parameters\": {\n",
    "        \"type\": \"object\",\n",
    "        \"properties\": {\"city\": {\"type\": \"string\"}},\n",
    "        \"required\": [\"city\"]\n",
    "    }\n",
    "}]\n",
    "\n",
    "# Call OpenAI with the tool\n",
    "response = client.responses.create(\n",
    "    model=\"gpt-4o-mini\",\n",
    "    input=\"What's the weather in Tokyo?\",\n",
    "    tools=tools\n",
    ")\n",
    "\n",
    "# Execute any function calls\n",
    "for output in response.output:\n",
    "    if hasattr(output, 'type') and output.type == 'function_call':\n",
    "        print(f\"🤖 AI called: {output.name}({output.arguments})\")\n",
    "        \n",
    "        # Execute the function\n",
    "        import json\n",
    "        args = json.loads(output.arguments)\n",
    "        result = get_weather(**args)\n",
    "        \n",
    "        print(f\"📊 Result: {result}\")\n",
    "        print(\"✅ Function calling works!\")\n",
    "        break"
   ]
  },
  {
   "cell_type": "markdown",
   "metadata": {},
   "source": [
    "## 4. Structured Outputs"
   ]
  },
  {
   "cell_type": "code",
   "execution_count": null,
   "metadata": {},
   "outputs": [
    {
     "name": "stdout",
     "output_type": "stream",
     "text": [
      "{\n",
      "  \"name\": \"Coding Workshop\",\n",
      "  \"date\": \"Friday\",\n",
      "  \"participants\": [\n",
      "    \"Alice\",\n",
      "    \"Bob\"\n",
      "  ],\n",
      "  \"location\": \"Library\"\n",
      "}\n"
     ]
    }
   ],
   "source": [
    "from pydantic import BaseModel\n",
    "from typing import List\n",
    "\n",
    "# Define response structure\n",
    "class EventDetails(BaseModel):\n",
    "    name: str\n",
    "    date: str\n",
    "    participants: List[str]\n",
    "    location: str\n",
    "\n",
    "# Get the schema and add required additionalProperties field\n",
    "schema = EventDetails.model_json_schema()\n",
    "schema[\"additionalProperties\"] = False\n",
    "\n",
    "# Generate structured output\n",
    "response = client.responses.create(\n",
    "    model=\"gpt-4o\",\n",
    "    input=\"Alice and Bob are meeting for a coding workshop at the library on Friday.\",\n",
    "    # Define the output text format\n",
    "    text={\n",
    "        \"format\": {\n",
    "            \"type\": \"json_schema\",\n",
    "            \"name\": \"event_extraction\",\n",
    "            \"schema\": schema,\n",
    "            \"strict\": True\n",
    "        }\n",
    "    }\n",
    ")\n",
    "\n",
    "# Parse structured response\n",
    "event_data = json.loads(response.output_text)\n",
    "print(json.dumps(event_data, indent=2))"
   ]
  },
  {
   "cell_type": "markdown",
   "metadata": {},
   "source": [
    "## 5. Built-in Tools\n",
    "\n",
    "### Web Search"
   ]
  },
  {
   "cell_type": "code",
   "execution_count": 12,
   "metadata": {},
   "outputs": [
    {
     "data": {
      "text/markdown": [
       "As of August 2, 2025, the field of artificial intelligence (AI) has seen several significant developments:\n",
       "\n",
       "1. **U.S. SEC Establishes AI Task Force**: The U.S. Securities and Exchange Commission (SEC) announced the formation of a new AI task force to enhance innovation and efficiency within its operations. Valerie Szczepanik has been appointed as the SEC's first Chief AI Officer to lead this initiative. ([reuters.com](https://www.reuters.com/technology/us-securities-regulator-announces-ai-task-force-2025-08-01/?utm_source=openai))\n",
       "\n",
       "2. **China Proposes Global AI Cooperation Organization**: China has proposed creating an international organization to promote global cooperation on AI, aiming to provide an alternative to U.S.-led initiatives and foster inclusive development of the technology. Premier Li Qiang announced this at the World Artificial Intelligence Conference in Shanghai. ([reuters.com](https://www.reuters.com/world/china/china-proposes-new-global-ai-cooperation-organisation-2025-07-26/?utm_source=openai))\n",
       "\n",
       "3. **Meta Launches 'Superintelligence' Lab**: Meta has established a new division, Meta Superintelligence Labs, to centralize and accelerate its AI efforts. Alexandr Wang, former CEO of Scale AI, has been appointed as Chief AI Officer to lead this initiative, focusing on advancements in artificial general intelligence (AGI). ([reuters.com](https://www.reuters.com/business/meta-deepens-ai-push-with-superintelligence-lab-source-says-2025-06-30/?utm_source=openai))\n",
       "\n",
       "4. **Google Introduces 'AI Mode' in Search**: Google unveiled a new \"AI Mode\" in its search engine, allowing users to interact conversationally to receive expert-level answers. This feature integrates Google's Gemini 2.5 model and includes capabilities like automated ticket purchases and live video search functions. ([apnews.com](https://apnews.com/article/5b0cdc59870508dab856227185cb8e23?utm_source=openai))\n",
       "\n",
       "5. **Advancements in AI Agents**: AI agents are evolving from simple co-pilots to sophisticated autonomous systems, referred to as \"agentic AI.\" These agents can analyze data, understand context, and make independent decisions to achieve user-defined goals, transforming industries such as healthcare, finance, law, and retail. ([ft.com](https://www.ft.com/content/3e862e23-6e2c-4670-a68c-e204379fe01f?utm_source=openai))\n",
       "\n",
       "These developments highlight the rapid progress and diverse applications of AI across various sectors.\n",
       "\n",
       "\n",
       "## Recent AI Developments in 2025:\n",
       "- [US securities regulator announces AI task force](https://www.reuters.com/technology/us-securities-regulator-announces-ai-task-force-2025-08-01/?utm_source=openai)\n",
       "- [China proposes new global AI cooperation organisation](https://www.reuters.com/world/china/china-proposes-new-global-ai-cooperation-organisation-2025-07-26/?utm_source=openai)\n",
       "- [Meta deepens AI push with 'Superintelligence' lab, source says](https://www.reuters.com/business/meta-deepens-ai-push-with-superintelligence-lab-source-says-2025-06-30/?utm_source=openai) "
      ],
      "text/plain": [
       "<IPython.core.display.Markdown object>"
      ]
     },
     "metadata": {},
     "output_type": "display_data"
    },
    {
     "name": "stdout",
     "output_type": "stream",
     "text": [
      "Source: US securities regulator announces AI task force\n",
      "URL: https://www.reuters.com/technology/us-securities-regulator-announces-ai-task-force-2025-08-01/?utm_source=openai\n",
      "Source: China proposes new global AI cooperation organisation\n",
      "URL: https://www.reuters.com/world/china/china-proposes-new-global-ai-cooperation-organisation-2025-07-26/?utm_source=openai\n",
      "Source: Meta deepens AI push with 'Superintelligence' lab, source says\n",
      "URL: https://www.reuters.com/business/meta-deepens-ai-push-with-superintelligence-lab-source-says-2025-06-30/?utm_source=openai\n",
      "Source: Google's unleashes 'AI Mode' in the next phase of its journey to change search\n",
      "URL: https://apnews.com/article/5b0cdc59870508dab856227185cb8e23?utm_source=openai\n",
      "Source: AI agents: from co-pilot to autopilot\n",
      "URL: https://www.ft.com/content/3e862e23-6e2c-4670-a68c-e204379fe01f?utm_source=openai\n",
      "Source: US securities regulator announces AI task force\n",
      "URL: https://www.reuters.com/technology/us-securities-regulator-announces-ai-task-force-2025-08-01/?utm_source=openai\n",
      "Source: China proposes new global AI cooperation organisation\n",
      "URL: https://www.reuters.com/world/china/china-proposes-new-global-ai-cooperation-organisation-2025-07-26/?utm_source=openai\n",
      "Source: Meta deepens AI push with 'Superintelligence' lab, source says\n",
      "URL: https://www.reuters.com/business/meta-deepens-ai-push-with-superintelligence-lab-source-says-2025-06-30/?utm_source=openai\n"
     ]
    }
   ],
   "source": [
    "# Use web search tool\n",
    "response = client.responses.create(\n",
    "    model=\"gpt-4o\",\n",
    "    input=\"What are the latest developments in AI in 2025? give me top 5 sources only\",\n",
    "    tools=[{\"type\": \"web_search_preview\"}]\n",
    ")\n",
    "\n",
    "display(Markdown(response.output_text))\n",
    "\n",
    "# Access citations\n",
    "for output in response.output:\n",
    "    if hasattr(output, 'content'):\n",
    "        for content in output.content:\n",
    "            if hasattr(content, 'annotations'):\n",
    "                for annotation in content.annotations:\n",
    "                    if annotation.type == 'url_citation':\n",
    "                        print(f\"Source: {annotation.title}\")\n",
    "                        print(f\"URL: {annotation.url}\")"
   ]
  },
  {
   "cell_type": "markdown",
   "metadata": {},
   "source": [
    "### File Search"
   ]
  },
  {
   "cell_type": "code",
   "execution_count": 13,
   "metadata": {},
   "outputs": [
    {
     "name": "stdout",
     "output_type": "stream",
     "text": [
      "File uploaded: file-C4XCANNzS1AJkRSkQB2raw\n",
      "Vector store created: vs_688dbc4530608191bf2c80a71ccf2c49\n",
      "File added to vector store. Status: in_progress\n",
      "File processing status: completed\n",
      "Response:\n"
     ]
    },
    {
     "data": {
      "text/markdown": [
       "AI agents are systems designed to autonomously accomplish tasks on behalf of users. Key characteristics include leveraging a Large Language Model (LLM) for decision-making and workflow execution, accessing various tools to interact with external systems, and operating under clearly defined guidelines to ensure reliability. They are ideal for complex decision-making, handling unstructured data, and managing tasks where rule-based systems are insufficient."
      ],
      "text/plain": [
       "<IPython.core.display.Markdown object>"
      ]
     },
     "metadata": {},
     "output_type": "display_data"
    }
   ],
   "source": [
    "# Upload and search files (requires vector store setup)\n",
    "# First, upload a file with correct path\n",
    "file_path = \"a-practical-guide-to-building-agents.pdf\"\n",
    "with open(file_path, \"rb\") as file:\n",
    "    uploaded_file = client.files.create(file=file, purpose=\"assistants\")\n",
    "\n",
    "print(f\"File uploaded: {uploaded_file.id}\")\n",
    "\n",
    "# Create vector store\n",
    "vector_store = client.vector_stores.create(name=\"knowledge_base\")\n",
    "print(f\"Vector store created: {vector_store.id}\")\n",
    "\n",
    "# Add file to vector store\n",
    "file_batch = client.vector_stores.files.create(\n",
    "    vector_store_id=vector_store.id,\n",
    "    file_id=uploaded_file.id\n",
    ")\n",
    "\n",
    "print(f\"File added to vector store. Status: {file_batch.status}\")\n",
    "\n",
    "# Wait a moment for processing (in production, you'd check the status)\n",
    "import time\n",
    "time.sleep(5)  # Wait a bit longer for processing\n",
    "\n",
    "# Check if the file is processed\n",
    "file_status = client.vector_stores.files.retrieve(\n",
    "    vector_store_id=vector_store.id,\n",
    "    file_id=uploaded_file.id\n",
    ")\n",
    "print(f\"File processing status: {file_status.status}\")\n",
    "\n",
    "# Search within uploaded files using correct tool structure\n",
    "response = client.responses.create(\n",
    "    model=\"gpt-4o\",\n",
    "    input=\"What are AI Agents based on the uploaded document? Provide a detailed explanation of their key characteristics and capabilities within 100 words.\",\n",
    "    tools=[{\n",
    "        \"type\": \"file_search\",\n",
    "        \"vector_store_ids\": [vector_store.id],\n",
    "        \"max_num_results\": 5\n",
    "    }]\n",
    ")\n",
    "\n",
    "print(\"Response:\")\n",
    "display(Markdown(response.output_text))\n",
    "\n",
    "# Also show any citations if available\n",
    "for output in response.output:\n",
    "    if hasattr(output, 'content'):\n",
    "        for content_item in output.content:\n",
    "            if hasattr(content_item, 'annotations'):\n",
    "                for annotation in content_item.annotations:\n",
    "                    if hasattr(annotation, 'file_citation'):\n",
    "                        print(f\"\\nSource: File {annotation.file_citation.file_id}\")\n",
    "                        print(f\"Quote: {annotation.file_citation.quote}\")"
   ]
  },
  {
   "cell_type": "markdown",
   "metadata": {},
   "source": [
    "## 6. Image Analysis"
   ]
  },
  {
   "cell_type": "code",
   "execution_count": 14,
   "metadata": {},
   "outputs": [
    {
     "name": "stdout",
     "output_type": "stream",
     "text": [
      "Image being analyzed:\n"
     ]
    },
    {
     "data": {
      "image/png": "[encoded data removed]",
      "text/plain": [
       "<IPython.core.display.Image object>"
      ]
     },
     "metadata": {},
     "output_type": "display_data"
    },
    {
     "name": "stdout",
     "output_type": "stream",
     "text": [
      "\n",
      "==================================================\n",
      "AI Analysis:\n",
      "==================================================\n"
     ]
    },
    {
     "data": {
      "text/markdown": [
       "The image depicts a diagram of a neural network. It consists of three layers:\n",
       "\n",
       "1. **Input Layer**: Represented by red circles on the left. This layer is where inputs to the neural network are provided. \n",
       "\n",
       "2. **Hidden Layer**: Represented by blue circles in the middle. This layer processes input information through connected nodes to abstract patterns necessary for output.\n",
       "\n",
       "3. **Output Layer**: Represented by green circles on the right. This layer provides the final output of the neural network.\n",
       "\n",
       "Arrows connect nodes between layers, indicating the flow of information from input to output through the hidden layer."
      ],
      "text/plain": [
       "<IPython.core.display.Markdown object>"
      ]
     },
     "metadata": {},
     "output_type": "display_data"
    }
   ],
   "source": [
    "# Analyze images\n",
    "from IPython.display import Image\n",
    "import requests\n",
    "from io import BytesIO\n",
    "\n",
    "# Image URL to analyze\n",
    "image_url = \"https://upload.wikimedia.org/wikipedia/commons/thumb/4/46/Colored_neural_network.svg/296px-Colored_neural_network.svg.png\"\n",
    "\n",
    "# Display the image first\n",
    "print(\"Image being analyzed:\")\n",
    "try:\n",
    "    # Download and display the image\n",
    "    response_img = requests.get(image_url)\n",
    "    img = Image(data=response_img.content)\n",
    "    display(img)\n",
    "except:\n",
    "    print(f\"Could not display image from: {image_url}\")\n",
    "\n",
    "print(\"\\n\" + \"=\"*50)\n",
    "print(\"AI Analysis:\")\n",
    "print(\"=\"*50)\n",
    "\n",
    "# Analyze the image with OpenAI\n",
    "response = client.responses.create(\n",
    "    model=\"gpt-4o\",\n",
    "    input=[\n",
    "        {\"role\": \"user\", \"content\": \"Describe what you see in this image.\"},\n",
    "        {\n",
    "            \"role\": \"user\", \n",
    "            \"content\": [{\n",
    "                \"type\": \"input_image\",\n",
    "                \"image_url\": image_url\n",
    "            }]\n",
    "        }\n",
    "    ]\n",
    ")\n",
    "\n",
    "display(Markdown(response.output_text))"
   ]
  },
  {
   "cell_type": "markdown",
   "metadata": {},
   "source": [
    "## 7. Streaming Responses"
   ]
  },
  {
   "cell_type": "code",
   "execution_count": 15,
   "metadata": {},
   "outputs": [
    {
     "name": "stdout",
     "output_type": "stream",
     "text": [
      "Streaming response:\n",
      "Machine learning is a type of artificial intelligence that enables computers to learn from data and improve their performance over time without being explicitly programmed. Instead of following fixed rules, machines analyze patterns in data, make predictions, and adapt based on new information. For example, a recommendation system suggests movies by learning your preferences from past choices. Overall, it's about teaching computers to think and learn like humans do, using examples and experience to solve problems."
     ]
    }
   ],
   "source": [
    "# Stream responses in real-time\n",
    "stream = client.responses.create(\n",
    "    model=\"gpt-4o-mini\",\n",
    "    input=\"Explain machine learning in simple terms within 100 words.\",\n",
    "    stream=True\n",
    ")\n",
    "\n",
    "print(\"Streaming response:\")\n",
    "for event in stream:\n",
    "    if hasattr(event, \"type\") and \"text.delta\" in event.type:\n",
    "        print(event.delta, end=\"\", flush=True)"
   ]
  },
  {
   "cell_type": "markdown",
   "metadata": {},
   "source": [
    "## 8. Advanced Features\n",
    "\n",
    "### Background Mode (for reasoning models)"
   ]
  },
  {
   "cell_type": "code",
   "execution_count": null,
   "metadata": {},
   "outputs": [
    {
     "name": "stdout",
     "output_type": "stream",
     "text": [
      "To find the derivative of the function f(x) = x³ + 2x² – 5x + 3, we'll differentiate each term separately using the power rule. The power rule states that the derivative of x^n is n·x^(n-1).\n",
      "\n",
      "1. For x³, the derivative is 3x².\n",
      "2. For 2x², the derivative is 2 × 2x = 4x.\n",
      "3. For –5x, the derivative is –5.\n",
      "4. The derivative of the constant 3 is 0.\n",
      "\n",
      "Putting these together, the derivative f '(x) is:\n",
      "\n",
      "  f '(x) = 3x² + 4x – 5.\n"
     ]
    }
   ],
   "source": [
    "# Use reasoning models with background processing\n",
    "response = client.responses.create(\n",
    "    model=\"o3-mini\",\n",
    "    input=\"Solve this complex math problem: Find the derivative of x^3 + 2x^2 - 5x + 3\",\n",
    "    reasoning={\"effort\": \"medium\"}\n",
    ")\n",
    "\n",
    "display(Markdown(response.output_text))"
   ]
  },
  {
   "cell_type": "markdown",
   "metadata": {},
   "source": [
    "### Error Handling"
   ]
  },
  {
   "cell_type": "code",
   "execution_count": 6,
   "metadata": {},
   "outputs": [
    {
     "name": "stdout",
     "output_type": "stream",
     "text": [
      "Hello! How can I assist you today?\n"
     ]
    }
   ],
   "source": [
    "import openai\n",
    "\n",
    "try:\n",
    "    response = client.responses.create(\n",
    "        model=\"gpt-4o\",\n",
    "        input=\"Hello world!\"\n",
    "    )\n",
    "    print(response.output_text)\n",
    "    \n",
    "except openai.RateLimitError:\n",
    "    print(\"Rate limit exceeded. Please try again later.\")\n",
    "except openai.APIError as e:\n",
    "    print(f\"API error occurred: {e}\")\n",
    "except Exception as e:\n",
    "    print(f\"Unexpected error: {e}\")"
   ]
  },
  {
   "cell_type": "markdown",
   "metadata": {},
   "source": [
    "## Best Practices\n",
    "\n",
    "1. **Use appropriate models**: Choose `gpt-4o` for complex tasks, `gpt-4o-mini` for simple operations\n",
    "2. **Manage conversation state**: Use `previous_response_id` for multi-turn conversations\n",
    "3. **Leverage built-in tools**: Web search and file search reduce development complexity\n",
    "4. **Structure outputs**: Use JSON schemas for consistent, parseable responses\n",
    "5. **Handle errors gracefully**: Implement proper error handling for production applications\n",
    "6. **Monitor usage**: Track API usage and costs in production environments"
   ]
  },
  {
   "cell_type": "markdown",
   "metadata": {},
   "source": [
    "## Migration from Chat Completions\n",
    "\n",
    "The Responses API is backward compatible with Chat Completions, making migration straightforward:"
   ]
  },
  {
   "cell_type": "code",
   "execution_count": null,
   "metadata": {},
   "outputs": [],
   "source": [
    "# Old Chat Completions way\n",
    "# response = client.chat.completions.create(\n",
    "#     model=\"gpt-4o\",\n",
    "#     messages=[{\"role\": \"user\", \"content\": \"Hello!\"}]\n",
    "# )\n",
    "\n",
    "# New Responses API way\n",
    "response = client.responses.create(\n",
    "    model=\"gpt-4o\",\n",
    "    input=\"Hello!\"\n",
    ")\n",
    "\n",
    "display(Markdown(response.output_text))"
   ]
  },
  {
   "cell_type": "markdown",
   "metadata": {},
   "source": [
    "## Conclusion\n",
    "\n",
    "The Responses API provides a more powerful, unified interface for building sophisticated AI applications with less code and complexity. It combines orchestration logic and integrates built-in tools without requiring custom implementation, making it the preferred choice for new projects.\n",
    "\n",
    "Key advantages:\n",
    "- Simplified development experience\n",
    "- Built-in tools reduce boilerplate code\n",
    "- Automatic conversation state management\n",
    "- Enhanced function calling capabilities\n",
    "- Support for multimodal inputs and structured outputs"
   ]
  }
 ],
 "metadata": {
  "kernelspec": {
   "display_name": "3.10.14",
   "language": "python",
   "name": "python3"
  },
  "language_info": {
   "codemirror_mode": {
    "name": "ipython",
    "version": 3
   },
   "file_extension": ".py",
   "mimetype": "text/x-python",
   "name": "python",
   "nbconvert_exporter": "python",
   "pygments_lexer": "ipython3",
   "version": "3.10.14"
  }
 },
 "nbformat": 4,
 "nbformat_minor": 4
}
