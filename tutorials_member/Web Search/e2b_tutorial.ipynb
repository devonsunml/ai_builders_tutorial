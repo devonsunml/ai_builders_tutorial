{
 "cells": [
  {
   "cell_type": "markdown",
   "metadata": {},
   "source": [
    "# E2B Sandbox Code Execution Tutorial\n",
    "\n",
    "Welcome to this tutorial on **E2B (Execute to Build)**! 🦎\n",
    "\n",
    "E2B provides secure, isolated sandbox environments for running code, especially useful for AI-generated code. This notebook will walk you through the essential concepts and show you how to use E2B for tasks like data analysis. We'll cover:\n",
    "\n",
    "* Setting up your environment and API keys.\n",
    "* Basic code execution in an E2B sandbox.\n",
    "* Working with files (uploading and downloading).\n",
    "* Installing custom Python packages.\n",
    "* Integrating E2B with LangChain for data analysis."
   ]
  },
  {
   "cell_type": "markdown",
   "metadata": {},
   "source": [
    "## 1. Setup and API Keys\n",
    "\n",
    "First, we need to install the necessary libraries and load our API keys from a `.env` file. This is a good practice for keeping your keys secure and out of your codebase."
   ]
  },
  {
   "cell_type": "code",
   "execution_count": 6,
   "metadata": {},
   "outputs": [],
   "source": [
    "# Uncomment to install packages\n",
    "# !pip install e2b e2b-code-interpreter python-dotenv langchain langchain-community openai -q"
   ]
  },
  {
   "cell_type": "code",
   "execution_count": 7,
   "metadata": {},
   "outputs": [],
   "source": [
    "import os\n",
    "from dotenv import load_dotenv\n",
    "\n",
    "# Load environment variables from .env file\n",
    "load_dotenv()\n",
    "\n",
    "# Get API keys\n",
    "e2b_api_key = os.getenv(\"E2B_API_KEY\")\n",
    "openai_api_key = os.getenv(\"OPENAI_API_KEY\")\n",
    "\n",
    "# Set environment variables for LangChain\n",
    "os.environ[\"E2B_API_KEY\"] = e2b_api_key\n",
    "os.environ[\"OPENAI_API_KEY\"] = openai_api_key"
   ]
  },
  {
   "cell_type": "markdown",
   "metadata": {},
   "source": [
    "## 2. Basic Code Execution\n",
    "\n",
    "Let's start by creating a sandbox and running a simple Python command."
   ]
  },
  {
   "cell_type": "code",
   "execution_count": 9,
   "metadata": {},
   "outputs": [
    {
     "name": "stdout",
     "output_type": "stream",
     "text": [
      "Logs(stdout: ['Hello, from the E2B sandbox!\\n'], stderr: [])\n"
     ]
    }
   ],
   "source": [
    "from e2b_code_interpreter import Sandbox\n",
    "\n",
    "with Sandbox() as sandbox:\n",
    "    execution = sandbox.run_code('print(\"Hello, from the E2B sandbox!\")')\n",
    "    # Print the captured logs from the execution\n",
    "    print(execution.logs)\n"
   ]
  },
  {
   "cell_type": "markdown",
   "metadata": {},
   "source": [
    "## 3. Working with Files\n",
    "\n",
    "E2B makes it easy to work with files inside the sandbox. You can upload files from your local machine, and download files generated within the sandbox."
   ]
  },
  {
   "cell_type": "code",
   "execution_count": 10,
   "metadata": {},
   "outputs": [
    {
     "ename": "AttributeError",
     "evalue": "'Sandbox' object has no attribute 'filesystem'",
     "output_type": "error",
     "traceback": [
      "\u001b[0;31m---------------------------------------------------------------------------\u001b[0m",
      "\u001b[0;31mAttributeError\u001b[0m                            Traceback (most recent call last)",
      "Cell \u001b[0;32mIn[10], line 3\u001b[0m\n\u001b[1;32m      1\u001b[0m \u001b[38;5;28;01mwith\u001b[39;00m Sandbox() \u001b[38;5;28;01mas\u001b[39;00m sandbox:\n\u001b[1;32m      2\u001b[0m     \u001b[38;5;66;03m# Create a file in the sandbox\u001b[39;00m\n\u001b[0;32m----> 3\u001b[0m     \u001b[43msandbox\u001b[49m\u001b[38;5;241;43m.\u001b[39;49m\u001b[43mfilesystem\u001b[49m\u001b[38;5;241m.\u001b[39mwrite(\u001b[38;5;124m'\u001b[39m\u001b[38;5;124mmy_file.txt\u001b[39m\u001b[38;5;124m'\u001b[39m, \u001b[38;5;124m'\u001b[39m\u001b[38;5;124mThis is a test file.\u001b[39m\u001b[38;5;124m'\u001b[39m)\n\u001b[1;32m      5\u001b[0m     \u001b[38;5;66;03m# Read the file from the sandbox\u001b[39;00m\n\u001b[1;32m      6\u001b[0m     content \u001b[38;5;241m=\u001b[39m sandbox\u001b[38;5;241m.\u001b[39mfilesystem\u001b[38;5;241m.\u001b[39mread(\u001b[38;5;124m'\u001b[39m\u001b[38;5;124mmy_file.txt\u001b[39m\u001b[38;5;124m'\u001b[39m)\n",
      "\u001b[0;31mAttributeError\u001b[0m: 'Sandbox' object has no attribute 'filesystem'"
     ]
    }
   ],
   "source": [
    "with Sandbox() as sandbox:\n",
    "    # Create a file in the sandbox\n",
    "    sandbox.filesystem.write('my_file.txt', 'This is a test file.')\n",
    "\n",
    "    # Read the file from the sandbox\n",
    "    content = sandbox.filesystem.read('my_file.txt')\n",
    "    print(f\"Content of my_file.txt: {content}\")\n",
    "\n",
    "    # Download the file\n",
    "    # In a real scenario, you would save this to a local file\n",
    "    file_bytes = sandbox.filesystem.download('my_file.txt')\n",
    "    print(f\"Downloaded file bytes: {file_bytes[:20]}...\")"
   ]
  },
  {
   "cell_type": "markdown",
   "metadata": {},
   "source": [
    "## 4. Installing Custom Packages\n",
    "\n",
    "E2B sandboxes come with many common data science libraries pre-installed. However, you can easily install any other package you need using `pip`."
   ]
  },
  {
   "cell_type": "code",
   "execution_count": null,
   "metadata": {},
   "outputs": [],
   "source": [
    "with Sandbox() as sandbox:\n",
    "    # Install a package\n",
    "    proc = sandbox.process.start('pip install numpy')\n",
    "    proc.wait()\n",
    "    print(proc.stdout)\n",
    "    \n",
    "    # Use the installed package\n",
    "    execution = sandbox.run_code('import numpy as np; print(np.random.rand(5))')\n",
    "    print(f\"Numpy output: {execution.stdout}\")"
   ]
  },
  {
   "cell_type": "markdown",
   "metadata": {},
   "source": [
    "## 5. Data Analysis with LangChain\n",
    "\n",
    "E2B integrates seamlessly with LangChain, allowing you to create powerful data analysis agents. We'll create a simple agent that can analyze a CSV file."
   ]
  },
  {
   "cell_type": "code",
   "execution_count": null,
   "metadata": {},
   "outputs": [],
   "source": [
    "from langchain_community.tools.e2b_data_analysis.tool import E2BDataAnalysisTool\n",
    "from langchain.agents import AgentType, initialize_agent\n",
    "from langchain_openai import ChatOpenAI\n",
    "\n",
    "# Initialize the E2B tool\n",
    "e2b_tool = E2BDataAnalysisTool()\n",
    "\n",
    "# Create a dummy CSV file\n",
    "with open(\"dummy_data.csv\", \"w\") as f:\n",
    "    f.write(\"name,value\\n\")\n",
    "    f.write(\"A,1\\n\")\n",
    "    f.write(\"B,2\\n\")\n",
    "    f.write(\"C,3\\n\")\n",
    "\n",
    "# Upload the file to the E2B sandbox\n",
    "with open(\"dummy_data.csv\", \"rb\") as f:\n",
    "    remote_path = e2b_tool.upload_file(f)\n",
    "\n",
    "# Initialize the LangChain agent\n",
    "llm = ChatOpenAI(temperature=0, model_name=\"gpt-3.5-turbo\")\n",
    "agent = initialize_agent(\n",
    "    [e2b_tool],\n",
    "    llm,\n",
    "    agent=AgentType.OPENAI_FUNCTIONS,\n",
    "    verbose=True\n",
    ")\n",
    "\n",
    "# Run the agent\n",
    "agent.run(f\"Analyze the data in {remote_path} and tell me the average value.\")"
   ]
  },
  {
   "cell_type": "markdown",
   "metadata": {},
   "source": [
    "## Conclusion\n",
    "\n",
    "This tutorial covered the basics of using the E2B Sandbox for secure code execution. You've learned how to:\n",
    "\n",
    "* Set up your environment and API keys.\n",
    "* Execute basic Python code.\n",
    "* Manage files within the sandbox.\n",
    "* Install custom packages.\n",
    "* Use E2B with LangChain for data analysis.\n",
    "\n",
    "E2B is a powerful tool for building AI applications that can safely interact with code. For more advanced use cases, be sure to check out the official [E2B documentation](https://e2b.dev/docs)."
   ]
  }
 ],
 "metadata": {
  "kernelspec": {
   "display_name": "3.10.14",
   "language": "python",
   "name": "python3"
  },
  "language_info": {
   "codemirror_mode": {
    "name": "ipython",
    "version": 3
   },
   "file_extension": ".py",
   "mimetype": "text/x-python",
   "name": "python",
   "nbconvert_exporter": "python",
   "pygments_lexer": "ipython3",
   "version": "3.10.14"
  }
 },
 "nbformat": 4,
 "nbformat_minor": 4
}
