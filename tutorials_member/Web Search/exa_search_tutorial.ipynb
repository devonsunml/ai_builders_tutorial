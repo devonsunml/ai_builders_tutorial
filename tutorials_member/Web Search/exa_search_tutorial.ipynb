{
 "cells": [
  {
   "cell_type": "markdown",
   "metadata": {},
   "source": [
    "# Exa AI Tutorial\n",
    "\n",
    "This notebook provides a concise introduction to Exa, an AI-powered search engine for LLMs. Exa enables semantic (neural) searches, keyword searches, and auto mode for optimal results. Key features include searching the web, finding similar pages, retrieving contents, and building research agents.\n",
    "\n",
    "Important concepts:\n",
    "- **Search Types**: Neural (semantic understanding), Keyword (exact matches), Auto (best of both).\n",
    "- **Endpoints**: Search, search_and_contents, find_similar, get_contents.\n",
    "- **Filters**: Dates, domains, categories.\n",
    "- **Contents Options**: Text, highlights, summaries.\n",
    "- **Integrations**: With OpenAI for synthesis, LangChain for agents.\n",
    "- **Best Practices**: Use natural language queries, limit results, handle API keys securely, combine with LLMs for reports.\n",
    "\n",
    "We'll cover installation, basic usage, advanced features, and a simple researcher agent. "
   ]
  },
  {
   "cell_type": "code",
   "execution_count": 2,
   "metadata": {},
   "outputs": [],
   "source": [
    "# Uncomment to install dependencies (run once)\n",
    "# !pip install exa_py python-dotenv openai -q"
   ]
  },
  {
   "cell_type": "markdown",
   "metadata": {},
   "source": [
    "## Setup API Keys\n",
    "\n",
    "Load EXA_API_KEY and OPENAI_API_KEY from .env file for secure access."
   ]
  },
  {
   "cell_type": "code",
   "execution_count": 3,
   "metadata": {},
   "outputs": [],
   "source": [
    "import os\n",
    "from dotenv import load_dotenv\n",
    "\n",
    "load_dotenv()\n",
    "EXA_API_KEY = os.getenv('EXA_API_KEY')\n",
    "OPENAI_API_KEY = os.getenv('OPENAI_API_KEY')\n",
    "\n",
    "if not EXA_API_KEY or not OPENAI_API_KEY:\n",
    "    raise ValueError(\"API keys not found in .env file.\")"
   ]
  },
  {
   "cell_type": "markdown",
   "metadata": {},
   "source": [
    "## Initialize Exa Client\n",
    "\n",
    "Create the Exa client using the API key."
   ]
  },
  {
   "cell_type": "code",
   "execution_count": 4,
   "metadata": {},
   "outputs": [],
   "source": [
    "from exa_py import Exa\n",
    "\n",
    "exa = Exa(EXA_API_KEY)"
   ]
  },
  {
   "cell_type": "markdown",
   "metadata": {},
   "source": [
    "## Basic Search\n",
    "\n",
    "Perform a simple auto search. Returns URLs, titles, scores."
   ]
  },
  {
   "cell_type": "code",
   "execution_count": 5,
   "metadata": {},
   "outputs": [
    {
     "name": "stdout",
     "output_type": "stream",
     "text": [
      "Title: Latest AI Breakthroughs and News: June, July, August 2025\n",
      "URL: https://www.crescendo.ai/news/latest-ai-news-and-updates\n",
      "Score: None\n",
      "---\n",
      "Title: Top AI Trends 2025: Key Developments to Watch - Appinventiv\n",
      "URL: https://appinventiv.com/blog/ai-trends/\n",
      "Score: None\n",
      "---\n",
      "Title: Artificial Intelligence - Latest AI News and Analysis - WSJ.com\n",
      "URL: https://www.wsj.com/tech/ai?gaa_at=eafs&gaa_n=ASWzDAiUfrDhhbNxccLb11adIVyW00gPktcgIYwFbl0zde7sIMQF8yShjqyJ&gaa_ts=6895cf36&gaa_sig=7Pl_dYFdn9ZYAcm8_rkTSgI9oSXou9YJ7M993eo0SkxiVRtCm7P9_C6X4LkyuzOaIdZXgmNo9A6U8rJpeAldDQ%3D%3D\n",
      "Score: None\n",
      "---\n",
      "Title: DeepMind thinks its new Genie 3 world model presents a stepping stone toward AGI\n",
      "URL: https://techcrunch.com/2025/08/05/deepmind-thinks-genie-3-world-model-presents-stepping-stone-towards-agi/\n",
      "Score: None\n",
      "---\n",
      "Title: \"What have we done?\" — Sam Altman says \"I feel useless,\" compares ChatGPT-5's power to the Manhattan Project\n",
      "URL: https://timesofindia.indiatimes.com/technology/tech-news/what-have-we-done-sam-altman-says-i-feel-useless-compares-chatgpt-5s-power-to-the-manhattan-project/articleshow/123112813.cms\n",
      "Score: None\n",
      "---\n"
     ]
    }
   ],
   "source": [
    "query = \"Latest advances in AI\"\n",
    "results = exa.search(query, num_results=5, type=\"auto\")\n",
    "\n",
    "for result in results.results:\n",
    "    print(f\"Title: {result.title}\")\n",
    "    print(f\"URL: {result.url}\")\n",
    "    print(f\"Score: {result.score}\")\n",
    "    print(\"---\")"
   ]
  },
  {
   "cell_type": "markdown",
   "metadata": {},
   "source": [
    "## Advanced Search with Filters\n",
    "\n",
    "Use keyword search, date filters, domain includes/excludes."
   ]
  },
  {
   "cell_type": "code",
   "execution_count": 6,
   "metadata": {},
   "outputs": [
    {
     "name": "stdout",
     "output_type": "stream",
     "text": [
      "Title: 'A truly remarkable breakthrough': Google's new quantum ...\n",
      "URL: https://www.nature.com/articles/d41586-024-04028-3\n",
      "Published: 2024-12-09T00:00:00.000Z\n",
      "---\n",
      "Title: Microsoft claims quantum-computing breakthrough\n",
      "URL: https://www.nature.com/articles/d41586-025-00527-z\n",
      "Published: None\n",
      "---\n",
      "Title: Microsoft quantum computing 'breakthrough' faces fresh ...\n",
      "URL: https://www.nature.com/articles/d41586-025-00683-2\n",
      "Published: None\n",
      "---\n"
     ]
    }
   ],
   "source": [
    "results = exa.search(\n",
    "    \"Quantum computing breakthroughs\",\n",
    "    type=\"keyword\",\n",
    "    num_results=3,\n",
    "    start_published_date=\"2024-01-01\",\n",
    "    include_domains=[\"arxiv.org\", \"nature.com\"]\n",
    ")\n",
    "\n",
    "for result in results.results:\n",
    "    print(f\"Title: {result.title}\")\n",
    "    print(f\"URL: {result.url}\")\n",
    "    print(f\"Published: {result.published_date}\")\n",
    "    print(\"---\")"
   ]
  },
  {
   "cell_type": "markdown",
   "metadata": {},
   "source": [
    "## Search and Get Contents\n",
    "\n",
    "Retrieve search results with text contents and highlights."
   ]
  },
  {
   "cell_type": "code",
   "execution_count": 7,
   "metadata": {},
   "outputs": [
    {
     "name": "stdout",
     "output_type": "stream",
     "text": [
      "Title: Artificial General Intelligence's Five Hard National Security Problems\n",
      "Highlight: potential threats and opportunities might emerge on the path to AGI and once AGI is achieved.  This paper puts forth five hard problems that AGI’s emergence presents for U.S. national \n",
      "Text snippet: JIM MITRE, JOEL B. PREDD\n",
      "Artificial General \n",
      "Intelligence’s Five \n",
      "Hard National \n",
      "Security Problems\n",
      "Expert Insights\n",
      "PERSPECTIVE ON A TIMELY POLICY ISSUE\n",
      "February 2025\n",
      "For more information on this publi...\n",
      "---\n",
      "Title: \n",
      "Highlight: United States must lead and the next level of AGI1 is expected to be here this year.2 The U.S.-China AGI competition is intense.\n",
      "Text snippet: Memos to the\n",
      "P R E S I D E N T\n",
      "Artificial General\n",
      "Intelligence (AGI)\n",
      "Special Competitive Studies Project\n",
      "S P ECIAL COMPETITIVE STUDIES PROJECT\n",
      "Page 1 of 6\n",
      "Subject: Big Ideas to Ensure America Wins the...\n",
      "---\n",
      "Title: Why AGI Should be the World’s Top Priority - CIRSD\n",
      "Highlight: AGI might also seek power as a means to ensure it can execute whatever objectives it determines, regardless of human intervention. National governments, leading experts, and the companies developing AGI have all stated that these trends could lead to scenarios in which AGI systems seek to overpower humans.\n",
      "Text snippet: _Jerome C. Glenn is the CEO of The Millennium Project, Chairman of the AGI Panel of the UN Council of Presidents of the General Assembly, and author of the forthcoming book Global Governance of the Tr...\n",
      "---\n",
      "Title: Home - AGI Society\n",
      "Highlight: Research and contributions focused on details of AGI systems are welcome, if they clearly indicate the relation between the special topics considered and intelligence as a whole, by addressing the generality, extensibility, and scalability of the techniques proposed or discussed. Since AGI research is still in a relatively nascent state, the society strongly encourages novel approaches coming from various theoretical and technical traditions, including (but not limited to) symbolic, connectionist, statistical, evolutionary, robotic and information-theoretic, as well as integrative and hybrid approaches.\n",
      "Text snippet: # [AGI SOCIETY](https://agi-society.org/)\n",
      "\n",
      "Menu\n",
      "\n",
      "Welcome To AGI Society\n",
      "\n",
      "# Driving forward research, collaboration, and development to build “thinking machines” - general-purpose systems with intellig...\n",
      "---\n"
     ]
    }
   ],
   "source": [
    "results = exa.search_and_contents(\n",
    "    \"AGI state\",\n",
    "    num_results=4,\n",
    "    text={\"max_characters\": 500, \"include_html_tags\": False},\n",
    "    highlights={\"num_sentences\": 2}\n",
    ")\n",
    "\n",
    "for result in results.results:\n",
    "    print(f\"Title: {result.title}\")\n",
    "    print(f\"Highlight: {result.highlights[0] if result.highlights else 'N/A'}\")\n",
    "    print(f\"Text snippet: {result.text[:200]}...\")\n",
    "    print(\"---\")"
   ]
  },
  {
   "cell_type": "markdown",
   "metadata": {},
   "source": [
    "## Find Similar\n",
    "\n",
    "Find pages similar to a given URL, excluding source domain."
   ]
  },
  {
   "cell_type": "code",
   "execution_count": 8,
   "metadata": {},
   "outputs": [
    {
     "name": "stdout",
     "output_type": "stream",
     "text": [
      "Similar Title: React App\n",
      "URL: https://openai.io/\n",
      "---\n",
      "Similar Title: Generate any image imaginable.\n",
      "URL: https://open.ai/\n",
      "---\n",
      "Similar Title: open ahead inspiration\n",
      "URL: https://www.openai.co/\n",
      "---\n"
     ]
    }
   ],
   "source": [
    "url = \"https://openai.com\"\n",
    "similar = exa.find_similar(url, num_results=3, exclude_source_domain=True)\n",
    "\n",
    "for result in similar.results:\n",
    "    print(f\"Similar Title: {result.title}\")\n",
    "    print(f\"URL: {result.url}\")\n",
    "    print(\"---\")"
   ]
  },
  {
   "cell_type": "markdown",
   "metadata": {},
   "source": [
    "## Get Contents\n",
    "\n",
    "Fetch contents for specific URLs or IDs."
   ]
  },
  {
   "cell_type": "code",
   "execution_count": 9,
   "metadata": {},
   "outputs": [
    {
     "name": "stdout",
     "output_type": "stream",
     "text": [
      "URL: https://exa.ai\n",
      "Text: [🏎️💨Introducing Exa Fast: The world's fastest search APIIntroducing Exa Fast](https://exa.ai/blog/fastest-search-api)\n",
      "\n",
      "# Web search for LLMs\n",
      "\n",
      "## One API to get any information from the web, built for AI products.\n",
      "\n",
      "[Try API for free](https://dashboard.exa.ai)Try Websets\n",
      "\n",
      "Search\n",
      "\n",
      "Crawl\n",
      "\n",
      "Answer\n",
      "\n",
      "Resear...\n",
      "---\n"
     ]
    }
   ],
   "source": [
    "contents = exa.get_contents([\"https://exa.ai\"], text=True)\n",
    "\n",
    "for content in contents.results:\n",
    "    print(f\"URL: {content.url}\")\n",
    "    print(f\"Text: {content.text[:300]}...\")\n",
    "    print(\"---\")"
   ]
  },
  {
   "cell_type": "markdown",
   "metadata": {},
   "source": [
    "## Building a Simple Researcher Agent\n",
    "\n",
    "Generate queries, search, synthesize report using OpenAI."
   ]
  },
  {
   "cell_type": "code",
   "execution_count": 10,
   "metadata": {},
   "outputs": [
    {
     "name": "stdout",
     "output_type": "stream",
     "text": [
      "The future of AI in 2025 is poised to completely transform various industries. Here is a brief synthesis based on the provided URLs:\n",
      "\n",
      "1. **Transforming Industries**: AI is reshaping various industries in 2025. From predictive medicine to AI-generated movies, artificial intelligence has redefined traditional business practices. It has become an essential tool driving innovation and efficiency across different sectors [(Towards AI)](https://pub.towardsai.net/5-industries-ai-is-completely-transforming-in-2025-beb4b8b824ab?gi=ee5eb4995501&source=rss----98111c9905da---4).\n",
      "\n",
      "2. **Corporate Responsibility with AI**: Business leaders in 2025 are dealing with the ethical, economic, and social implications of AI. Artificial intelligence is now at the core of digital transformation, offering organizations significant opportunities while also introducing new responsibilities. Corporate digital responsibility has emerged as a crucial consideration for companies leveraging AI [(Observer)](https://observer.com/2025/04/corporate-ai-responsibility-in-2025-how-to-navigate-ai-ethics/).\n",
      "\n",
      "3. **Regulations and Governance**: The AI landscape in 2025 is also shaped by evolving regulations and governance frameworks. The direction of AI regulations is a critical aspect that is being closely monitored by industry experts and policymakers. Understanding and adapting to these regulatory frameworks is essential for organizations involved in AI development and deployment [(FairNow)](https://fairnow.ai/what-do-artificial-intelligence-regulations-look-like-in-2025/).\n",
      "\n",
      "Overall, AI is set to play a pivotal role in shaping the business landscape in 2025, with a focus on innovation, ethics, and compliance with regulatory standards. Stay tuned for further advancements and developments in the field of AI.\n",
      "\n",
      "Let me know if you need any further assistance with this topic.\n"
     ]
    }
   ],
   "source": [
    "from openai import OpenAI\n",
    "\n",
    "openai_client = OpenAI(api_key=OPENAI_API_KEY)\n",
    "\n",
    "def get_llm_response(system, user, model=\"gpt-3.5-turbo\"):\n",
    "    response = openai_client.chat.completions.create(\n",
    "        model=model,\n",
    "        messages=[\n",
    "            {\"role\": \"system\", \"content\": system},\n",
    "            {\"role\": \"user\", \"content\": user}\n",
    "        ]\n",
    "    )\n",
    "    return response.choices[0].message.content\n",
    "\n",
    "def generate_queries(topic, n=3):\n",
    "    prompt = f\"Generate {n} diverse search queries for: {topic}\"\n",
    "    system = \"Respond with queries only, one per line.\"\n",
    "    response = get_llm_response(system, prompt)\n",
    "    return [q.strip() for q in response.split('\\n') if q.strip()][:n]\n",
    "\n",
    "def search_and_synthesize(topic):\n",
    "    queries = generate_queries(topic)\n",
    "    all_results = []\n",
    "    for q in queries:\n",
    "        res = exa.search_and_contents(q, num_results=2, text=True)\n",
    "        all_results.extend(res.results)\n",
    "    \n",
    "    input_data = '\\n'.join([f\"URL: {r.url}\\nText: {r.text[:500]}\" for r in all_results])\n",
    "    user_prompt = f\"Synthesize a brief report on {topic} from:\\n{input_data}\"\n",
    "    system = \"You are a research assistant. Include citations.\"\n",
    "    report = get_llm_response(system, user_prompt)\n",
    "    return report\n",
    "\n",
    "# Example usage\n",
    "topic = \"Future of AI in 2025\"\n",
    "report = search_and_synthesize(topic)\n",
    "print(report)"
   ]
  },
  {
   "cell_type": "markdown",
   "metadata": {},
   "source": [
    "## Conclusion\n",
    "\n",
    "This covers Exa's core concepts. Experiment with parameters for best results. "
   ]
  }
 ],
 "metadata": {
  "kernelspec": {
   "display_name": "3.10.14",
   "language": "python",
   "name": "python3"
  },
  "language_info": {
   "codemirror_mode": {
    "name": "ipython",
    "version": 3
   },
   "file_extension": ".py",
   "mimetype": "text/x-python",
   "name": "python",
   "nbconvert_exporter": "python",
   "pygments_lexer": "ipython3",
   "version": "3.10.14"
  }
 },
 "nbformat": 4,
 "nbformat_minor": 4
}
