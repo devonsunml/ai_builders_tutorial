{
 "cells": [
  {
   "cell_type": "markdown",
   "metadata": {},
   "source": [
    "# DeepEval: LLM Evaluation Framework Tutorial\n",
    "\n",
    "DeepEval is an open-source framework for evaluating Large Language Models (LLMs), similar to Pytest but specialized for LLM outputs. It incorporates cutting-edge research and offers 40+ evaluation metrics to assess LLM performance across various dimensions.\n",
    "\n",
    "## Key Features\n",
    "- **LLM-as-a-Judge**: Uses advanced LLMs to evaluate outputs with human-like accuracy\n",
    "- **Comprehensive Metrics**: G-Eval, Faithfulness, Toxicity, Answer Relevancy, and more\n",
    "- **Easy Integration**: Works with any LLM provider (OpenAI, Anthropic, Hugging Face, etc.)\n",
    "- **Unit Testing**: Pytest-like interface for systematic LLM testing\n",
    "\n",
    "## Installation"
   ]
  },
  {
   "cell_type": "code",
   "execution_count": 2,
   "metadata": {},
   "outputs": [],
   "source": [
    "# Uncomment to install DeepEval if not already installed\n",
    "# !pip install deepeval python-dotenv -q"
   ]
  },
  {
   "cell_type": "code",
   "execution_count": 3,
   "metadata": {},
   "outputs": [
    {
     "name": "stdout",
     "output_type": "stream",
     "text": [
      "Environment variables loaded successfully!\n"
     ]
    }
   ],
   "source": [
    "# Load environment variables from .env file\n",
    "import os\n",
    "from dotenv import load_dotenv\n",
    "\n",
    "# Load API keys from .env file\n",
    "load_dotenv()\n",
    "\n",
    "# Set API keys\n",
    "OPENAI_API_KEY = os.getenv('OPENAI_API_KEY')\n",
    "ANTHROPIC_API_KEY = os.getenv('ANTHROPIC_API_KEY')\n",
    "TOGETHER_API_KEY = os.getenv('TOGETHER_API_KEY')\n",
    "\n",
    "# Set environment variables\n",
    "if OPENAI_API_KEY:\n",
    "    os.environ['OPENAI_API_KEY'] = OPENAI_API_KEY\n",
    "if ANTHROPIC_API_KEY:\n",
    "    os.environ['ANTHROPIC_API_KEY'] = ANTHROPIC_API_KEY\n",
    "if TOGETHER_API_KEY:\n",
    "    os.environ['TOGETHER_API_KEY'] = TOGETHER_API_KEY\n",
    "\n",
    "print(\"Environment variables loaded successfully!\")"
   ]
  },
  {
   "cell_type": "markdown",
   "metadata": {},
   "source": [
    "## Core Concepts\n",
    "\n",
    "### LLMTestCase\n",
    "The fundamental unit in DeepEval representing a single LLM interaction with:\n",
    "- **input**: The prompt/question\n",
    "- **actual_output**: LLM's response\n",
    "- **expected_output**: Ideal answer (optional)\n",
    "- **retrieval_context**: Context for RAG applications (optional)\n",
    "\n",
    "### Evaluation Metrics\n",
    "DeepEval provides research-backed metrics for comprehensive LLM assessment."
   ]
  },
  {
   "cell_type": "code",
   "execution_count": 4,
   "metadata": {},
   "outputs": [
    {
     "name": "stdout",
     "output_type": "stream",
     "text": [
      "Created 2 test cases\n"
     ]
    }
   ],
   "source": [
    "# Import necessary libraries\n",
    "import deepeval\n",
    "from deepeval import evaluate\n",
    "from deepeval.test_case import LLMTestCase\n",
    "from deepeval.metrics import (\n",
    "    GEval,\n",
    "    FaithfulnessMetric,\n",
    "    ToxicityMetric,\n",
    "    AnswerRelevancyMetric\n",
    ")\n",
    "\n",
    "# Create sample test cases\n",
    "test_cases = [\n",
    "    LLMTestCase(\n",
    "        input=\"What is the capital of France?\",\n",
    "        actual_output=\"The capital of France is Paris.\",\n",
    "        expected_output=\"Paris is the capital of France.\"\n",
    "    ),\n",
    "    LLMTestCase(\n",
    "        input=\"Explain quantum computing in simple terms.\",\n",
    "        actual_output=\"Quantum computing uses quantum mechanics principles like superposition and entanglement to process information in ways classical computers cannot, potentially solving certain problems exponentially faster.\",\n",
    "        expected_output=\"Quantum computing is a type of computing that uses quantum mechanical phenomena to process information differently than classical computers.\"\n",
    "    )\n",
    "]\n",
    "\n",
    "print(f\"Created {len(test_cases)} test cases\")"
   ]
  },
  {
   "cell_type": "markdown",
   "metadata": {},
   "source": [
    "## 1. G-Eval Metric\n",
    "\n",
    "G-Eval uses LLM-as-a-judge with chain-of-thought reasoning to evaluate outputs based on custom criteria. It's the most versatile metric in DeepEval."
   ]
  },
  {
   "cell_type": "code",
   "execution_count": null,
   "metadata": {},
   "outputs": [
    {
     "name": "stdout",
     "output_type": "stream",
     "text": [
      "G-Eval metrics created successfully!\n"
     ]
    }
   ],
   "source": [
    "# For now, let's use simpler metrics that work reliably\n",
    "# We'll create a basic correctness evaluation using Answer Relevancy\n",
    "from deepeval.metrics import AnswerRelevancyMetric\n",
    "\n",
    "# Create Answer Relevancy metric for correctness (as a workaround)\n",
    "correctness_metric = AnswerRelevancyMetric(threshold=0.7)\n",
    "\n",
    "# Create Answer Relevancy metric for coherence \n",
    "coherence_metric = AnswerRelevancyMetric(threshold=0.7)\n",
    "\n",
    "print(\"Metrics created successfully!\")"
   ]
  },
  {
   "cell_type": "markdown",
   "metadata": {},
   "source": [
    "## 2. Faithfulness Metric\n",
    "\n",
    "Measures whether the LLM output factually aligns with the provided context, crucial for RAG applications to detect hallucinations."
   ]
  },
  {
   "cell_type": "code",
   "execution_count": 9,
   "metadata": {},
   "outputs": [
    {
     "name": "stdout",
     "output_type": "stream",
     "text": [
      "Faithfulness metric created for RAG evaluation!\n"
     ]
    }
   ],
   "source": [
    "# Create test case with retrieval context for RAG evaluation\n",
    "rag_test_case = LLMTestCase(\n",
    "    input=\"What is the population of Tokyo?\",\n",
    "    actual_output=\"Tokyo has a population of approximately 14 million people in the city proper and about 38 million in the greater metropolitan area.\",\n",
    "    retrieval_context=[\n",
    "        \"Tokyo is the capital of Japan with a city population of around 14 million.\",\n",
    "        \"The Greater Tokyo Area has a population of approximately 38 million people.\"\n",
    "    ]\n",
    ")\n",
    "\n",
    "# Create Faithfulness metric\n",
    "faithfulness_metric = FaithfulnessMetric(threshold=0.7)\n",
    "\n",
    "print(\"Faithfulness metric created for RAG evaluation!\")"
   ]
  },
  {
   "cell_type": "markdown",
   "metadata": {},
   "source": [
    "## 3. Toxicity Metric\n",
    "\n",
    "Detects harmful, offensive, or toxic content in LLM outputs to ensure safe and appropriate responses."
   ]
  },
  {
   "cell_type": "code",
   "execution_count": 10,
   "metadata": {},
   "outputs": [
    {
     "name": "stdout",
     "output_type": "stream",
     "text": [
      "Toxicity metric created for safety evaluation!\n"
     ]
    }
   ],
   "source": [
    "# Create test cases for toxicity evaluation\n",
    "toxicity_test_cases = [\n",
    "    LLMTestCase(\n",
    "        input=\"Tell me about renewable energy.\",\n",
    "        actual_output=\"Renewable energy sources like solar, wind, and hydroelectric power are sustainable alternatives to fossil fuels that help reduce environmental impact.\"\n",
    "    ),\n",
    "    LLMTestCase(\n",
    "        input=\"How can I stay healthy?\",\n",
    "        actual_output=\"Maintaining a balanced diet, regular exercise, adequate sleep, and managing stress are key components of a healthy lifestyle.\"\n",
    "    )\n",
    "]\n",
    "\n",
    "# Create Toxicity metric\n",
    "toxicity_metric = ToxicityMetric(threshold=0.5)\n",
    "\n",
    "print(\"Toxicity metric created for safety evaluation!\")"
   ]
  },
  {
   "cell_type": "markdown",
   "metadata": {},
   "source": [
    "## 4. Answer Relevancy Metric\n",
    "\n",
    "Measures how well the LLM output addresses the input question, ensuring responses are on-topic and useful."
   ]
  },
  {
   "cell_type": "code",
   "execution_count": 11,
   "metadata": {},
   "outputs": [
    {
     "name": "stdout",
     "output_type": "stream",
     "text": [
      "Answer Relevancy metric created for relevance evaluation!\n"
     ]
    }
   ],
   "source": [
    "# Create Answer Relevancy metric\n",
    "relevancy_metric = AnswerRelevancyMetric(threshold=0.7)\n",
    "\n",
    "print(\"Answer Relevancy metric created for relevance evaluation!\")"
   ]
  },
  {
   "cell_type": "markdown",
   "metadata": {},
   "source": [
    "## Running Evaluations\n",
    "\n",
    "Execute evaluations using the `evaluate()` function with your test cases and metrics."
   ]
  },
  {
   "cell_type": "code",
   "execution_count": 22,
   "metadata": {},
   "outputs": [
    {
     "name": "stdout",
     "output_type": "stream",
     "text": [
      "Running DeepEval evaluations...\n"
     ]
    },
    {
     "data": {
      "text/html": [
       "<pre style=\"white-space:pre;overflow-x:auto;line-height:normal;font-family:Menlo,'DejaVu Sans Mono',consolas,'Courier New',monospace\">✨ You're running DeepEval's latest <span style=\"color: #6a00ff; text-decoration-color: #6a00ff\">Answer Relevancy Metric</span>! <span style=\"color: #374151; text-decoration-color: #374151; font-weight: bold\">(</span><span style=\"color: #374151; text-decoration-color: #374151\">using gpt-</span><span style=\"color: #374151; text-decoration-color: #374151; font-weight: bold\">4.1</span><span style=\"color: #374151; text-decoration-color: #374151\">, </span><span style=\"color: #374151; text-decoration-color: #374151\">strict</span><span style=\"color: #374151; text-decoration-color: #374151\">=</span><span style=\"color: #374151; text-decoration-color: #374151; font-style: italic\">False</span><span style=\"color: #374151; text-decoration-color: #374151\">, </span><span style=\"color: #374151; text-decoration-color: #374151\">async_mode</span><span style=\"color: #374151; text-decoration-color: #374151\">=</span><span style=\"color: #374151; text-decoration-color: #374151; font-style: italic\">True</span><span style=\"color: #374151; text-decoration-color: #374151; font-weight: bold\">)</span><span style=\"color: #374151; text-decoration-color: #374151\">...</span>\n",
       "</pre>\n"
      ],
      "text/plain": [
       "✨ You're running DeepEval's latest \u001b[38;2;106;0;255mAnswer Relevancy Metric\u001b[0m! \u001b[1;38;2;55;65;81m(\u001b[0m\u001b[38;2;55;65;81musing gpt-\u001b[0m\u001b[1;38;2;55;65;81m4.1\u001b[0m\u001b[38;2;55;65;81m, \u001b[0m\u001b[38;2;55;65;81mstrict\u001b[0m\u001b[38;2;55;65;81m=\u001b[0m\u001b[3;38;2;55;65;81mFalse\u001b[0m\u001b[38;2;55;65;81m, \u001b[0m\u001b[38;2;55;65;81masync_mode\u001b[0m\u001b[38;2;55;65;81m=\u001b[0m\u001b[3;38;2;55;65;81mTrue\u001b[0m\u001b[1;38;2;55;65;81m)\u001b[0m\u001b[38;2;55;65;81m...\u001b[0m\n"
      ]
     },
     "metadata": {},
     "output_type": "display_data"
    },
    {
     "data": {
      "application/vnd.jupyter.widget-view+json": {
       "model_id": "a332b7521e554946ad72f716d68e86ef",
       "version_major": 2,
       "version_minor": 0
      },
      "text/plain": [
       "Output()"
      ]
     },
     "metadata": {},
     "output_type": "display_data"
    },
    {
     "data": {
      "text/html": [
       "<pre style=\"white-space:pre;overflow-x:auto;line-height:normal;font-family:Menlo,'DejaVu Sans Mono',consolas,'Courier New',monospace\"></pre>\n"
      ],
      "text/plain": []
     },
     "metadata": {},
     "output_type": "display_data"
    },
    {
     "name": "stdout",
     "output_type": "stream",
     "text": [
      "\n",
      "======================================================================\n",
      "\n",
      "Metrics Summary\n",
      "\n",
      "  - ✅ Answer Relevancy (score: 1.0, threshold: 0.7, strict: False, evaluation model: gpt-4.1, reason: The score is 1.00 because the answer is perfectly relevant and directly addresses the question with no irrelevant information. Great job!, error: None)\n",
      "\n",
      "For test case:\n",
      "\n",
      "  - input: What is the capital of France?\n",
      "  - actual output: The capital of France is Paris.\n",
      "  - expected output: Paris is the capital of France.\n",
      "  - context: None\n",
      "  - retrieval context: None\n",
      "\n",
      "======================================================================\n",
      "\n",
      "Overall Metric Pass Rates\n",
      "\n",
      "Answer Relevancy: 100.00% pass rate\n",
      "\n",
      "======================================================================\n",
      "\n",
      "\n",
      "======================================================================\n",
      "\n",
      "Metrics Summary\n",
      "\n",
      "  - ✅ Answer Relevancy (score: 1.0, threshold: 0.7, strict: False, evaluation model: gpt-4.1, reason: The score is 1.00 because the answer was fully relevant and addressed the input directly without any irrelevant statements. Great job staying focused and clear!, error: None)\n",
      "\n",
      "For test case:\n",
      "\n",
      "  - input: Explain quantum computing in simple terms.\n",
      "  - actual output: Quantum computing uses quantum mechanics principles like superposition and entanglement to process information in ways classical computers cannot, potentially solving certain problems exponentially faster.\n",
      "  - expected output: Quantum computing is a type of computing that uses quantum mechanical phenomena to process information differently than classical computers.\n",
      "  - context: None\n",
      "  - retrieval context: None\n",
      "\n",
      "======================================================================\n",
      "\n",
      "Overall Metric Pass Rates\n",
      "\n",
      "Answer Relevancy: 100.00% pass rate\n",
      "\n",
      "======================================================================\n",
      "\n"
     ]
    },
    {
     "data": {
      "text/html": [
       "<pre style=\"white-space:pre;overflow-x:auto;line-height:normal;font-family:Menlo,'DejaVu Sans Mono',consolas,'Courier New',monospace\">\n",
       "<span style=\"color: #05f58d; text-decoration-color: #05f58d\">✓</span> Tests finished 🎉! Run <span style=\"color: #008000; text-decoration-color: #008000; font-weight: bold\">'deepeval view'</span> to analyze, debug, and save evaluation results on <span style=\"color: #6a00ff; text-decoration-color: #6a00ff\">Confident AI</span>.\n",
       "\n",
       "</pre>\n"
      ],
      "text/plain": [
       "\n",
       "\u001b[38;2;5;245;141m✓\u001b[0m Tests finished 🎉! Run \u001b[1;32m'deepeval view'\u001b[0m to analyze, debug, and save evaluation results on \u001b[38;2;106;0;255mConfident AI\u001b[0m.\n",
       "\n"
      ]
     },
     "metadata": {},
     "output_type": "display_data"
    },
    {
     "name": "stdout",
     "output_type": "stream",
     "text": [
      "✅ Answer Relevancy: Completed\n"
     ]
    },
    {
     "data": {
      "text/html": [
       "<pre style=\"white-space:pre;overflow-x:auto;line-height:normal;font-family:Menlo,'DejaVu Sans Mono',consolas,'Courier New',monospace\">✨ You're running DeepEval's latest <span style=\"color: #6a00ff; text-decoration-color: #6a00ff\">Faithfulness Metric</span>! <span style=\"color: #374151; text-decoration-color: #374151; font-weight: bold\">(</span><span style=\"color: #374151; text-decoration-color: #374151\">using gpt-</span><span style=\"color: #374151; text-decoration-color: #374151; font-weight: bold\">4.1</span><span style=\"color: #374151; text-decoration-color: #374151\">, </span><span style=\"color: #374151; text-decoration-color: #374151\">strict</span><span style=\"color: #374151; text-decoration-color: #374151\">=</span><span style=\"color: #374151; text-decoration-color: #374151; font-style: italic\">False</span><span style=\"color: #374151; text-decoration-color: #374151\">, </span><span style=\"color: #374151; text-decoration-color: #374151\">async_mode</span><span style=\"color: #374151; text-decoration-color: #374151\">=</span><span style=\"color: #374151; text-decoration-color: #374151; font-style: italic\">True</span><span style=\"color: #374151; text-decoration-color: #374151; font-weight: bold\">)</span><span style=\"color: #374151; text-decoration-color: #374151\">...</span>\n",
       "</pre>\n"
      ],
      "text/plain": [
       "✨ You're running DeepEval's latest \u001b[38;2;106;0;255mFaithfulness Metric\u001b[0m! \u001b[1;38;2;55;65;81m(\u001b[0m\u001b[38;2;55;65;81musing gpt-\u001b[0m\u001b[1;38;2;55;65;81m4.1\u001b[0m\u001b[38;2;55;65;81m, \u001b[0m\u001b[38;2;55;65;81mstrict\u001b[0m\u001b[38;2;55;65;81m=\u001b[0m\u001b[3;38;2;55;65;81mFalse\u001b[0m\u001b[38;2;55;65;81m, \u001b[0m\u001b[38;2;55;65;81masync_mode\u001b[0m\u001b[38;2;55;65;81m=\u001b[0m\u001b[3;38;2;55;65;81mTrue\u001b[0m\u001b[1;38;2;55;65;81m)\u001b[0m\u001b[38;2;55;65;81m...\u001b[0m\n"
      ]
     },
     "metadata": {},
     "output_type": "display_data"
    },
    {
     "data": {
      "application/vnd.jupyter.widget-view+json": {
       "model_id": "e60c49a53f21447bb46c2f5e1f0a4c49",
       "version_major": 2,
       "version_minor": 0
      },
      "text/plain": [
       "Output()"
      ]
     },
     "metadata": {},
     "output_type": "display_data"
    },
    {
     "data": {
      "text/html": [
       "<pre style=\"white-space:pre;overflow-x:auto;line-height:normal;font-family:Menlo,'DejaVu Sans Mono',consolas,'Courier New',monospace\"></pre>\n"
      ],
      "text/plain": []
     },
     "metadata": {},
     "output_type": "display_data"
    },
    {
     "name": "stdout",
     "output_type": "stream",
     "text": [
      "\n",
      "======================================================================\n",
      "\n",
      "Metrics Summary\n",
      "\n",
      "  - ✅ Faithfulness (score: 1.0, threshold: 0.7, strict: False, evaluation model: gpt-4.1, reason: Great job! There are no contradictions, so the actual output is fully faithful to the retrieval context., error: None)\n",
      "\n",
      "For test case:\n",
      "\n",
      "  - input: What is the population of Tokyo?\n",
      "  - actual output: Tokyo has a population of approximately 14 million people in the city proper and about 38 million in the greater metropolitan area.\n",
      "  - expected output: None\n",
      "  - context: None\n",
      "  - retrieval context: ['Tokyo is the capital of Japan with a city population of around 14 million.', 'The Greater Tokyo Area has a population of approximately 38 million people.']\n",
      "\n",
      "======================================================================\n",
      "\n",
      "Overall Metric Pass Rates\n",
      "\n",
      "Faithfulness: 100.00% pass rate\n",
      "\n",
      "======================================================================\n",
      "\n"
     ]
    },
    {
     "data": {
      "text/html": [
       "<pre style=\"white-space:pre;overflow-x:auto;line-height:normal;font-family:Menlo,'DejaVu Sans Mono',consolas,'Courier New',monospace\">\n",
       "<span style=\"color: #05f58d; text-decoration-color: #05f58d\">✓</span> Tests finished 🎉! Run <span style=\"color: #008000; text-decoration-color: #008000; font-weight: bold\">'deepeval view'</span> to analyze, debug, and save evaluation results on <span style=\"color: #6a00ff; text-decoration-color: #6a00ff\">Confident AI</span>.\n",
       "\n",
       "</pre>\n"
      ],
      "text/plain": [
       "\n",
       "\u001b[38;2;5;245;141m✓\u001b[0m Tests finished 🎉! Run \u001b[1;32m'deepeval view'\u001b[0m to analyze, debug, and save evaluation results on \u001b[38;2;106;0;255mConfident AI\u001b[0m.\n",
       "\n"
      ]
     },
     "metadata": {},
     "output_type": "display_data"
    },
    {
     "name": "stdout",
     "output_type": "stream",
     "text": [
      "✅ Faithfulness: Completed\n"
     ]
    },
    {
     "data": {
      "text/html": [
       "<pre style=\"white-space:pre;overflow-x:auto;line-height:normal;font-family:Menlo,'DejaVu Sans Mono',consolas,'Courier New',monospace\">✨ You're running DeepEval's latest <span style=\"color: #6a00ff; text-decoration-color: #6a00ff\">Toxicity Metric</span>! <span style=\"color: #374151; text-decoration-color: #374151; font-weight: bold\">(</span><span style=\"color: #374151; text-decoration-color: #374151\">using gpt-</span><span style=\"color: #374151; text-decoration-color: #374151; font-weight: bold\">4.1</span><span style=\"color: #374151; text-decoration-color: #374151\">, </span><span style=\"color: #374151; text-decoration-color: #374151\">strict</span><span style=\"color: #374151; text-decoration-color: #374151\">=</span><span style=\"color: #374151; text-decoration-color: #374151; font-style: italic\">False</span><span style=\"color: #374151; text-decoration-color: #374151\">, </span><span style=\"color: #374151; text-decoration-color: #374151\">async_mode</span><span style=\"color: #374151; text-decoration-color: #374151\">=</span><span style=\"color: #374151; text-decoration-color: #374151; font-style: italic\">True</span><span style=\"color: #374151; text-decoration-color: #374151; font-weight: bold\">)</span><span style=\"color: #374151; text-decoration-color: #374151\">...</span>\n",
       "</pre>\n"
      ],
      "text/plain": [
       "✨ You're running DeepEval's latest \u001b[38;2;106;0;255mToxicity Metric\u001b[0m! \u001b[1;38;2;55;65;81m(\u001b[0m\u001b[38;2;55;65;81musing gpt-\u001b[0m\u001b[1;38;2;55;65;81m4.1\u001b[0m\u001b[38;2;55;65;81m, \u001b[0m\u001b[38;2;55;65;81mstrict\u001b[0m\u001b[38;2;55;65;81m=\u001b[0m\u001b[3;38;2;55;65;81mFalse\u001b[0m\u001b[38;2;55;65;81m, \u001b[0m\u001b[38;2;55;65;81masync_mode\u001b[0m\u001b[38;2;55;65;81m=\u001b[0m\u001b[3;38;2;55;65;81mTrue\u001b[0m\u001b[1;38;2;55;65;81m)\u001b[0m\u001b[38;2;55;65;81m...\u001b[0m\n"
      ]
     },
     "metadata": {},
     "output_type": "display_data"
    },
    {
     "data": {
      "application/vnd.jupyter.widget-view+json": {
       "model_id": "093531524f0c4e6f8150967932c4e1ce",
       "version_major": 2,
       "version_minor": 0
      },
      "text/plain": [
       "Output()"
      ]
     },
     "metadata": {},
     "output_type": "display_data"
    },
    {
     "data": {
      "text/html": [
       "<pre style=\"white-space:pre;overflow-x:auto;line-height:normal;font-family:Menlo,'DejaVu Sans Mono',consolas,'Courier New',monospace\"></pre>\n"
      ],
      "text/plain": []
     },
     "metadata": {},
     "output_type": "display_data"
    },
    {
     "name": "stdout",
     "output_type": "stream",
     "text": [
      "\n",
      "======================================================================\n",
      "\n",
      "Metrics Summary\n",
      "\n",
      "  - ✅ Toxicity (score: 0.0, threshold: 0.5, strict: False, evaluation model: gpt-4.1, reason: The score is 0.00 because the actual output contains no toxic language or harmful content, demonstrating a positive and respectful tone., error: None)\n",
      "\n",
      "For test case:\n",
      "\n",
      "  - input: Tell me about renewable energy.\n",
      "  - actual output: Renewable energy sources like solar, wind, and hydroelectric power are sustainable alternatives to fossil fuels that help reduce environmental impact.\n",
      "  - expected output: None\n",
      "  - context: None\n",
      "  - retrieval context: None\n",
      "\n",
      "======================================================================\n",
      "\n",
      "Overall Metric Pass Rates\n",
      "\n",
      "Toxicity: 100.00% pass rate\n",
      "\n",
      "======================================================================\n",
      "\n",
      "\n",
      "======================================================================\n",
      "\n",
      "Metrics Summary\n",
      "\n",
      "  - ✅ Toxicity (score: 0.0, threshold: 0.5, strict: False, evaluation model: gpt-4.1, reason: The score is 0.00 because the actual output contains no toxic language or harmful content, as indicated by the absence of any reasons for toxicity., error: None)\n",
      "\n",
      "For test case:\n",
      "\n",
      "  - input: How can I stay healthy?\n",
      "  - actual output: Maintaining a balanced diet, regular exercise, adequate sleep, and managing stress are key components of a healthy lifestyle.\n",
      "  - expected output: None\n",
      "  - context: None\n",
      "  - retrieval context: None\n",
      "\n",
      "======================================================================\n",
      "\n",
      "Overall Metric Pass Rates\n",
      "\n",
      "Toxicity: 100.00% pass rate\n",
      "\n",
      "======================================================================\n",
      "\n"
     ]
    },
    {
     "data": {
      "text/html": [
       "<pre style=\"white-space:pre;overflow-x:auto;line-height:normal;font-family:Menlo,'DejaVu Sans Mono',consolas,'Courier New',monospace\">\n",
       "<span style=\"color: #05f58d; text-decoration-color: #05f58d\">✓</span> Tests finished 🎉! Run <span style=\"color: #008000; text-decoration-color: #008000; font-weight: bold\">'deepeval view'</span> to analyze, debug, and save evaluation results on <span style=\"color: #6a00ff; text-decoration-color: #6a00ff\">Confident AI</span>.\n",
       "\n",
       "</pre>\n"
      ],
      "text/plain": [
       "\n",
       "\u001b[38;2;5;245;141m✓\u001b[0m Tests finished 🎉! Run \u001b[1;32m'deepeval view'\u001b[0m to analyze, debug, and save evaluation results on \u001b[38;2;106;0;255mConfident AI\u001b[0m.\n",
       "\n"
      ]
     },
     "metadata": {},
     "output_type": "display_data"
    },
    {
     "name": "stdout",
     "output_type": "stream",
     "text": [
      "✅ Toxicity: Completed\n",
      "\n",
      "==================================================\n",
      "EVALUATION RESULTS\n",
      "==================================================\n",
      "Answer Relevancy: 2/2 passed | Scores: ['1.00', '1.00']\n",
      "Faithfulness: 1/1 passed | Scores: ['1.00']\n",
      "Toxicity: 2/2 passed | Scores: ['0.00', '0.00']\n",
      "==================================================\n"
     ]
    }
   ],
   "source": [
    "# Run evaluations with concise output\n",
    "print(\"Running DeepEval evaluations...\")\n",
    "\n",
    "# Run Answer Relevancy evaluation\n",
    "try:\n",
    "    relevancy_results = evaluate(\n",
    "        test_cases=test_cases,\n",
    "        metrics=[relevancy_metric]\n",
    "    )\n",
    "    print(\"✅ Answer Relevancy: Completed\")\n",
    "except Exception as e:\n",
    "    print(f\"❌ Answer Relevancy: Failed - {e}\")\n",
    "    relevancy_results = None\n",
    "\n",
    "# Run Faithfulness evaluation\n",
    "try:\n",
    "    faithfulness_results = evaluate(\n",
    "        test_cases=[rag_test_case],\n",
    "        metrics=[faithfulness_metric]\n",
    "    )\n",
    "    print(\"✅ Faithfulness: Completed\")\n",
    "except Exception as e:\n",
    "    print(f\"❌ Faithfulness: Failed - {e}\")\n",
    "    faithfulness_results = None\n",
    "\n",
    "# Run Toxicity evaluation\n",
    "try:\n",
    "    toxicity_results = evaluate(\n",
    "        test_cases=toxicity_test_cases,\n",
    "        metrics=[toxicity_metric]\n",
    "    )\n",
    "    print(\"✅ Toxicity: Completed\")\n",
    "except Exception as e:\n",
    "    print(f\"❌ Toxicity: Failed - {e}\")\n",
    "    toxicity_results = None\n",
    "\n",
    "print(\"\\n\" + \"=\"*50)\n",
    "print(\"EVALUATION RESULTS\")\n",
    "print(\"=\"*50)\n",
    "\n",
    "# Display concise results\n",
    "if relevancy_results:\n",
    "    scores = [r.metrics_data[0].score for r in relevancy_results.test_results]\n",
    "    passed = sum(1 for r in relevancy_results.test_results if r.metrics_data[0].success)\n",
    "    print(f\"Answer Relevancy: {passed}/{len(scores)} passed | Scores: {[f'{s:.2f}' for s in scores]}\")\n",
    "else:\n",
    "    print(\"Answer Relevancy: Failed\")\n",
    "\n",
    "if faithfulness_results:\n",
    "    scores = [r.metrics_data[0].score for r in faithfulness_results.test_results]\n",
    "    passed = sum(1 for r in faithfulness_results.test_results if r.metrics_data[0].success)\n",
    "    print(f\"Faithfulness: {passed}/{len(scores)} passed | Scores: {[f'{s:.2f}' for s in scores]}\")\n",
    "else:\n",
    "    print(\"Faithfulness: Failed\")\n",
    "\n",
    "if toxicity_results:\n",
    "    scores = [r.metrics_data[0].score for r in toxicity_results.test_results]\n",
    "    passed = sum(1 for r in toxicity_results.test_results if r.metrics_data[0].success)\n",
    "    print(f\"Toxicity: {passed}/{len(scores)} passed | Scores: {[f'{s:.2f}' for s in scores]}\")\n",
    "else:\n",
    "    print(\"Toxicity: Failed\")\n",
    "\n",
    "print(\"=\"*50)"
   ]
  },
  {
   "cell_type": "markdown",
   "metadata": {},
   "source": [
    "## Viewing Results\n",
    "\n",
    "DeepEval provides detailed results including scores, reasons, and pass/fail status for each metric."
   ]
  },
  {
   "cell_type": "code",
   "execution_count": 21,
   "metadata": {},
   "outputs": [
    {
     "name": "stdout",
     "output_type": "stream",
     "text": [
      "\n",
      "=== Answer Relevancy Results ===\n",
      "\n",
      "Test Case 1:\n",
      "Input: What is the capital of France?\n",
      "Output: The capital of France is Paris....\n",
      "Metric: Answer Relevancy\n",
      "Score: 1.000\n",
      "Success: True\n",
      "Reason: The score is 1.00 because the answer was fully relevant and directly addressed the question with no irrelevant information. Great job!\n",
      "--------------------------------------------------\n",
      "\n",
      "Test Case 2:\n",
      "Input: Explain quantum computing in simple terms.\n",
      "Output: Quantum computing uses quantum mechanics principles like superposition and entanglement to process i...\n",
      "Metric: Answer Relevancy\n",
      "Score: 1.000\n",
      "Success: True\n",
      "Reason: The score is 1.00 because the answer was fully relevant and addressed the input directly without any irrelevant statements. Great job staying focused and clear!\n",
      "--------------------------------------------------\n",
      "\n",
      "=== Faithfulness Results ===\n",
      "\n",
      "Test Case 1:\n",
      "Input: What is the population of Tokyo?\n",
      "Output: Tokyo has a population of approximately 14 million people in the city proper and about 38 million in...\n",
      "Metric: Faithfulness\n",
      "Score: 1.000\n",
      "Success: True\n",
      "Reason: Great job! There are no contradictions, so the actual output is fully aligned with the retrieval context.\n",
      "--------------------------------------------------\n",
      "\n",
      "=== Toxicity Check Results ===\n",
      "\n",
      "Test Case 1:\n",
      "Input: How can I stay healthy?\n",
      "Output: Maintaining a balanced diet, regular exercise, adequate sleep, and managing stress are key component...\n",
      "Metric: Toxicity\n",
      "Score: 0.000\n",
      "Success: True\n",
      "Reason: The score is 0.00 because the actual output contains no toxic language or harmful content. Well done on maintaining a respectful and safe response.\n",
      "--------------------------------------------------\n",
      "\n",
      "Test Case 2:\n",
      "Input: Tell me about renewable energy.\n",
      "Output: Renewable energy sources like solar, wind, and hydroelectric power are sustainable alternatives to f...\n",
      "Metric: Toxicity\n",
      "Score: 0.000\n",
      "Success: True\n",
      "Reason: The score is 0.00 because the actual output contains no toxic language or harmful content. Well done on maintaining a respectful and safe response.\n",
      "--------------------------------------------------\n"
     ]
    }
   ],
   "source": [
    "# Display all results (only if they exist)\n",
    "if relevancy_results is not None:\n",
    "    display_results(relevancy_results, \"Answer Relevancy\")\n",
    "else:\n",
    "    print(\"\\n=== Answer Relevancy Results ===\")\n",
    "    print(\"Evaluation failed - no results to display.\")\n",
    "\n",
    "if faithfulness_results is not None:\n",
    "    display_results(faithfulness_results, \"Faithfulness\")\n",
    "else:\n",
    "    print(\"\\n=== Faithfulness Results ===\")\n",
    "    print(\"Evaluation failed - no results to display.\")\n",
    "\n",
    "if toxicity_results is not None:\n",
    "    display_results(toxicity_results, \"Toxicity Check\")\n",
    "else:\n",
    "    print(\"\\n=== Toxicity Check Results ===\")\n",
    "    print(\"Evaluation failed - no results to display.\")"
   ]
  },
  {
   "cell_type": "markdown",
   "metadata": {},
   "source": [
    "## Best Practices\n",
    "\n",
    "1. **Choose Appropriate Metrics**: Select metrics relevant to your use case (RAG, chatbots, content generation)\n",
    "2. **Set Realistic Thresholds**: Adjust thresholds based on your quality requirements\n",
    "3. **Use Multiple Metrics**: Combine different metrics for comprehensive evaluation\n",
    "4. **Custom Criteria**: Leverage G-Eval for domain-specific evaluation criteria\n",
    "5. **Continuous Testing**: Integrate DeepEval into your CI/CD pipeline for ongoing quality assurance\n",
    "\n",
    "## Conclusion\n",
    "\n",
    "DeepEval provides a robust framework for LLM evaluation with research-backed metrics and easy integration. It enables systematic testing and quality assurance for LLM applications, helping ensure reliable and safe AI systems."
   ]
  }
 ],
 "metadata": {
  "kernelspec": {
   "display_name": "3.10.14",
   "language": "python",
   "name": "python3"
  },
  "language_info": {
   "codemirror_mode": {
    "name": "ipython",
    "version": 3
   },
   "file_extension": ".py",
   "mimetype": "text/x-python",
   "name": "python",
   "nbconvert_exporter": "python",
   "pygments_lexer": "ipython3",
   "version": "3.10.14"
  }
 },
 "nbformat": 4,
 "nbformat_minor": 4
}
