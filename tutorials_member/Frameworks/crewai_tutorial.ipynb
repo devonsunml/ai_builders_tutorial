{
 "cells": [
  {
   "cell_type": "markdown",
   "metadata": {},
   "source": [
    "# CrewAI Tutorial: Building Multi-Agent AI Systems\n",
    "\n",
    "## What is CrewAI?\n",
    "\n",
    "CrewAI is an open-source Python framework designed to orchestrate role-playing, autonomous AI agents that collaborate to tackle complex tasks. Think of it as building a team where each AI agent has specialized skills and responsibilities.\n",
    "\n",
    "## Core Concepts\n",
    "\n",
    "### 1. **Agents**\n",
    "Think of an agent as a specialized team member with specific skills, expertise, and responsibilities. For example, a Researcher agent might excel at gathering and analyzing information, while a Writer agent might be better at creating content.\n",
    "\n",
    "### 2. **Tasks**\n",
    "Tasks are specific assignments given to agents. Each task defines what needs to be accomplished, expected outcomes, and which agent should handle it.\n",
    "\n",
    "### 3. **Crews**\n",
    "A crew is a structured group of agents and tasks that work together to complete a process. Crews orchestrate the collaboration between multiple agents.\n",
    "\n",
    "### 4. **Tools**\n",
    "This enables agents to perform tasks beyond their core capabilities, such as retrieving information from the web or performing complex data analysis.\n",
    "\n",
    "## Tutorial Overview\n",
    "\n",
    "We'll build a **Content Research and Writing System** with:\n",
    "- **Research Agent**: Gathers information on topics\n",
    "- **Writer Agent**: Creates articles based on research\n",
    "- **Editor Agent**: Reviews and improves content\n",
    "\n",
    "This tutorial demonstrates the power of multi-AI agent systems that exceed the performance of prompting a single LLM by designing and prompting a team of AI agents."
   ]
  },
  {
   "cell_type": "markdown",
   "metadata": {},
   "source": [
    "## Step 1: Setup and Environment Configuration"
   ]
  },
  {
   "cell_type": "code",
   "execution_count": 3,
   "metadata": {},
   "outputs": [],
   "source": [
    "# Uncomment to install required packages\n",
    "# !pip install crewai crewai-tools python-dotenv -q"
   ]
  },
  {
   "cell_type": "code",
   "execution_count": 4,
   "metadata": {},
   "outputs": [
    {
     "name": "stdout",
     "output_type": "stream",
     "text": [
      "Environment variables loaded successfully!\n",
      "OpenAI API Key: ✓ Set\n",
      "Serper API Key: ✓ Set\n"
     ]
    }
   ],
   "source": [
    "# Load environment variables\n",
    "import os\n",
    "from dotenv import load_dotenv\n",
    "\n",
    "# Load API keys from .env file\n",
    "load_dotenv()\n",
    "\n",
    "# Required environment variables:\n",
    "# OPENAI_API_KEY=your_openai_key_here\n",
    "# SERPER_API_KEY=your_serper_key_here (for web search)\n",
    "\n",
    "print(\"Environment variables loaded successfully!\")\n",
    "print(f\"OpenAI API Key: {'✓ Set' if os.getenv('OPENAI_API_KEY') else '✗ Missing'}\")\n",
    "print(f\"Serper API Key: {'✓ Set' if os.getenv('SERPER_API_KEY') else '✗ Missing'}\")"
   ]
  },
  {
   "cell_type": "markdown",
   "metadata": {},
   "source": [
    "## Step 2: Import CrewAI Components"
   ]
  },
  {
   "cell_type": "code",
   "execution_count": 5,
   "metadata": {},
   "outputs": [
    {
     "name": "stderr",
     "output_type": "stream",
     "text": [
      "/Users/devon/.pyenv/versions/3.10.14/lib/python3.10/site-packages/pydantic/fields.py:1093: PydanticDeprecatedSince20: Using extra keyword arguments on `Field` is deprecated and will be removed. Use `json_schema_extra` instead. (Extra keys: 'required'). Deprecated in Pydantic V2.0 to be removed in V3.0. See Pydantic V2 Migration Guide at https://errors.pydantic.dev/2.11/migration/\n",
      "  warn(\n"
     ]
    }
   ],
   "source": [
    "from crewai import Agent, Task, Crew, Process\n",
    "from crewai_tools import SerperDevTool, FileWriterTool\n",
    "from langchain_openai import ChatOpenAI"
   ]
  },
  {
   "cell_type": "markdown",
   "metadata": {},
   "source": [
    "## Step 3: Initialize Tools and LLM"
   ]
  },
  {
   "cell_type": "code",
   "execution_count": 6,
   "metadata": {},
   "outputs": [
    {
     "name": "stdout",
     "output_type": "stream",
     "text": [
      "Tools and LLM initialized successfully!\n"
     ]
    }
   ],
   "source": [
    "# Initialize tools\n",
    "search_tool = SerperDevTool()\n",
    "file_writer = FileWriterTool()\n",
    "\n",
    "# Initialize LLM\n",
    "llm = ChatOpenAI(\n",
    "    model_name=\"gpt-4o-mini\",\n",
    "    temperature=0.1\n",
    ")\n",
    "\n",
    "print(\"Tools and LLM initialized successfully!\")"
   ]
  },
  {
   "cell_type": "markdown",
   "metadata": {},
   "source": [
    "## Step 4: Create Specialized Agents"
   ]
  },
  {
   "cell_type": "code",
   "execution_count": 14,
   "metadata": {},
   "outputs": [
    {
     "name": "stdout",
     "output_type": "stream",
     "text": [
      "Agents created successfully!\n"
     ]
    }
   ],
   "source": [
    "# Research Agent - Expert at gathering information\n",
    "researcher = Agent(\n",
    "    role='Senior Research Analyst',\n",
    "    goal='Conduct thorough research on given topics and provide comprehensive insights',\n",
    "    backstory=\"\"\"You are an experienced research analyst with expertise in gathering, \n",
    "    analyzing, and synthesizing information from multiple sources. You have a keen eye \n",
    "    for detail and excel at identifying key trends and insights.\"\"\",\n",
    "    tools=[search_tool],\n",
    "    llm=llm,\n",
    "    verbose=False\n",
    ")\n",
    "\n",
    "# Writer Agent - Expert at content creation\n",
    "writer = Agent(\n",
    "    role='Content Writer',\n",
    "    goal='Create engaging, informative articles based on research findings',\n",
    "    backstory=\"\"\"You are a skilled content writer with years of experience in creating \n",
    "    compelling articles. You excel at transforming complex research into accessible, \n",
    "    engaging content that resonates with readers.\"\"\",\n",
    "    tools=[file_writer],\n",
    "    llm=llm,\n",
    "    verbose=False\n",
    ")\n",
    "\n",
    "# Editor Agent - Expert at content review and improvement\n",
    "editor = Agent(\n",
    "    role='Senior Editor',\n",
    "    goal='Review and enhance content for clarity, accuracy, and engagement',\n",
    "    backstory=\"\"\"You are a meticulous editor with exceptional attention to detail. \n",
    "    You excel at improving content structure, clarity, and overall quality while \n",
    "    maintaining the author's voice and intent.\"\"\",\n",
    "    llm=llm,\n",
    "    verbose=False\n",
    ")\n",
    "\n",
    "# print(\"Agents created successfully!\")"
   ]
  },
  {
   "cell_type": "markdown",
   "metadata": {},
   "source": [
    "## Step 5: Define Tasks for Each Agent"
   ]
  },
  {
   "cell_type": "code",
   "execution_count": 22,
   "metadata": {},
   "outputs": [
    {
     "name": "stdout",
     "output_type": "stream",
     "text": [
      "Task creation function defined!\n"
     ]
    }
   ],
   "source": [
    "def create_tasks(topic):\n",
    "    # Research Task\n",
    "    research_task = Task(\n",
    "        description=f\"\"\"Conduct comprehensive research on: {topic}\n",
    "        \n",
    "        Your research should include:\n",
    "        - Current trends and developments\n",
    "        - Key statistics and data points\n",
    "        - Expert opinions and insights\n",
    "        - Future implications and predictions\n",
    "        \n",
    "        Provide a detailed research summary with sources with 50 words.\"\"\",\n",
    "        agent=researcher,\n",
    "        expected_output=\"A comprehensive research summary with key findings and sources\"\n",
    "    )\n",
    "    \n",
    "    # Writing Task\n",
    "    writing_task = Task(\n",
    "        description=f\"\"\"Based on the research findings, write an engaging article about: {topic} in 50 words\n",
    "        \n",
    "        The article should:\n",
    "        - Have a compelling introduction and conclusion\n",
    "        - Include relevant statistics and expert insights\n",
    "        - Be structured with clear headings and subheadings\n",
    "        - Be written for a general audience\n",
    "        \n",
    "        \"\"\",\n",
    "        agent=writer,\n",
    "        context=[research_task],\n",
    "        expected_output=\"A well-structured, engaging article saved as a markdown file\"\n",
    "    )\n",
    "    \n",
    "    # Editing Task\n",
    "    editing_task = Task(\n",
    "        description=\"\"\"Review the written article and provide:\n",
    "        \n",
    "        1. Overall assessment of content quality\n",
    "        2. Suggestions for improvement in:\n",
    "           - Structure and flow\n",
    "           - Clarity and readability\n",
    "           - Factual accuracy\n",
    "           - Engagement and interest\n",
    "        3. A final edited version with improvements\n",
    "        \n",
    "        Provide both your review comments and the improved article within 50 words.\"\"\",\n",
    "        agent=editor,\n",
    "        context=[writing_task],\n",
    "        expected_output=\"Editorial review with improvement suggestions and final edited article\"\n",
    "    )\n",
    "    \n",
    "    return [research_task, writing_task, editing_task]\n",
    "\n",
    "print(\"Task creation function defined!\")"
   ]
  },
  {
   "cell_type": "markdown",
   "metadata": {},
   "source": [
    "## Step 6: Create and Execute the Crew"
   ]
  },
  {
   "cell_type": "code",
   "execution_count": 25,
   "metadata": {},
   "outputs": [],
   "source": [
    "# Define the topic for research and writing\n",
    "topic = \"Artificial Intelligence in Sales 2025\"\n",
    "\n",
    "# Create tasks for the topic\n",
    "tasks = create_tasks(topic)\n",
    "\n",
    "# Create the crew\n",
    "content_crew = Crew(\n",
    "    agents=[researcher, writer, editor],\n",
    "    tasks=tasks,\n",
    "    process=Process.sequential,  # Tasks executed one after another\n",
    "    verbose=0\n",
    ")"
   ]
  },
  {
   "cell_type": "code",
   "execution_count": 26,
   "metadata": {},
   "outputs": [
    {
     "name": "stdout",
     "output_type": "stream",
     "text": [
      "Starting crew execution...\n",
      "\n",
      "\n",
      "==================================================\n",
      "CREW EXECUTION COMPLETED!\n",
      "==================================================\n",
      "\n",
      "Final Result:\n",
      "\n",
      "==================================================\n",
      "CREW EXECUTION COMPLETED!\n",
      "==================================================\n",
      "\n",
      "Final Result:\n"
     ]
    },
    {
     "data": {
      "text/markdown": [
       "**Overall Assessment of Content Quality**: The article presents a clear overview of AI's impact on sales by 2025 but lacks depth in certain areas and could benefit from improved structure and engagement.\n",
       "\n",
       "**Suggestions for Improvement**:  \n",
       "- **Structure and Flow**: Introduce subheadings for each section to enhance navigation.  \n",
       "- **Clarity and Readability**: Simplify complex sentences and use bullet points for key trends.  \n",
       "- **Factual Accuracy**: Ensure all statistics are up-to-date and properly cited.  \n",
       "- **Engagement and Interest**: Include real-world examples or case studies to illustrate points.\n",
       "\n",
       "**Final Edited Version**:  \n",
       "# Artificial Intelligence in Sales 2025\n",
       "\n",
       "## Introduction  \n",
       "As we approach 2025, Artificial Intelligence (AI) is poised to revolutionize the sales landscape. With productivity enhancements projected at 15% (Gartner), businesses are preparing for a transformative shift in customer engagement.\n",
       "\n",
       "## Key Trends  \n",
       "- **AI-Driven Insights**: Understanding customer behavior through AI is essential for effective sales strategies.  \n",
       "- **Competitive Edge**: Companies utilizing these insights can tailor their approaches to meet evolving consumer needs.\n",
       "\n",
       "## The Need for Skilled Professionals  \n",
       "Despite the benefits, there is a looming shortage of 4.3 million AI specialists, emphasizing the urgent need for skilled professionals in this field.\n",
       "\n",
       "## Conclusion  \n",
       "The integration of AI in sales by 2025 promises significant benefits but requires a workforce equipped to harness its potential. For more insights, visit [SuperAGI](https://superagi.com/10-ai-driven-sales-trends-to-watch-in-2025-insights-from-industry-leaders-and-experts/) and [PwC](https://www.pwc.com/us/en/tech-effect/ai-analytics/ai-predictions.html)."
      ],
      "text/plain": [
       "<IPython.core.display.Markdown object>"
      ]
     },
     "metadata": {},
     "output_type": "display_data"
    }
   ],
   "source": [
    "from IPython.display import display, Markdown\n",
    "\n",
    "# Execute the crew\n",
    "print(\"Starting crew execution...\\n\")\n",
    "\n",
    "result = content_crew.kickoff()\n",
    "\n",
    "print(\"\\n\" + \"=\"*50)\n",
    "print(\"CREW EXECUTION COMPLETED!\")\n",
    "print(\"=\"*50)\n",
    "print(\"\\nFinal Result:\")\n",
    "\n",
    "# Convert CrewOutput to text and display as markdown\n",
    "if hasattr(result, 'raw') and result.raw:\n",
    "    result_text = result.raw\n",
    "elif hasattr(result, 'tasks_output') and result.tasks_output:\n",
    "    result_text = \"\\n\\n\".join([str(task.output) for task in result.tasks_output])\n",
    "else:\n",
    "    result_text = str(result)\n",
    "\n",
    "display(Markdown(result_text))"
   ]
  },
  {
   "cell_type": "markdown",
   "metadata": {},
   "source": [
    "## Conclusion\n",
    "\n",
    "You've successfully built a multi-agent system using CrewAI! This tutorial covered:\n",
    "\n",
    "✅ **Environment Setup**: API keys and dependencies  \n",
    "✅ **Agent Creation**: Specialized AI agents with distinct roles  \n",
    "✅ **Task Definition**: Clear objectives and expected outputs  \n",
    "✅ **Crew Orchestration**: Coordinating agents to work together  \n",
    "✅ **Execution**: Running the complete workflow  \n",
    "\n",
    "**Remember**: Learn key principles of designing effective AI agents, and organizing a team of AI agents to perform complex, multi-step tasks is the foundation of successful multi-agent systems!"
   ]
  }
 ],
 "metadata": {
  "kernelspec": {
   "display_name": "3.10.14",
   "language": "python",
   "name": "python3"
  },
  "language_info": {
   "codemirror_mode": {
    "name": "ipython",
    "version": 3
   },
   "file_extension": ".py",
   "mimetype": "text/x-python",
   "name": "python",
   "nbconvert_exporter": "python",
   "pygments_lexer": "ipython3",
   "version": "3.10.14"
  }
 },
 "nbformat": 4,
 "nbformat_minor": 4
}
