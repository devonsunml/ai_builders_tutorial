{
 "cells": [
  {
   "cell_type": "markdown",
   "metadata": {},
   "source": [
    "# Nosana GPU-Powered Jupyter Notebook Tutorial\n",
    "\n",
    "## Introduction\n",
    "\n",
    "Nosana is a GPU marketplace built to make AI compute accessible and affordable for businesses and developers. Focused on AI inference, Nosana connects Hosts—data centers and hardware owners—with Clients who need scalable and cost-effective GPU compute for AI Inference workloads.\n",
    "\n",
    "This tutorial demonstrates how to deploy and interact with GPU-enabled Jupyter notebooks on the Nosana network using both the CLI and SDK approaches.\n",
    "\n",
    "## What You'll Learn\n",
    "\n",
    "- Understanding Nosana's job structure and GPU markets\n",
    "- Deploying Jupyter notebooks with GPU support\n",
    "- Monitoring and managing your deployments\n",
    "- Interacting with your Jupyter instance\n",
    "- Best practices for cost optimization\n",
    "\n",
    "## Prerequisites\n",
    "\n",
    "- Node.js (v18+)\n",
    "- SOL tokens (minimum 0.05 SOL for transactions)\n",
    "- NOS tokens for compute costs\n",
    "- Basic understanding of Docker and Jupyter notebooks"
   ]
  },
  {
   "cell_type": "markdown",
   "metadata": {},
   "source": [
    "## Core Concepts\n",
    "\n",
    "### Nosana Job Structure\n",
    "\n",
    "Each job on the Nosana network is essentially an AI inference task that runs from a Docker container. The jobs are designed to utilize GPU resources efficiently. Key components:\n",
    "\n",
    "- **Operations (ops)**: Array of containerized tasks\n",
    "- **Job States**: QUEUED → RUNNING → COMPLETED\n",
    "- **Markets**: GPU groupings by type (3060, 3090, etc.)\n",
    "- **Service URLs**: Access deployed services via unique endpoints\n",
    "\n",
    "### GPU Markets\n",
    "\n",
    "Nosana offers a variety of GPU markets tailored to different needs. Popular markets include:\n",
    "- NVIDIA-3060: Budget-friendly option for light workloads\n",
    "- NVIDIA-3090: High-performance for demanding tasks\n",
    "- Custom markets for specific GPU requirements"
   ]
  },
  {
   "cell_type": "markdown",
   "metadata": {},
   "source": [
    "## Method 1: Quick Start with CLI\n",
    "\n",
    "The fastest way to deploy a Jupyter notebook is using the Nosana CLI.\n",
    "\n",
    "### Installation & Setup"
   ]
  },
  {
   "cell_type": "code",
   "execution_count": null,
   "metadata": {},
   "source": [
    "# Install Nosana CLI globally\n",
    "!npm install -g @nosana/cli\n",
    "\n",
    "# Check wallet address and balances\n",
    "!nosana address"
   ]
  },
  {
   "cell_type": "markdown",
   "metadata": {},
   "source": [
    "### Job Definition"
   ]
  },
  {
   "cell_type": "code",
   "execution_count": null,
   "metadata": {},
   "source": [
    "# Create jupyter.json job definition\n",
    "jupyter_job = {\n",
    "    \"version\": \"0.1\",\n",
    "    \"type\": \"container\",\n",
    "    \"meta\": {\n",
    "        \"trigger\": \"cli\"\n",
    "    },\n",
    "    \"ops\": [\n",
    "        {\n",
    "            \"type\": \"container/run\",\n",
    "            \"id\": \"jupyter-notebook\",\n",
    "            \"args\": {\n",
    "                \"cmd\": [\n",
    "                    \"bash\", \"-c\",\n",
    "                    \"source /etc/bash.bashrc && \"\n",
    "                    \"jupyter notebook --notebook-dir=/tf \"\n",
    "                    \"--ip 0.0.0.0 --no-browser --allow-root \"\n",
    "                    \"--NotebookApp.token='' --NotebookApp.password=''\"\n",
    "                ],\n",
    "                \"expose\": 8888,\n",
    "                \"image\": \"tensorflow/tensorflow:latest-gpu-jupyter\",\n",
    "                \"gpu\": True\n",
    "            }\n",
    "        }\n",
    "    ]\n",
    "}\n",
    "\n",
    "# Save to file\n",
    "import json\n",
    "with open('jupyter.json', 'w') as f:\n",
    "    json.dump(jupyter_job, f, indent=2)\n",
    "\n",
    "print(\"Job definition created: jupyter.json\")"
   ]
  },
  {
   "cell_type": "markdown",
   "metadata": {},
   "source": [
    "### Deploy to Nosana Network"
   ]
  },
  {
   "cell_type": "code",
   "execution_count": null,
   "metadata": {},
   "source": [
    "# Deploy using CLI (choose appropriate market)\n",
    "# For NVIDIA 3060 market (budget option):\n",
    "!nosana job post --file jupyter.json --market nvidia-3060 --timeout 60\n",
    "\n",
    "# Monitor job status\n",
    "# Replace JOB_ID with actual job ID from deployment output\n",
    "# !nosana job get JOB_ID --wait"
   ]
  },
  {
   "cell_type": "markdown",
   "metadata": {},
   "source": [
    "## Method 2: Programmatic Control with SDK\n",
    "\n",
    "For advanced users who need programmatic control over job lifecycle."
   ]
  },
  {
   "cell_type": "code",
   "execution_count": null,
   "metadata": {},
   "source": [
    "# Install required packages\n",
    "!npm install @nosana/sdk @solana/web3.js"
   ]
  },
  {
   "cell_type": "code",
   "execution_count": null,
   "metadata": {},
   "source": [
    "%%writefile deploy_jupyter.js\n",
    "import { PublicKey } from '@solana/web3.js';\n",
    "import { Client, sleep } from '@nosana/sdk';\n",
    "\n",
    "// Job definition for GPU-enabled Jupyter\n",
    "const jobDefinition = {\n",
    "    \"version\": \"0.1\",\n",
    "    \"type\": \"container\",\n",
    "    \"meta\": { \"trigger\": \"sdk\" },\n",
    "    \"ops\": [{\n",
    "        \"type\": \"container/run\",\n",
    "        \"id\": \"jupyter-gpu\",\n",
    "        \"args\": {\n",
    "            \"cmd\": [\n",
    "                \"bash\", \"-c\",\n",
    "                \"pip install matplotlib seaborn scikit-learn && \"\n",
    "                \"jupyter notebook --notebook-dir=/tf --ip 0.0.0.0 \"\n",
    "                \"--no-browser --allow-root --NotebookApp.token='' \"\n",
    "                \"--NotebookApp.password=''\"\n",
    "            ],\n",
    "            \"expose\": 8888,\n",
    "            \"image\": \"tensorflow/tensorflow:2.17.0-gpu-jupyter\",\n",
    "            \"gpu\": true,\n",
    "            \"env\": {\n",
    "                \"CUDA_VISIBLE_DEVICES\": \"0\"\n",
    "            }\n",
    "        }\n",
    "    }]\n",
    "};\n",
    "\n",
    "async function deployJupyter() {\n",
    "    // Initialize client with private key\n",
    "    const privateKey = process.env.SOLANA_KEY || 'your_private_key_here';\n",
    "    const nosana = new Client('mainnet', privateKey);\n",
    "    \n",
    "    // Check balances\n",
    "    console.log(`Wallet: ${nosana.solana.wallet.publicKey.toString()}`);\n",
    "    console.log(`SOL: ${await nosana.solana.getSolBalance()} SOL`);\n",
    "    console.log(`NOS: ${(await nosana.solana.getNosBalance())?.amount.toString()} NOS`);\n",
    "    \n",
    "    // Upload job to IPFS\n",
    "    const ipfsHash = await nosana.ipfs.pin(jobDefinition);\n",
    "    console.log(`IPFS Hash: ${ipfsHash}`);\n",
    "    \n",
    "    // Post to GPU market\n",
    "    const market = new PublicKey('97G9NnvBDQ2WpKu6fasoMsAKmfj63C9rhysJnkeWodAf');\n",
    "    const response = await nosana.jobs.list(ipfsHash, market);\n",
    "    \n",
    "    console.log(`\\nDeployment Details:`);\n",
    "    console.log(`Job ID: ${response.job}`);\n",
    "    console.log(`Service URL: https://${response.job}.node.k8s.prd.nos.ci`);\n",
    "    console.log(`Explorer: https://dashboard.nosana.com/jobs/${response.job}`);\n",
    "    \n",
    "    // Monitor job progress\n",
    "    let job = await nosana.jobs.get(response.job);\n",
    "    console.log(`\\nMonitoring job progress...`);\n",
    "    \n",
    "    while (!job || job.state !== \"RUNNING\") {\n",
    "        job = await nosana.jobs.get(response.job);\n",
    "        console.log(`Status: ${job.state}`);\n",
    "        if (job.state === \"RUNNING\") break;\n",
    "        await sleep(10);\n",
    "    }\n",
    "    \n",
    "    console.log(`\\n✅ Jupyter notebook is now running!`);\n",
    "    console.log(`Access at: https://${response.job}.node.k8s.prd.nos.ci`);\n",
    "    \n",
    "    return response.job;\n",
    "}\n",
    "\n",
    "// Run deployment\n",
    "deployJupyter().catch(console.error);"
   ]
  },
  {
   "cell_type": "code",
   "execution_count": null,
   "metadata": {},
   "source": [
    "# Execute the deployment script\n",
    "!node deploy_jupyter.js"
   ]
  },
  {
   "cell_type": "markdown",
   "metadata": {},
   "source": [
    "## Interacting with Your Jupyter Instance\n",
    "\n",
    "Once deployed, your Jupyter notebook will be accessible via the service URL. The service will be exposed at https://[JOB_ID].node.k8s.prd.nos.ci"
   ]
  },
  {
   "cell_type": "code",
   "execution_count": null,
   "metadata": {},
   "source": [
    "# Example: Test GPU availability in your deployed notebook\n",
    "gpu_test_code = '''\n",
    "import tensorflow as tf\n",
    "import torch\n",
    "\n",
    "# Check TensorFlow GPU\n",
    "print(\"TensorFlow version:\", tf.__version__)\n",
    "print(\"GPUs Available:\", len(tf.config.experimental.list_physical_devices('GPU')))\n",
    "\n",
    "# Check PyTorch GPU\n",
    "print(\"PyTorch CUDA available:\", torch.cuda.is_available())\n",
    "if torch.cuda.is_available():\n",
    "    print(\"GPU Name:\", torch.cuda.get_device_name(0))\n",
    "    print(\"GPU Memory:\", torch.cuda.get_device_properties(0).total_memory / 1e9, \"GB\")\n",
    "'''\n",
    "\n",
    "print(\"Copy this code to test GPU in your deployed Jupyter notebook:\")\n",
    "print(gpu_test_code)"
   ]
  },
  {
   "cell_type": "markdown",
   "metadata": {},
   "source": [
    "## Job Management\n",
    "\n",
    "### Monitoring and Extending Jobs"
   ]
  },
  {
   "cell_type": "code",
   "execution_count": null,
   "metadata": {},
   "source": [
    "%%writefile manage_job.js\n",
    "import { Client } from '@nosana/sdk';\n",
    "\n",
    "class JobManager {\n",
    "    constructor(privateKey) {\n",
    "        this.nosana = new Client('mainnet', privateKey);\n",
    "    }\n",
    "    \n",
    "    async getJobStatus(jobId) {\n",
    "        const job = await this.nosana.jobs.get(jobId);\n",
    "        return {\n",
    "            state: job.state,\n",
    "            startTime: job.startTime,\n",
    "            duration: job.duration,\n",
    "            price: job.price\n",
    "        };\n",
    "    }\n",
    "    \n",
    "    async extendJob(jobId, additionalMinutes) {\n",
    "        console.log(`Extending job ${jobId} by ${additionalMinutes} minutes`);\n",
    "        // Use CLI for extension\n",
    "        const { exec } = require('child_process');\n",
    "        return new Promise((resolve, reject) => {\n",
    "            exec(`nosana job extend ${jobId} --timeout ${additionalMinutes}`, \n",
    "                (error, stdout, stderr) => {\n",
    "                    if (error) reject(error);\n",
    "                    else resolve(stdout);\n",
    "                });\n",
    "        });\n",
    "    }\n",
    "    \n",
    "    async stopJob(jobId) {\n",
    "        console.log(`Stopping job ${jobId}`);\n",
    "        const { exec } = require('child_process');\n",
    "        return new Promise((resolve, reject) => {\n",
    "            exec(`nosana job stop ${jobId}`, (error, stdout, stderr) => {\n",
    "                if (error) reject(error);\n",
    "                else resolve(stdout);\n",
    "            });\n",
    "        });\n",
    "    }\n",
    "}\n",
    "\n",
    "// Usage example\n",
    "const manager = new JobManager(process.env.SOLANA_KEY);\n",
    "// const status = await manager.getJobStatus('YOUR_JOB_ID');\n",
    "// console.log('Job Status:', status);"
   ]
  },
  {
   "cell_type": "markdown",
   "metadata": {},
   "source": [
    "## Cost Optimization Tips\n",
    "\n",
    "1. **Choose the Right Market**: For real-time updates on prices, job timeouts, queue lengths, and more, visit the Nosana explorer.\n",
    "\n",
    "2. **Monitor Usage**: Set appropriate timeouts to avoid unnecessary costs\n",
    "\n",
    "3. **Resource Planning**: Use lower-tier GPUs for development, higher-tier for production\n",
    "\n",
    "4. **Batch Processing**: Combine multiple tasks in single deployments when possible"
   ]
  },
  {
   "cell_type": "code",
   "execution_count": null,
   "metadata": {},
   "source": [
    "# Example: Market comparison for cost optimization\n",
    "markets_comparison = {\n",
    "    \"nvidia-3060\": {\n",
    "        \"price_per_second\": 0.000043,\n",
    "        \"hourly_cost\": 0.000043 * 3600,\n",
    "        \"use_cases\": [\"Development\", \"Light ML tasks\", \"Testing\"]\n",
    "    },\n",
    "    \"nvidia-3090\": {\n",
    "        \"price_per_second\": 0.000115,\n",
    "        \"hourly_cost\": 0.000115 * 3600,\n",
    "        \"use_cases\": [\"Heavy ML training\", \"Large models\", \"Production\"]\n",
    "    }\n",
    "}\n",
    "\n",
    "print(\"Market Comparison for Cost Optimization:\")\n",
    "for market, details in markets_comparison.items():\n",
    "    print(f\"\\n{market}:\")\n",
    "    print(f\"  Hourly Cost: {details['hourly_cost']:.4f} NOS\")\n",
    "    print(f\"  Best for: {', '.join(details['use_cases'])}\")"
   ]
  },
  {
   "cell_type": "markdown",
   "metadata": {},
   "source": [
    "## Best Practices & Troubleshooting\n",
    "\n",
    "### Common Issues\n",
    "\n",
    "1. **Insufficient Funds**: You will need a minimum of 0.05 SOL, and a minimum amount of NOS to pay for the Nosana deployment.\n",
    "\n",
    "2. **Job Timeout**: Set realistic timeouts based on your workflow requirements\n",
    "\n",
    "3. **Image Selection**: Use official images when possible for better reliability\n",
    "\n",
    "### Security Considerations\n",
    "\n",
    "- Never hardcode private keys in notebooks\n",
    "- Use environment variables for sensitive data\n",
    "- Monitor job costs regularly\n",
    "- Stop unused deployments promptly\n",
    "\n",
    "## Conclusion\n",
    "\n",
    "You've learned how to deploy GPU-enabled Jupyter notebooks on Nosana using both CLI and SDK approaches. Nosana significantly streamlines the process of setting up high-performance AI inference services. Start with the CLI for quick experimentation, then move to the SDK for production workflows requiring programmatic control.\n",
    "\n",
    "### Next Steps\n",
    "\n",
    "- Explore the [Nosana Dashboard](https://dashboard.nosana.com) for visual job management\n",
    "- Try different GPU markets based on your performance needs\n",
    "- Integrate Nosana deployments into your ML workflows\n",
    "- Join the [Nosana Discord](https://discord.gg/nosana) community for support"
   ]
  }
 ],
 "metadata": {
  "kernelspec": {
   "display_name": "Python 3",
   "language": "python",
   "name": "python3"
  },
  "language_info": {
   "codemirror_mode": {
    "name": "ipython",
    "version": 3
   },
   "file_extension": ".py",
   "mimetype": "text/x-python",
   "name": "python",
   "nbconvert_exporter": "python",
   "pygments_lexer": "ipython3",
   "version": "3.8.5"
  }
 },
 "nbformat": 4,
 "nbformat_minor": 4
}