{
  "cells": [
    {
      "cell_type": "markdown",
      "metadata": {},
      "source": [
        "# CrewAI Tutorial: Building Multi-Agent AI Systems\n",
        "\n",
        "## What is CrewAI?\n",
        "\n",
        "CrewAI is an open-source Python framework designed to orchestrate role-playing, autonomous AI agents that collaborate to tackle complex tasks. Think of it as building a team where each AI agent has specialized skills and responsibilities.\n",
        "\n",
        "## Core Concepts\n",
        "\n",
        "### 1. **Agents**\n",
        "Think of an agent as a specialized team member with specific skills, expertise, and responsibilities. For example, a Researcher agent might excel at gathering and analyzing information, while a Writer agent might be better at creating content.\n",
        "\n",
        "### 2. **Tasks**\n",
        "Tasks are specific assignments given to agents. Each task defines what needs to be accomplished, expected outcomes, and which agent should handle it.\n",
        "\n",
        "### 3. **Crews**\n",
        "A crew is a structured group of agents and tasks that work together to complete a process. Crews orchestrate the collaboration between multiple agents.\n",
        "\n",
        "### 4. **Tools**\n",
        "This enables agents to perform tasks beyond their core capabilities, such as retrieving information from the web or performing complex data analysis.\n",
        "\n",
        "## Tutorial Overview\n",
        "\n",
        "We'll build a **Content Research and Writing System** with:\n",
        "- **Research Agent**: Gathers information on topics\n",
        "- **Writer Agent**: Creates articles based on research\n",
        "- **Editor Agent**: Reviews and improves content\n",
        "\n",
        "This tutorial demonstrates the power of multi-AI agent systems that exceed the performance of prompting a single LLM by designing and prompting a team of AI agents."
      ]
    },
    {
      "cell_type": "markdown",
      "metadata": {},
      "source": [
        "## Step 1: Setup and Environment Configuration"
      ]
    },
    {
      "cell_type": "code",
      "execution_count": null,
      "metadata": {},
      "outputs": [],
      "source": [
        "# Install required packages\n",
        "!pip install crewai crewai-tools python-dotenv"
      ]
    },
    {
      "cell_type": "code",
      "execution_count": null,
      "metadata": {},
      "outputs": [],
      "source": [
        "# Load environment variables\n",
        "import os\n",
        "from dotenv import load_dotenv\n",
        "\n",
        "# Load API keys from .env file\n",
        "load_dotenv()\n",
        "\n",
        "# Required environment variables:\n",
        "# OPENAI_API_KEY=your_openai_key_here\n",
        "# SERPER_API_KEY=your_serper_key_here (for web search)\n",
        "\n",
        "print(\"Environment variables loaded successfully!\")\n",
        "print(f\"OpenAI API Key: {'✓ Set' if os.getenv('OPENAI_API_KEY') else '✗ Missing'}\")\n",
        "print(f\"Serper API Key: {'✓ Set' if os.getenv('SERPER_API_KEY') else '✗ Missing'}\")"
      ]
    },
    {
      "cell_type": "markdown",
      "metadata": {},
      "source": [
        "## Step 2: Import CrewAI Components"
      ]
    },
    {
      "cell_type": "code",
      "execution_count": null,
      "metadata": {},
      "outputs": [],
      "source": [
        "from crewai import Agent, Task, Crew, Process\n",
        "from crewai_tools import SerperDevTool, FileWriterTool\n",
        "from langchain_openai import ChatOpenAI"
      ]
    },
    {
      "cell_type": "markdown",
      "metadata": {},
      "source": [
        "## Step 3: Initialize Tools and LLM"
      ]
    },
    {
      "cell_type": "code",
      "execution_count": null,
      "metadata": {},
      "outputs": [],
      "source": [
        "# Initialize tools\n",
        "search_tool = SerperDevTool()\n",
        "file_writer = FileWriterTool()\n",
        "\n",
        "# Initialize LLM\n",
        "llm = ChatOpenAI(\n",
        "    model_name=\"gpt-4\",\n",
        "    temperature=0.1\n",
        ")\n",
        "\n",
        "print(\"Tools and LLM initialized successfully!\")"
      ]
    },
    {
      "cell_type": "markdown",
      "metadata": {},
      "source": [
        "## Step 4: Create Specialized Agents"
      ]
    },
    {
      "cell_type": "code",
      "execution_count": null,
      "metadata": {},
      "outputs": [],
      "source": [
        "# Research Agent - Expert at gathering information\n",
        "researcher = Agent(\n",
        "    role='Senior Research Analyst',\n",
        "    goal='Conduct thorough research on given topics and provide comprehensive insights',\n",
        "    backstory=\"\"\"You are an experienced research analyst with expertise in gathering, \n",
        "    analyzing, and synthesizing information from multiple sources. You have a keen eye \n",
        "    for detail and excel at identifying key trends and insights.\"\"\",\n",
        "    tools=[search_tool],\n",
        "    llm=llm,\n",
        "    verbose=True\n",
        ")\n",
        "\n",
        "# Writer Agent - Expert at content creation\n",
        "writer = Agent(\n",
        "    role='Content Writer',\n",
        "    goal='Create engaging, informative articles based on research findings',\n",
        "    backstory=\"\"\"You are a skilled content writer with years of experience in creating \n",
        "    compelling articles. You excel at transforming complex research into accessible, \n",
        "    engaging content that resonates with readers.\"\"\",\n",
        "    tools=[file_writer],\n",
        "    llm=llm,\n",
        "    verbose=True\n",
        ")\n",
        "\n",
        "# Editor Agent - Expert at content review and improvement\n",
        "editor = Agent(\n",
        "    role='Senior Editor',\n",
        "    goal='Review and enhance content for clarity, accuracy, and engagement',\n",
        "    backstory=\"\"\"You are a meticulous editor with exceptional attention to detail. \n",
        "    You excel at improving content structure, clarity, and overall quality while \n",
        "    maintaining the author's voice and intent.\"\"\",\n",
        "    llm=llm,\n",
        "    verbose=True\n",
        ")\n",
        "\n",
        "print(\"Agents created successfully!\")"
      ]
    },
    {
      "cell_type": "markdown",
      "metadata": {},
      "source": [
        "## Step 5: Define Tasks for Each Agent"
      ]
    },
    {
      "cell_type": "code",
      "execution_count": null,
      "metadata": {},
      "outputs": [],
      "source": [
        "def create_tasks(topic):\n",
        "    # Research Task\n",
        "    research_task = Task(\n",
        "        description=f\"\"\"Conduct comprehensive research on: {topic}\n",
        "        \n",
        "        Your research should include:\n",
        "        - Current trends and developments\n",
        "        - Key statistics and data points\n",
        "        - Expert opinions and insights\n",
        "        - Future implications and predictions\n",
        "        \n",
        "        Provide a detailed research summary with sources.\"\"\",\n",
        "        agent=researcher,\n",
        "        expected_output=\"A comprehensive research summary with key findings and sources\"\n",
        "    )\n",
        "    \n",
        "    # Writing Task\n",
        "    writing_task = Task(\n",
        "        description=f\"\"\"Based on the research findings, write an engaging article about: {topic}\n",
        "        \n",
        "        The article should:\n",
        "        - Be 800-1000 words long\n",
        "        - Have a compelling introduction and conclusion\n",
        "        - Include relevant statistics and expert insights\n",
        "        - Be structured with clear headings and subheadings\n",
        "        - Be written for a general audience\n",
        "        \n",
        "        Save the article as '{topic.lower().replace(' ', '_')}_article.md'\"\"\",\n",
        "        agent=writer,\n",
        "        context=[research_task],\n",
        "        expected_output=\"A well-structured, engaging article saved as a markdown file\"\n",
        "    )\n",
        "    \n",
        "    # Editing Task\n",
        "    editing_task = Task(\n",
        "        description=\"\"\"Review the written article and provide:\n",
        "        \n",
        "        1. Overall assessment of content quality\n",
        "        2. Suggestions for improvement in:\n",
        "           - Structure and flow\n",
        "           - Clarity and readability\n",
        "           - Factual accuracy\n",
        "           - Engagement and interest\n",
        "        3. A final edited version with improvements\n",
        "        \n",
        "        Provide both your review comments and the improved article.\"\"\",\n",
        "        agent=editor,\n",
        "        context=[writing_task],\n",
        "        expected_output=\"Editorial review with improvement suggestions and final edited article\"\n",
        "    )\n",
        "    \n",
        "    return [research_task, writing_task, editing_task]\n",
        "\n",
        "print(\"Task creation function defined!\")"
      ]
    },
    {
      "cell_type": "markdown",
      "metadata": {},
      "source": [
        "## Step 6: Create and Execute the Crew"
      ]
    },
    {
      "cell_type": "code",
      "execution_count": null,
      "metadata": {},
      "outputs": [],
      "source": [
        "# Define the topic for research and writing\n",
        "topic = \"Artificial Intelligence in Healthcare 2024\"\n",
        "\n",
        "# Create tasks for the topic\n",
        "tasks = create_tasks(topic)\n",
        "\n",
        "# Create the crew\n",
        "content_crew = Crew(\n",
        "    agents=[researcher, writer, editor],\n",
        "    tasks=tasks,\n",
        "    process=Process.sequential,  # Tasks executed one after another\n",
        "    verbose=2  # Detailed logging\n",
        ")\n",
        "\n",
        "print(f\"Crew created successfully for topic: {topic}\")\n",
        "print(f\"Number of agents: {len(content_crew.agents)}\")\n",
        "print(f\"Number of tasks: {len(content_crew.tasks)}\")"
      ]
    },
    {
      "cell_type": "code",
      "execution_count": null,
      "metadata": {},
      "outputs": [],
      "source": [
        "# Execute the crew\n",
        "print(\"Starting crew execution...\\n\")\n",
        "\n",
        "result = content_crew.kickoff()\n",
        "\n",
        "print(\"\\n\" + \"=\"*50)\n",
        "print(\"CREW EXECUTION COMPLETED!\")\n",
        "print(\"=\"*50)\n",
        "print(\"\\nFinal Result:\")\n",
        "print(result)"
      ]
    },
    {
      "cell_type": "markdown",
      "metadata": {},
      "source": [
        "## Step 7: Advanced Features and Best Practices"
      ]
    },
    {
      "cell_type": "code",
      "execution_count": null,
      "metadata": {},
      "outputs": [],
      "source": [
        "# Advanced Crew Configuration Example\n",
        "def create_advanced_crew(topic):\n",
        "    \"\"\"Create a crew with advanced features\"\"\"\n",
        "    \n",
        "    # Enhanced agents with memory and delegation\n",
        "    senior_researcher = Agent(\n",
        "        role='Senior Research Director',\n",
        "        goal=f'Lead comprehensive research on {topic}',\n",
        "        backstory=\"You're a research director with 15+ years of experience\",\n",
        "        tools=[search_tool],\n",
        "        llm=llm,\n",
        "        allow_delegation=True,  # Can delegate tasks to other agents\n",
        "        memory=True,  # Remembers previous interactions\n",
        "        max_iter=3,  # Maximum iterations for task completion\n",
        "        verbose=True\n",
        "    )\n",
        "    \n",
        "    # Create crew with custom configuration\n",
        "    advanced_crew = Crew(\n",
        "        agents=[senior_researcher, writer, editor],\n",
        "        tasks=create_tasks(topic),\n",
        "        process=Process.sequential,\n",
        "        memory=True,  # Crew-level memory\n",
        "        cache=True,   # Cache results for efficiency\n",
        "        max_rpm=10,   # Rate limiting\n",
        "        verbose=2\n",
        "    )\n",
        "    \n",
        "    return advanced_crew\n",
        "\n",
        "print(\"Advanced crew configuration example defined!\")\n",
        "\n",
        "# Best Practices Summary\n",
        "best_practices = \"\"\"\n",
        "🚀 CrewAI Best Practices:\n",
        "\n",
        "1. **Agent Design**: Give agents specific roles and detailed backstories\n",
        "2. **Task Dependencies**: Use context parameter to chain tasks effectively\n",
        "3. **Tool Selection**: Equip agents with relevant tools for their roles\n",
        "4. **Process Types**: Choose sequential for dependent tasks, hierarchical for complex workflows\n",
        "5. **Error Handling**: Set max_iter and implement validation in your tasks\n",
        "6. **Performance**: Use caching and memory for better efficiency\n",
        "7. **Monitoring**: Enable verbose logging to track agent interactions\n",
        "\"\"\"\n",
        "\n",
        "print(best_practices)"
      ]
    },
    {
      "cell_type": "markdown",
      "metadata": {},
      "source": [
        "## Conclusion\n",
        "\n",
        "You've successfully built a multi-agent system using CrewAI! This tutorial covered:\n",
        "\n",
        "✅ **Environment Setup**: API keys and dependencies  \n",
        "✅ **Agent Creation**: Specialized AI agents with distinct roles  \n",
        "✅ **Task Definition**: Clear objectives and expected outputs  \n",
        "✅ **Crew Orchestration**: Coordinating agents to work together  \n",
        "✅ **Execution**: Running the complete workflow  \n",
        "✅ **Advanced Features**: Memory, delegation, and optimization  \n",
        "\n",
        "## Next Steps\n",
        "\n",
        "- Explore [CrewAI Tools](https://docs.crewai.com/concepts/tools) for additional capabilities\n",
        "- Learn about [Hierarchical Process](https://docs.crewai.com/concepts/processes) for complex workflows\n",
        "- Try [CrewAI Studio](https://app.crewai.com) for visual crew building\n",
        "- Check out the [GitHub repository](https://github.com/crewAIInc/crewAI) for more examples\n",
        "\n",
        "**Remember**: Learn key principles of designing effective AI agents, and organizing a team of AI agents to perform complex, multi-step tasks is the foundation of successful multi-agent systems!"
      ]
    }
  ],
  "metadata": {
    "kernelspec": {
      "display_name": "Python 3",
      "language": "python",
      "name": "python3"
    },
    "language_info": {
      "codemirror_mode": {
        "name": "ipython",
        "version": 3
      },
      "file_extension": ".py",
      "name": "python",
      "nbconvert_exporter": "python",
      "pygments_lexer": "ipython3",
      "version": "3.8.5"
    }
  },
  "nbformat": 4,
  "nbformat_minor": 4
}