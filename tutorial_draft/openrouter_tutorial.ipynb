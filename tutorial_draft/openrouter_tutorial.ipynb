{
  "cells": [
    {
      "cell_type": "markdown",
      "metadata": {},
      "source": [
        "# OpenRouter AI: Complete Tutorial\n",
        "\n",
        "## What is OpenRouter?\n",
        "\n",
        "OpenRouter provides a unified API that gives you access to hundreds of AI models through a single endpoint, while automatically handling fallbacks and selecting the most cost-effective options. This makes it an ideal solution for developers who want flexibility in model selection without managing multiple API integrations.\n",
        "\n",
        "### Key Benefits:\n",
        "- **Unified Interface**: Access 100+ AI models through one API\n",
        "- **Cost Optimization**: Automatic selection of most cost-effective models\n",
        "- **Reliability**: Built-in fallbacks when providers go down\n",
        "- **OpenAI Compatible**: OpenRouter normalizes the schema across models and providers to comply with the OpenAI Chat API\n",
        "\n",
        "## Setup Requirements\n",
        "\n",
        "Before starting, you'll need:\n",
        "1. OpenRouter account and API key from [openrouter.ai](https://openrouter.ai)\n",
        "2. Python environment with required packages\n",
        "3. `.env` file for secure API key management"
      ]
    },
    {
      "cell_type": "code",
      "execution_count": null,
      "metadata": {},
      "outputs": [],
      "source": [
        "# Install required packages\n",
        "!pip install openai python-dotenv requests langchain crewai litellm -q"
      ]
    },
    {
      "cell_type": "markdown",
      "metadata": {},
      "source": [
        "## Environment Setup\n",
        "\n",
        "Create a `.env` file in your project directory with your API keys:"
      ]
    },
    {
      "cell_type": "code",
      "execution_count": null,
      "metadata": {},
      "outputs": [],
      "source": [
        "# Load environment variables from .env file\n",
        "import os\n",
        "from dotenv import load_dotenv\n",
        "\n",
        "# Load environment variables\n",
        "load_dotenv()\n",
        "\n",
        "# Retrieve API keys\n",
        "OPENROUTER_API_KEY = os.getenv('OPENROUTER_API_KEY')\n",
        "YOUR_SITE_URL = os.getenv('YOUR_SITE_URL', 'https://localhost:3000')\n",
        "YOUR_SITE_NAME = os.getenv('YOUR_SITE_NAME', 'Tutorial App')\n",
        "\n",
        "# Verify API key is loaded\n",
        "if not OPENROUTER_API_KEY:\n",
        "    print(\"⚠️  Warning: OPENROUTER_API_KEY not found in environment variables\")\n",
        "    print(\"Please add OPENROUTER_API_KEY=your_key_here to your .env file\")\n",
        "else:\n",
        "    print(\"✅ API key loaded successfully\")"
      ]
    },
    {
      "cell_type": "markdown",
      "metadata": {},
      "source": [
        "## Method 1: Using OpenAI SDK (Recommended)\n",
        "\n",
        "The easiest way to use OpenRouter is through the OpenAI SDK with modified parameters:"
      ]
    },
    {
      "cell_type": "code",
      "execution_count": null,
      "metadata": {},
      "outputs": [],
      "source": [
        "from openai import OpenAI\n",
        "\n",
        "# Initialize OpenRouter client\n",
        "client = OpenAI(\n",
        "    api_key=OPENROUTER_API_KEY,\n",
        "    base_url=\"https://openrouter.ai/api/v1\",\n",
        "    default_headers={\n",
        "        \"HTTP-Referer\": YOUR_SITE_URL,\n",
        "        \"X-Title\": YOUR_SITE_NAME,\n",
        "    }\n",
        ")\n",
        "\n",
        "# Basic chat completion\n",
        "def chat_with_openrouter(message, model=\"openai/gpt-3.5-turbo\"):\n",
        "    try:\n",
        "        response = client.chat.completions.create(\n",
        "            model=model,\n",
        "            messages=[\n",
        "                {\"role\": \"user\", \"content\": message}\n",
        "            ],\n",
        "            max_tokens=150,\n",
        "            temperature=0.7\n",
        "        )\n",
        "        return response.choices[0].message.content\n",
        "    except Exception as e:\n",
        "        return f\"Error: {str(e)}\"\n",
        "\n",
        "# Test the function\n",
        "result = chat_with_openrouter(\"Explain quantum computing in one sentence.\")\n",
        "print(\"Response:\", result)"
      ]
    },
    {
      "cell_type": "markdown",
      "metadata": {},
      "source": [
        "## Method 2: Direct API Calls\n",
        "\n",
        "For more control, you can make direct HTTP requests:"
      ]
    },
    {
      "cell_type": "code",
      "execution_count": null,
      "metadata": {},
      "outputs": [],
      "source": [
        "import requests\n",
        "import json\n",
        "\n",
        "def direct_api_call(prompt, model=\"anthropic/claude-3-haiku\"):\n",
        "    url = \"https://openrouter.ai/api/v1/chat/completions\"\n",
        "    \n",
        "    headers = {\n",
        "        \"Authorization\": f\"Bearer {OPENROUTER_API_KEY}\",\n",
        "        \"HTTP-Referer\": YOUR_SITE_URL,\n",
        "        \"X-Title\": YOUR_SITE_NAME,\n",
        "        \"Content-Type\": \"application/json\"\n",
        "    }\n",
        "    \n",
        "    data = {\n",
        "        \"model\": model,\n",
        "        \"messages\": [\n",
        "            {\"role\": \"user\", \"content\": prompt}\n",
        "        ],\n",
        "        \"max_tokens\": 100\n",
        "    }\n",
        "    \n",
        "    try:\n",
        "        response = requests.post(url, headers=headers, json=data)\n",
        "        response.raise_for_status()\n",
        "        return response.json()['choices'][0]['message']['content']\n",
        "    except Exception as e:\n",
        "        return f\"Error: {str(e)}\"\n",
        "\n",
        "# Test direct API call\n",
        "result = direct_api_call(\"What is machine learning?\")\n",
        "print(\"Direct API Response:\", result)"
      ]
    },
    {
      "cell_type": "markdown",
      "metadata": {},
      "source": [
        "## Model Comparison and Selection\n",
        "\n",
        "OpenRouter provides access to various models with different capabilities and costs:"
      ]
    },
    {
      "cell_type": "code",
      "execution_count": null,
      "metadata": {},
      "outputs": [],
      "source": [
        "# Available models (sample)\n",
        "MODELS = {\n",
        "    \"gpt-3.5\": \"openai/gpt-3.5-turbo\",\n",
        "    \"gpt-4\": \"openai/gpt-4\",\n",
        "    \"claude-3\": \"anthropic/claude-3-haiku\",\n",
        "    \"gemini\": \"google/gemini-pro\",\n",
        "    \"llama\": \"meta-llama/llama-2-70b-chat\"\n",
        "}\n",
        "\n",
        "def compare_models(prompt, models_to_test=[\"gpt-3.5\", \"claude-3\"]):\n",
        "    results = {}\n",
        "    \n",
        "    for model_name in models_to_test:\n",
        "        if model_name in MODELS:\n",
        "            print(f\"Testing {model_name}...\")\n",
        "            response = chat_with_openrouter(prompt, MODELS[model_name])\n",
        "            results[model_name] = response\n",
        "    \n",
        "    return results\n",
        "\n",
        "# Compare responses from different models\n",
        "comparison_results = compare_models(\"Explain AI in 20 words.\")\n",
        "\n",
        "for model, response in comparison_results.items():\n",
        "    print(f\"\\n{model.upper()}:\")\n",
        "    print(response)"
      ]
    },
    {
      "cell_type": "markdown",
      "metadata": {},
      "source": [
        "## Integration with CrewAI\n",
        "\n",
        "CrewAI allows you to build teams of AI agents. Here's how to integrate it with OpenRouter:"
      ]
    },
    {
      "cell_type": "code",
      "execution_count": null,
      "metadata": {},
      "outputs": [],
      "source": [
        "from crewai import Agent, Task, Crew\n",
        "from langchain_openai import ChatOpenAI\n",
        "\n",
        "# Configure OpenRouter LLM for CrewAI\n",
        "openrouter_llm = ChatOpenAI(\n",
        "    api_key=OPENROUTER_API_KEY,\n",
        "    base_url=\"https://openrouter.ai/api/v1\",\n",
        "    model=\"openai/gpt-3.5-turbo\",\n",
        "    temperature=0.7\n",
        ")\n",
        "\n",
        "# Create agents\n",
        "researcher = Agent(\n",
        "    role='Research Analyst',\n",
        "    goal='Research and analyze topics thoroughly',\n",
        "    backstory='Expert researcher with analytical skills',\n",
        "    llm=openrouter_llm,\n",
        "    verbose=True\n",
        ")\n",
        "\n",
        "writer = Agent(\n",
        "    role='Content Writer',\n",
        "    goal='Write engaging and informative content',\n",
        "    backstory='Professional writer with expertise in simplifying complex topics',\n",
        "    llm=openrouter_llm,\n",
        "    verbose=True\n",
        ")\n",
        "\n",
        "# Create tasks\n",
        "research_task = Task(\n",
        "    description='Research the latest trends in AI and machine learning',\n",
        "    agent=researcher,\n",
        "    expected_output='A comprehensive research summary'\n",
        ")\n",
        "\n",
        "writing_task = Task(\n",
        "    description='Write a blog post based on the research findings',\n",
        "    agent=writer,\n",
        "    expected_output='A well-written blog post'\n",
        ")\n",
        "\n",
        "# Create crew and execute\n",
        "crew = Crew(\n",
        "    agents=[researcher, writer],\n",
        "    tasks=[research_task, writing_task],\n",
        "    verbose=True\n",
        ")\n",
        "\n",
        "print(\"CrewAI setup complete! Ready to execute collaborative AI tasks.\")"
      ]
    },
    {
      "cell_type": "markdown",
      "metadata": {},
      "source": [
        "## Advanced Features\n",
        "\n",
        "### Streaming Responses"
      ]
    },
    {
      "cell_type": "code",
      "execution_count": null,
      "metadata": {},
      "outputs": [],
      "source": [
        "def stream_response(message, model=\"openai/gpt-3.5-turbo\"):\n",
        "    \"\"\"Stream response from OpenRouter for real-time output\"\"\"\n",
        "    try:\n",
        "        stream = client.chat.completions.create(\n",
        "            model=model,\n",
        "            messages=[{\"role\": \"user\", \"content\": message}],\n",
        "            stream=True,\n",
        "            max_tokens=200\n",
        "        )\n",
        "        \n",
        "        print(\"Streaming response:\")\n",
        "        for chunk in stream:\n",
        "            if chunk.choices[0].delta.content is not None:\n",
        "                print(chunk.choices[0].delta.content, end=\"\", flush=True)\n",
        "        print(\"\\n\\nStream complete!\")\n",
        "        \n",
        "    except Exception as e:\n",
        "        print(f\"Streaming error: {str(e)}\")\n",
        "\n",
        "# Test streaming\n",
        "stream_response(\"Tell me a short story about AI.\")"
      ]
    },
    {
      "cell_type": "markdown",
      "metadata": {},
      "source": [
        "## Best Practices & Tips\n",
        "\n",
        "1. **Security**: You must protect your API keys and never commit them to public repositories\n",
        "2. **Error Handling**: Always implement try-catch blocks for API calls\n",
        "3. **Model Selection**: Choose models based on your specific use case and budget\n",
        "4. **Rate Limits**: Be aware of rate limits and implement appropriate delays\n",
        "5. **Cost Monitoring**: Monitor usage through OpenRouter dashboard\n",
        "\n",
        "### Environment Variables Template (.env file):\n",
        "```\n",
        "OPENROUTER_API_KEY=your_openrouter_api_key_here\n",
        "YOUR_SITE_URL=https://yourapp.com\n",
        "YOUR_SITE_NAME=Your App Name\n",
        "```\n",
        "\n",
        "## Conclusion\n",
        "\n",
        "OpenRouter simplifies AI model integration by providing a unified interface to hundreds of models. Whether you're building simple chatbots or complex multi-agent systems with CrewAI, OpenRouter offers the flexibility and reliability needed for production applications.\n",
        "\n",
        "Key takeaways:\n",
        "- Use environment variables for secure API key management\n",
        "- Leverage OpenAI SDK compatibility for easy integration\n",
        "- Experiment with different models to find the best fit\n",
        "- Implement proper error handling and monitoring\n",
        "\n",
        "Start building your AI applications with OpenRouter today!"
      ]
    }
  ],
  "metadata": {
    "kernelspec": {
      "display_name": "Python 3",
      "language": "python",
      "name": "python3"
    },
    "language_info": {
      "codemirror_mode": {
        "name": "ipython",
        "version": 3
      },
      "file_extension": ".py",
      "mimetype": "text/x-python",
      "name": "python",
      "nbconvert_exporter": "python",
      "pygments_lexer": "ipython3",
      "version": "3.8.0"
    }
  },
  "nbformat": 4,
  "nbformat_minor": 4
}